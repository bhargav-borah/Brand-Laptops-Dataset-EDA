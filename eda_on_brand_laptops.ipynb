{
 "cells": [
  {
   "cell_type": "code",
   "execution_count": 1,
   "id": "92b5b250",
   "metadata": {
    "_cell_guid": "b1076dfc-b9ad-4769-8c92-a6c4dae69d19",
    "_uuid": "8f2839f25d086af736a60e9eeb907d3b93b6e0e5",
    "execution": {
     "iopub.execute_input": "2024-03-13T08:24:16.782899Z",
     "iopub.status.busy": "2024-03-13T08:24:16.782066Z",
     "iopub.status.idle": "2024-03-13T08:24:19.399412Z",
     "shell.execute_reply": "2024-03-13T08:24:19.396796Z"
    },
    "papermill": {
     "duration": 2.644692,
     "end_time": "2024-03-13T08:24:19.403943",
     "exception": false,
     "start_time": "2024-03-13T08:24:16.759251",
     "status": "completed"
    },
    "tags": []
   },
   "outputs": [],
   "source": [
    "# Import libraries\n",
    "import pandas as pd\n",
    "import numpy as np\n",
    "\n",
    "import matplotlib.pyplot as plt\n",
    "import seaborn as sns"
   ]
  },
  {
   "cell_type": "code",
   "execution_count": 2,
   "id": "57f10440",
   "metadata": {
    "execution": {
     "iopub.execute_input": "2024-03-13T08:24:19.453133Z",
     "iopub.status.busy": "2024-03-13T08:24:19.451551Z",
     "iopub.status.idle": "2024-03-13T08:24:19.534150Z",
     "shell.execute_reply": "2024-03-13T08:24:19.532953Z"
    },
    "papermill": {
     "duration": 0.108778,
     "end_time": "2024-03-13T08:24:19.537454",
     "exception": false,
     "start_time": "2024-03-13T08:24:19.428676",
     "status": "completed"
    },
    "tags": []
   },
   "outputs": [
    {
     "data": {
      "text/html": [
       "<div>\n",
       "<style scoped>\n",
       "    .dataframe tbody tr th:only-of-type {\n",
       "        vertical-align: middle;\n",
       "    }\n",
       "\n",
       "    .dataframe tbody tr th {\n",
       "        vertical-align: top;\n",
       "    }\n",
       "\n",
       "    .dataframe thead th {\n",
       "        text-align: right;\n",
       "    }\n",
       "</style>\n",
       "<table border=\"1\" class=\"dataframe\">\n",
       "  <thead>\n",
       "    <tr style=\"text-align: right;\">\n",
       "      <th></th>\n",
       "      <th>index</th>\n",
       "      <th>brand</th>\n",
       "      <th>Model</th>\n",
       "      <th>Price</th>\n",
       "      <th>Rating</th>\n",
       "      <th>processor_brand</th>\n",
       "      <th>processor_tier</th>\n",
       "      <th>num_cores</th>\n",
       "      <th>num_threads</th>\n",
       "      <th>ram_memory</th>\n",
       "      <th>...</th>\n",
       "      <th>secondary_storage_type</th>\n",
       "      <th>secondary_storage_capacity</th>\n",
       "      <th>gpu_brand</th>\n",
       "      <th>gpu_type</th>\n",
       "      <th>is_touch_screen</th>\n",
       "      <th>display_size</th>\n",
       "      <th>resolution_width</th>\n",
       "      <th>resolution_height</th>\n",
       "      <th>OS</th>\n",
       "      <th>year_of_warranty</th>\n",
       "    </tr>\n",
       "  </thead>\n",
       "  <tbody>\n",
       "    <tr>\n",
       "      <th>0</th>\n",
       "      <td>1</td>\n",
       "      <td>tecno</td>\n",
       "      <td>Tecno Megabook T1 Laptop (11th Gen Core i3/ 8G...</td>\n",
       "      <td>23990</td>\n",
       "      <td>63</td>\n",
       "      <td>intel</td>\n",
       "      <td>core i3</td>\n",
       "      <td>2</td>\n",
       "      <td>4</td>\n",
       "      <td>8</td>\n",
       "      <td>...</td>\n",
       "      <td>No secondary storage</td>\n",
       "      <td>0</td>\n",
       "      <td>intel</td>\n",
       "      <td>integrated</td>\n",
       "      <td>False</td>\n",
       "      <td>15.6</td>\n",
       "      <td>1920</td>\n",
       "      <td>1080</td>\n",
       "      <td>windows</td>\n",
       "      <td>1</td>\n",
       "    </tr>\n",
       "    <tr>\n",
       "      <th>1</th>\n",
       "      <td>2</td>\n",
       "      <td>tecno</td>\n",
       "      <td>Tecno Megabook T1 Laptop (11th Gen Core i7/ 16...</td>\n",
       "      <td>35990</td>\n",
       "      <td>67</td>\n",
       "      <td>intel</td>\n",
       "      <td>core i7</td>\n",
       "      <td>4</td>\n",
       "      <td>8</td>\n",
       "      <td>16</td>\n",
       "      <td>...</td>\n",
       "      <td>No secondary storage</td>\n",
       "      <td>0</td>\n",
       "      <td>intel</td>\n",
       "      <td>integrated</td>\n",
       "      <td>False</td>\n",
       "      <td>15.6</td>\n",
       "      <td>1920</td>\n",
       "      <td>1080</td>\n",
       "      <td>windows</td>\n",
       "      <td>1</td>\n",
       "    </tr>\n",
       "    <tr>\n",
       "      <th>2</th>\n",
       "      <td>3</td>\n",
       "      <td>hp</td>\n",
       "      <td>HP Victus 15-fb0157AX Gaming Laptop (AMD Ryzen...</td>\n",
       "      <td>51100</td>\n",
       "      <td>73</td>\n",
       "      <td>amd</td>\n",
       "      <td>ryzen 5</td>\n",
       "      <td>6</td>\n",
       "      <td>12</td>\n",
       "      <td>8</td>\n",
       "      <td>...</td>\n",
       "      <td>No secondary storage</td>\n",
       "      <td>0</td>\n",
       "      <td>amd</td>\n",
       "      <td>dedicated</td>\n",
       "      <td>False</td>\n",
       "      <td>15.6</td>\n",
       "      <td>1920</td>\n",
       "      <td>1080</td>\n",
       "      <td>windows</td>\n",
       "      <td>1</td>\n",
       "    </tr>\n",
       "    <tr>\n",
       "      <th>3</th>\n",
       "      <td>4</td>\n",
       "      <td>acer</td>\n",
       "      <td>Acer Extensa EX214-53 Laptop (12th Gen Core i5...</td>\n",
       "      <td>39990</td>\n",
       "      <td>62</td>\n",
       "      <td>intel</td>\n",
       "      <td>core i5</td>\n",
       "      <td>12</td>\n",
       "      <td>16</td>\n",
       "      <td>8</td>\n",
       "      <td>...</td>\n",
       "      <td>No secondary storage</td>\n",
       "      <td>0</td>\n",
       "      <td>intel</td>\n",
       "      <td>integrated</td>\n",
       "      <td>False</td>\n",
       "      <td>14.0</td>\n",
       "      <td>1920</td>\n",
       "      <td>1080</td>\n",
       "      <td>windows</td>\n",
       "      <td>1</td>\n",
       "    </tr>\n",
       "    <tr>\n",
       "      <th>4</th>\n",
       "      <td>5</td>\n",
       "      <td>lenovo</td>\n",
       "      <td>Lenovo V15 82KDA01BIH Laptop (AMD Ryzen 3 5300...</td>\n",
       "      <td>28580</td>\n",
       "      <td>62</td>\n",
       "      <td>amd</td>\n",
       "      <td>ryzen 3</td>\n",
       "      <td>4</td>\n",
       "      <td>8</td>\n",
       "      <td>8</td>\n",
       "      <td>...</td>\n",
       "      <td>No secondary storage</td>\n",
       "      <td>0</td>\n",
       "      <td>amd</td>\n",
       "      <td>integrated</td>\n",
       "      <td>False</td>\n",
       "      <td>15.6</td>\n",
       "      <td>1920</td>\n",
       "      <td>1080</td>\n",
       "      <td>windows</td>\n",
       "      <td>1</td>\n",
       "    </tr>\n",
       "  </tbody>\n",
       "</table>\n",
       "<p>5 rows × 22 columns</p>\n",
       "</div>"
      ],
      "text/plain": [
       "   index   brand                                              Model  Price  \\\n",
       "0      1   tecno  Tecno Megabook T1 Laptop (11th Gen Core i3/ 8G...  23990   \n",
       "1      2   tecno  Tecno Megabook T1 Laptop (11th Gen Core i7/ 16...  35990   \n",
       "2      3      hp  HP Victus 15-fb0157AX Gaming Laptop (AMD Ryzen...  51100   \n",
       "3      4    acer  Acer Extensa EX214-53 Laptop (12th Gen Core i5...  39990   \n",
       "4      5  lenovo  Lenovo V15 82KDA01BIH Laptop (AMD Ryzen 3 5300...  28580   \n",
       "\n",
       "   Rating processor_brand processor_tier  num_cores  num_threads  ram_memory  \\\n",
       "0      63           intel        core i3          2            4           8   \n",
       "1      67           intel        core i7          4            8          16   \n",
       "2      73             amd        ryzen 5          6           12           8   \n",
       "3      62           intel        core i5         12           16           8   \n",
       "4      62             amd        ryzen 3          4            8           8   \n",
       "\n",
       "   ... secondary_storage_type  secondary_storage_capacity gpu_brand  \\\n",
       "0  ...   No secondary storage                           0     intel   \n",
       "1  ...   No secondary storage                           0     intel   \n",
       "2  ...   No secondary storage                           0       amd   \n",
       "3  ...   No secondary storage                           0     intel   \n",
       "4  ...   No secondary storage                           0       amd   \n",
       "\n",
       "     gpu_type is_touch_screen display_size  resolution_width  \\\n",
       "0  integrated           False         15.6              1920   \n",
       "1  integrated           False         15.6              1920   \n",
       "2   dedicated           False         15.6              1920   \n",
       "3  integrated           False         14.0              1920   \n",
       "4  integrated           False         15.6              1920   \n",
       "\n",
       "   resolution_height       OS  year_of_warranty  \n",
       "0               1080  windows                 1  \n",
       "1               1080  windows                 1  \n",
       "2               1080  windows                 1  \n",
       "3               1080  windows                 1  \n",
       "4               1080  windows                 1  \n",
       "\n",
       "[5 rows x 22 columns]"
      ]
     },
     "execution_count": 2,
     "metadata": {},
     "output_type": "execute_result"
    }
   ],
   "source": [
    "# Read the CSV file\n",
    "df = pd.read_csv('/kaggle/input/brand-laptops-dataset/laptops.csv')\n",
    "df.head()"
   ]
  },
  {
   "cell_type": "code",
   "execution_count": 3,
   "id": "2fc01da8",
   "metadata": {
    "execution": {
     "iopub.execute_input": "2024-03-13T08:24:19.582644Z",
     "iopub.status.busy": "2024-03-13T08:24:19.581813Z",
     "iopub.status.idle": "2024-03-13T08:24:19.589597Z",
     "shell.execute_reply": "2024-03-13T08:24:19.588315Z"
    },
    "papermill": {
     "duration": 0.033139,
     "end_time": "2024-03-13T08:24:19.591918",
     "exception": false,
     "start_time": "2024-03-13T08:24:19.558779",
     "status": "completed"
    },
    "tags": []
   },
   "outputs": [
    {
     "data": {
      "text/plain": [
       "Index(['index', 'brand', 'Model', 'Price', 'Rating', 'processor_brand',\n",
       "       'processor_tier', 'num_cores', 'num_threads', 'ram_memory',\n",
       "       'primary_storage_type', 'primary_storage_capacity',\n",
       "       'secondary_storage_type', 'secondary_storage_capacity', 'gpu_brand',\n",
       "       'gpu_type', 'is_touch_screen', 'display_size', 'resolution_width',\n",
       "       'resolution_height', 'OS', 'year_of_warranty'],\n",
       "      dtype='object')"
      ]
     },
     "execution_count": 3,
     "metadata": {},
     "output_type": "execute_result"
    }
   ],
   "source": [
    "df.columns"
   ]
  },
  {
   "cell_type": "code",
   "execution_count": 4,
   "id": "aacce57e",
   "metadata": {
    "execution": {
     "iopub.execute_input": "2024-03-13T08:24:19.638579Z",
     "iopub.status.busy": "2024-03-13T08:24:19.637223Z",
     "iopub.status.idle": "2024-03-13T08:24:19.647890Z",
     "shell.execute_reply": "2024-03-13T08:24:19.646705Z"
    },
    "papermill": {
     "duration": 0.03535,
     "end_time": "2024-03-13T08:24:19.650388",
     "exception": false,
     "start_time": "2024-03-13T08:24:19.615038",
     "status": "completed"
    },
    "tags": []
   },
   "outputs": [
    {
     "data": {
      "text/plain": [
       "Index(['index', 'brand', 'model', 'price', 'rating', 'processor_brand',\n",
       "       'processor_tier', 'num_cores', 'num_threads', 'ram_memory',\n",
       "       'primary_storage_type', 'primary_storage_capacity',\n",
       "       'secondary_storage_type', 'secondary_storage_capacity', 'gpu_brand',\n",
       "       'gpu_type', 'is_touch_screen', 'display_size', 'resolution_width',\n",
       "       'resolution_height', 'OS', 'year_of_warranty'],\n",
       "      dtype='object')"
      ]
     },
     "execution_count": 4,
     "metadata": {},
     "output_type": "execute_result"
    }
   ],
   "source": [
    "# Make names of the columns consistent\n",
    "df = df.rename(columns={'Model': 'model',\n",
    "                        'Price': 'price',\n",
    "                        'Rating': 'rating'})\n",
    "df.columns"
   ]
  },
  {
   "cell_type": "code",
   "execution_count": 5,
   "id": "947428e6",
   "metadata": {
    "execution": {
     "iopub.execute_input": "2024-03-13T08:24:19.696968Z",
     "iopub.status.busy": "2024-03-13T08:24:19.696266Z",
     "iopub.status.idle": "2024-03-13T08:24:19.722011Z",
     "shell.execute_reply": "2024-03-13T08:24:19.720082Z"
    },
    "papermill": {
     "duration": 0.051943,
     "end_time": "2024-03-13T08:24:19.724724",
     "exception": false,
     "start_time": "2024-03-13T08:24:19.672781",
     "status": "completed"
    },
    "tags": []
   },
   "outputs": [
    {
     "data": {
      "text/html": [
       "<div>\n",
       "<style scoped>\n",
       "    .dataframe tbody tr th:only-of-type {\n",
       "        vertical-align: middle;\n",
       "    }\n",
       "\n",
       "    .dataframe tbody tr th {\n",
       "        vertical-align: top;\n",
       "    }\n",
       "\n",
       "    .dataframe thead th {\n",
       "        text-align: right;\n",
       "    }\n",
       "</style>\n",
       "<table border=\"1\" class=\"dataframe\">\n",
       "  <thead>\n",
       "    <tr style=\"text-align: right;\">\n",
       "      <th></th>\n",
       "      <th>brand</th>\n",
       "      <th>model</th>\n",
       "      <th>price</th>\n",
       "      <th>rating</th>\n",
       "      <th>processor_brand</th>\n",
       "      <th>processor_tier</th>\n",
       "      <th>num_cores</th>\n",
       "      <th>num_threads</th>\n",
       "      <th>ram_memory</th>\n",
       "      <th>primary_storage_type</th>\n",
       "      <th>...</th>\n",
       "      <th>secondary_storage_type</th>\n",
       "      <th>secondary_storage_capacity</th>\n",
       "      <th>gpu_brand</th>\n",
       "      <th>gpu_type</th>\n",
       "      <th>is_touch_screen</th>\n",
       "      <th>display_size</th>\n",
       "      <th>resolution_width</th>\n",
       "      <th>resolution_height</th>\n",
       "      <th>OS</th>\n",
       "      <th>year_of_warranty</th>\n",
       "    </tr>\n",
       "  </thead>\n",
       "  <tbody>\n",
       "    <tr>\n",
       "      <th>0</th>\n",
       "      <td>tecno</td>\n",
       "      <td>Tecno Megabook T1 Laptop (11th Gen Core i3/ 8G...</td>\n",
       "      <td>23990</td>\n",
       "      <td>63</td>\n",
       "      <td>intel</td>\n",
       "      <td>core i3</td>\n",
       "      <td>2</td>\n",
       "      <td>4</td>\n",
       "      <td>8</td>\n",
       "      <td>SSD</td>\n",
       "      <td>...</td>\n",
       "      <td>No secondary storage</td>\n",
       "      <td>0</td>\n",
       "      <td>intel</td>\n",
       "      <td>integrated</td>\n",
       "      <td>False</td>\n",
       "      <td>15.6</td>\n",
       "      <td>1920</td>\n",
       "      <td>1080</td>\n",
       "      <td>windows</td>\n",
       "      <td>1</td>\n",
       "    </tr>\n",
       "    <tr>\n",
       "      <th>1</th>\n",
       "      <td>tecno</td>\n",
       "      <td>Tecno Megabook T1 Laptop (11th Gen Core i7/ 16...</td>\n",
       "      <td>35990</td>\n",
       "      <td>67</td>\n",
       "      <td>intel</td>\n",
       "      <td>core i7</td>\n",
       "      <td>4</td>\n",
       "      <td>8</td>\n",
       "      <td>16</td>\n",
       "      <td>SSD</td>\n",
       "      <td>...</td>\n",
       "      <td>No secondary storage</td>\n",
       "      <td>0</td>\n",
       "      <td>intel</td>\n",
       "      <td>integrated</td>\n",
       "      <td>False</td>\n",
       "      <td>15.6</td>\n",
       "      <td>1920</td>\n",
       "      <td>1080</td>\n",
       "      <td>windows</td>\n",
       "      <td>1</td>\n",
       "    </tr>\n",
       "    <tr>\n",
       "      <th>2</th>\n",
       "      <td>hp</td>\n",
       "      <td>HP Victus 15-fb0157AX Gaming Laptop (AMD Ryzen...</td>\n",
       "      <td>51100</td>\n",
       "      <td>73</td>\n",
       "      <td>amd</td>\n",
       "      <td>ryzen 5</td>\n",
       "      <td>6</td>\n",
       "      <td>12</td>\n",
       "      <td>8</td>\n",
       "      <td>SSD</td>\n",
       "      <td>...</td>\n",
       "      <td>No secondary storage</td>\n",
       "      <td>0</td>\n",
       "      <td>amd</td>\n",
       "      <td>dedicated</td>\n",
       "      <td>False</td>\n",
       "      <td>15.6</td>\n",
       "      <td>1920</td>\n",
       "      <td>1080</td>\n",
       "      <td>windows</td>\n",
       "      <td>1</td>\n",
       "    </tr>\n",
       "    <tr>\n",
       "      <th>3</th>\n",
       "      <td>acer</td>\n",
       "      <td>Acer Extensa EX214-53 Laptop (12th Gen Core i5...</td>\n",
       "      <td>39990</td>\n",
       "      <td>62</td>\n",
       "      <td>intel</td>\n",
       "      <td>core i5</td>\n",
       "      <td>12</td>\n",
       "      <td>16</td>\n",
       "      <td>8</td>\n",
       "      <td>SSD</td>\n",
       "      <td>...</td>\n",
       "      <td>No secondary storage</td>\n",
       "      <td>0</td>\n",
       "      <td>intel</td>\n",
       "      <td>integrated</td>\n",
       "      <td>False</td>\n",
       "      <td>14.0</td>\n",
       "      <td>1920</td>\n",
       "      <td>1080</td>\n",
       "      <td>windows</td>\n",
       "      <td>1</td>\n",
       "    </tr>\n",
       "    <tr>\n",
       "      <th>4</th>\n",
       "      <td>lenovo</td>\n",
       "      <td>Lenovo V15 82KDA01BIH Laptop (AMD Ryzen 3 5300...</td>\n",
       "      <td>28580</td>\n",
       "      <td>62</td>\n",
       "      <td>amd</td>\n",
       "      <td>ryzen 3</td>\n",
       "      <td>4</td>\n",
       "      <td>8</td>\n",
       "      <td>8</td>\n",
       "      <td>SSD</td>\n",
       "      <td>...</td>\n",
       "      <td>No secondary storage</td>\n",
       "      <td>0</td>\n",
       "      <td>amd</td>\n",
       "      <td>integrated</td>\n",
       "      <td>False</td>\n",
       "      <td>15.6</td>\n",
       "      <td>1920</td>\n",
       "      <td>1080</td>\n",
       "      <td>windows</td>\n",
       "      <td>1</td>\n",
       "    </tr>\n",
       "  </tbody>\n",
       "</table>\n",
       "<p>5 rows × 21 columns</p>\n",
       "</div>"
      ],
      "text/plain": [
       "    brand                                              model  price  rating  \\\n",
       "0   tecno  Tecno Megabook T1 Laptop (11th Gen Core i3/ 8G...  23990      63   \n",
       "1   tecno  Tecno Megabook T1 Laptop (11th Gen Core i7/ 16...  35990      67   \n",
       "2      hp  HP Victus 15-fb0157AX Gaming Laptop (AMD Ryzen...  51100      73   \n",
       "3    acer  Acer Extensa EX214-53 Laptop (12th Gen Core i5...  39990      62   \n",
       "4  lenovo  Lenovo V15 82KDA01BIH Laptop (AMD Ryzen 3 5300...  28580      62   \n",
       "\n",
       "  processor_brand processor_tier  num_cores  num_threads  ram_memory  \\\n",
       "0           intel        core i3          2            4           8   \n",
       "1           intel        core i7          4            8          16   \n",
       "2             amd        ryzen 5          6           12           8   \n",
       "3           intel        core i5         12           16           8   \n",
       "4             amd        ryzen 3          4            8           8   \n",
       "\n",
       "  primary_storage_type  ...  secondary_storage_type  \\\n",
       "0                  SSD  ...    No secondary storage   \n",
       "1                  SSD  ...    No secondary storage   \n",
       "2                  SSD  ...    No secondary storage   \n",
       "3                  SSD  ...    No secondary storage   \n",
       "4                  SSD  ...    No secondary storage   \n",
       "\n",
       "  secondary_storage_capacity  gpu_brand    gpu_type is_touch_screen  \\\n",
       "0                          0      intel  integrated           False   \n",
       "1                          0      intel  integrated           False   \n",
       "2                          0        amd   dedicated           False   \n",
       "3                          0      intel  integrated           False   \n",
       "4                          0        amd  integrated           False   \n",
       "\n",
       "   display_size  resolution_width  resolution_height       OS year_of_warranty  \n",
       "0          15.6              1920               1080  windows                1  \n",
       "1          15.6              1920               1080  windows                1  \n",
       "2          15.6              1920               1080  windows                1  \n",
       "3          14.0              1920               1080  windows                1  \n",
       "4          15.6              1920               1080  windows                1  \n",
       "\n",
       "[5 rows x 21 columns]"
      ]
     },
     "execution_count": 5,
     "metadata": {},
     "output_type": "execute_result"
    }
   ],
   "source": [
    "# Get rid of the 'index' column\n",
    "df = df.drop(columns=['index'])\n",
    "df.head()"
   ]
  },
  {
   "cell_type": "code",
   "execution_count": 6,
   "id": "0423b716",
   "metadata": {
    "execution": {
     "iopub.execute_input": "2024-03-13T08:24:19.771444Z",
     "iopub.status.busy": "2024-03-13T08:24:19.769984Z",
     "iopub.status.idle": "2024-03-13T08:24:19.782821Z",
     "shell.execute_reply": "2024-03-13T08:24:19.781177Z"
    },
    "papermill": {
     "duration": 0.03877,
     "end_time": "2024-03-13T08:24:19.785605",
     "exception": false,
     "start_time": "2024-03-13T08:24:19.746835",
     "status": "completed"
    },
    "tags": []
   },
   "outputs": [
    {
     "data": {
      "text/plain": [
       "brand                         0\n",
       "model                         0\n",
       "price                         0\n",
       "rating                        0\n",
       "processor_brand               0\n",
       "processor_tier                0\n",
       "num_cores                     0\n",
       "num_threads                   0\n",
       "ram_memory                    0\n",
       "primary_storage_type          0\n",
       "primary_storage_capacity      0\n",
       "secondary_storage_type        0\n",
       "secondary_storage_capacity    0\n",
       "gpu_brand                     0\n",
       "gpu_type                      0\n",
       "is_touch_screen               0\n",
       "display_size                  0\n",
       "resolution_width              0\n",
       "resolution_height             0\n",
       "OS                            0\n",
       "year_of_warranty              0\n",
       "dtype: int64"
      ]
     },
     "execution_count": 6,
     "metadata": {},
     "output_type": "execute_result"
    }
   ],
   "source": [
    "# Check for null values\n",
    "df.isnull().sum()"
   ]
  },
  {
   "cell_type": "code",
   "execution_count": 7,
   "id": "f5b56e3f",
   "metadata": {
    "execution": {
     "iopub.execute_input": "2024-03-13T08:24:19.831500Z",
     "iopub.status.busy": "2024-03-13T08:24:19.831061Z",
     "iopub.status.idle": "2024-03-13T08:24:19.858185Z",
     "shell.execute_reply": "2024-03-13T08:24:19.857442Z"
    },
    "papermill": {
     "duration": 0.052801,
     "end_time": "2024-03-13T08:24:19.860532",
     "exception": false,
     "start_time": "2024-03-13T08:24:19.807731",
     "status": "completed"
    },
    "tags": []
   },
   "outputs": [
    {
     "name": "stdout",
     "output_type": "stream",
     "text": [
      "<class 'pandas.core.frame.DataFrame'>\n",
      "RangeIndex: 991 entries, 0 to 990\n",
      "Data columns (total 21 columns):\n",
      " #   Column                      Non-Null Count  Dtype  \n",
      "---  ------                      --------------  -----  \n",
      " 0   brand                       991 non-null    object \n",
      " 1   model                       991 non-null    object \n",
      " 2   price                       991 non-null    int64  \n",
      " 3   rating                      991 non-null    int64  \n",
      " 4   processor_brand             991 non-null    object \n",
      " 5   processor_tier              991 non-null    object \n",
      " 6   num_cores                   991 non-null    int64  \n",
      " 7   num_threads                 991 non-null    int64  \n",
      " 8   ram_memory                  991 non-null    int64  \n",
      " 9   primary_storage_type        991 non-null    object \n",
      " 10  primary_storage_capacity    991 non-null    int64  \n",
      " 11  secondary_storage_type      991 non-null    object \n",
      " 12  secondary_storage_capacity  991 non-null    int64  \n",
      " 13  gpu_brand                   991 non-null    object \n",
      " 14  gpu_type                    991 non-null    object \n",
      " 15  is_touch_screen             991 non-null    bool   \n",
      " 16  display_size                991 non-null    float64\n",
      " 17  resolution_width            991 non-null    int64  \n",
      " 18  resolution_height           991 non-null    int64  \n",
      " 19  OS                          991 non-null    object \n",
      " 20  year_of_warranty            991 non-null    object \n",
      "dtypes: bool(1), float64(1), int64(9), object(10)\n",
      "memory usage: 155.9+ KB\n"
     ]
    }
   ],
   "source": [
    "# Check df info\n",
    "df.info()"
   ]
  },
  {
   "cell_type": "code",
   "execution_count": 8,
   "id": "1aae72b9",
   "metadata": {
    "execution": {
     "iopub.execute_input": "2024-03-13T08:24:19.905008Z",
     "iopub.status.busy": "2024-03-13T08:24:19.904428Z",
     "iopub.status.idle": "2024-03-13T08:24:19.914204Z",
     "shell.execute_reply": "2024-03-13T08:24:19.912543Z"
    },
    "papermill": {
     "duration": 0.034615,
     "end_time": "2024-03-13T08:24:19.916750",
     "exception": false,
     "start_time": "2024-03-13T08:24:19.882135",
     "status": "completed"
    },
    "tags": []
   },
   "outputs": [
    {
     "data": {
      "text/plain": [
       "0"
      ]
     },
     "execution_count": 8,
     "metadata": {},
     "output_type": "execute_result"
    }
   ],
   "source": [
    "# Check for duplicated values\n",
    "df.duplicated().sum()"
   ]
  },
  {
   "cell_type": "code",
   "execution_count": 9,
   "id": "2307e08f",
   "metadata": {
    "execution": {
     "iopub.execute_input": "2024-03-13T08:24:19.961855Z",
     "iopub.status.busy": "2024-03-13T08:24:19.961053Z",
     "iopub.status.idle": "2024-03-13T08:24:19.969276Z",
     "shell.execute_reply": "2024-03-13T08:24:19.968065Z"
    },
    "papermill": {
     "duration": 0.033437,
     "end_time": "2024-03-13T08:24:19.971543",
     "exception": false,
     "start_time": "2024-03-13T08:24:19.938106",
     "status": "completed"
    },
    "tags": []
   },
   "outputs": [
    {
     "data": {
      "text/plain": [
       "brand\n",
       "asus         210\n",
       "hp           205\n",
       "lenovo       201\n",
       "dell         106\n",
       "msi           90\n",
       "acer          89\n",
       "apple         15\n",
       "infinix       13\n",
       "samsung        7\n",
       "zebronics      7\n",
       "lg             7\n",
       "ultimus        6\n",
       "fujitsu        5\n",
       "avita          5\n",
       "wings          4\n",
       "chuwi          4\n",
       "realme         2\n",
       "microsoft      2\n",
       "tecno          2\n",
       "axl            2\n",
       "honor          2\n",
       "gigabyte       2\n",
       "primebook      2\n",
       "jio            1\n",
       "walker         1\n",
       "iball          1\n",
       "Name: count, dtype: int64"
      ]
     },
     "execution_count": 9,
     "metadata": {},
     "output_type": "execute_result"
    }
   ],
   "source": [
    "# Let's explore the 'brand' feature\n",
    "df['brand'].value_counts()"
   ]
  },
  {
   "cell_type": "code",
   "execution_count": 10,
   "id": "c52602ad",
   "metadata": {
    "execution": {
     "iopub.execute_input": "2024-03-13T08:24:20.018470Z",
     "iopub.status.busy": "2024-03-13T08:24:20.017714Z",
     "iopub.status.idle": "2024-03-13T08:24:20.026625Z",
     "shell.execute_reply": "2024-03-13T08:24:20.025380Z"
    },
    "papermill": {
     "duration": 0.036374,
     "end_time": "2024-03-13T08:24:20.029501",
     "exception": false,
     "start_time": "2024-03-13T08:24:19.993127",
     "status": "completed"
    },
    "tags": []
   },
   "outputs": [],
   "source": [
    "brand_counts = df['brand'].value_counts().reset_index()\n",
    "brand_counts = brand_counts.sort_values(by='count', ascending=False)"
   ]
  },
  {
   "cell_type": "code",
   "execution_count": 11,
   "id": "c26594a8",
   "metadata": {
    "execution": {
     "iopub.execute_input": "2024-03-13T08:24:20.142734Z",
     "iopub.status.busy": "2024-03-13T08:24:20.142330Z",
     "iopub.status.idle": "2024-03-13T08:24:21.058198Z",
     "shell.execute_reply": "2024-03-13T08:24:21.056935Z"
    },
    "papermill": {
     "duration": 1.008624,
     "end_time": "2024-03-13T08:24:21.060709",
     "exception": false,
     "start_time": "2024-03-13T08:24:20.052085",
     "status": "completed"
    },
    "tags": []
   },
   "outputs": [
    {
     "data": {
      "image/png": "[encoded data removed]",
      "text/plain": [
       "<Figure size 1000x700 with 1 Axes>"
      ]
     },
     "metadata": {},
     "output_type": "display_data"
    }
   ],
   "source": [
    "sns.set_style('whitegrid')\n",
    "plt.figure(figsize=(10, 7))\n",
    "\n",
    "sns.countplot(data=df, x='brand', order=brand_counts['brand'])\n",
    "\n",
    "plt.title('Distribution of Brands', fontsize=16)\n",
    "plt.xlabel('Brand', fontsize=14)\n",
    "plt.ylabel('Count', fontsize=14)\n",
    "plt.xticks(rotation=45)\n",
    "\n",
    "plt.tight_layout()\n",
    "plt.show()"
   ]
  },
  {
   "cell_type": "code",
   "execution_count": 12,
   "id": "7d327907",
   "metadata": {
    "execution": {
     "iopub.execute_input": "2024-03-13T08:24:21.109405Z",
     "iopub.status.busy": "2024-03-13T08:24:21.108962Z",
     "iopub.status.idle": "2024-03-13T08:24:21.133712Z",
     "shell.execute_reply": "2024-03-13T08:24:21.132469Z"
    },
    "papermill": {
     "duration": 0.052278,
     "end_time": "2024-03-13T08:24:21.136547",
     "exception": false,
     "start_time": "2024-03-13T08:24:21.084269",
     "status": "completed"
    },
    "tags": []
   },
   "outputs": [
    {
     "data": {
      "text/html": [
       "<div>\n",
       "<style scoped>\n",
       "    .dataframe tbody tr th:only-of-type {\n",
       "        vertical-align: middle;\n",
       "    }\n",
       "\n",
       "    .dataframe tbody tr th {\n",
       "        vertical-align: top;\n",
       "    }\n",
       "\n",
       "    .dataframe thead th {\n",
       "        text-align: right;\n",
       "    }\n",
       "</style>\n",
       "<table border=\"1\" class=\"dataframe\">\n",
       "  <thead>\n",
       "    <tr style=\"text-align: right;\">\n",
       "      <th></th>\n",
       "      <th>brand</th>\n",
       "      <th>mean</th>\n",
       "      <th>median</th>\n",
       "    </tr>\n",
       "  </thead>\n",
       "  <tbody>\n",
       "    <tr>\n",
       "      <th>0</th>\n",
       "      <td>apple</td>\n",
       "      <td>193875.333333</td>\n",
       "      <td>169900.0</td>\n",
       "    </tr>\n",
       "    <tr>\n",
       "      <th>1</th>\n",
       "      <td>lg</td>\n",
       "      <td>115284.714286</td>\n",
       "      <td>117899.0</td>\n",
       "    </tr>\n",
       "    <tr>\n",
       "      <th>2</th>\n",
       "      <td>dell</td>\n",
       "      <td>101701.132075</td>\n",
       "      <td>69494.5</td>\n",
       "    </tr>\n",
       "    <tr>\n",
       "      <th>3</th>\n",
       "      <td>msi</td>\n",
       "      <td>94260.433333</td>\n",
       "      <td>71490.0</td>\n",
       "    </tr>\n",
       "    <tr>\n",
       "      <th>4</th>\n",
       "      <td>microsoft</td>\n",
       "      <td>88740.000000</td>\n",
       "      <td>88740.0</td>\n",
       "    </tr>\n",
       "    <tr>\n",
       "      <th>5</th>\n",
       "      <td>fujitsu</td>\n",
       "      <td>82890.800000</td>\n",
       "      <td>73990.0</td>\n",
       "    </tr>\n",
       "    <tr>\n",
       "      <th>6</th>\n",
       "      <td>gigabyte</td>\n",
       "      <td>80990.000000</td>\n",
       "      <td>80990.0</td>\n",
       "    </tr>\n",
       "    <tr>\n",
       "      <th>7</th>\n",
       "      <td>asus</td>\n",
       "      <td>78290.223810</td>\n",
       "      <td>69839.5</td>\n",
       "    </tr>\n",
       "    <tr>\n",
       "      <th>8</th>\n",
       "      <td>hp</td>\n",
       "      <td>76005.604878</td>\n",
       "      <td>60999.0</td>\n",
       "    </tr>\n",
       "    <tr>\n",
       "      <th>9</th>\n",
       "      <td>samsung</td>\n",
       "      <td>67990.000000</td>\n",
       "      <td>64990.0</td>\n",
       "    </tr>\n",
       "    <tr>\n",
       "      <th>10</th>\n",
       "      <td>lenovo</td>\n",
       "      <td>65527.562189</td>\n",
       "      <td>54990.0</td>\n",
       "    </tr>\n",
       "    <tr>\n",
       "      <th>11</th>\n",
       "      <td>acer</td>\n",
       "      <td>62847.876404</td>\n",
       "      <td>46990.0</td>\n",
       "    </tr>\n",
       "    <tr>\n",
       "      <th>12</th>\n",
       "      <td>honor</td>\n",
       "      <td>49490.000000</td>\n",
       "      <td>49490.0</td>\n",
       "    </tr>\n",
       "    <tr>\n",
       "      <th>13</th>\n",
       "      <td>realme</td>\n",
       "      <td>39990.000000</td>\n",
       "      <td>39990.0</td>\n",
       "    </tr>\n",
       "    <tr>\n",
       "      <th>14</th>\n",
       "      <td>zebronics</td>\n",
       "      <td>39132.857143</td>\n",
       "      <td>33990.0</td>\n",
       "    </tr>\n",
       "    <tr>\n",
       "      <th>15</th>\n",
       "      <td>infinix</td>\n",
       "      <td>38220.769231</td>\n",
       "      <td>35990.0</td>\n",
       "    </tr>\n",
       "    <tr>\n",
       "      <th>16</th>\n",
       "      <td>tecno</td>\n",
       "      <td>29990.000000</td>\n",
       "      <td>29990.0</td>\n",
       "    </tr>\n",
       "    <tr>\n",
       "      <th>17</th>\n",
       "      <td>wings</td>\n",
       "      <td>29990.000000</td>\n",
       "      <td>27490.0</td>\n",
       "    </tr>\n",
       "    <tr>\n",
       "      <th>18</th>\n",
       "      <td>chuwi</td>\n",
       "      <td>28740.000000</td>\n",
       "      <td>28990.0</td>\n",
       "    </tr>\n",
       "    <tr>\n",
       "      <th>19</th>\n",
       "      <td>avita</td>\n",
       "      <td>25461.800000</td>\n",
       "      <td>21390.0</td>\n",
       "    </tr>\n",
       "    <tr>\n",
       "      <th>20</th>\n",
       "      <td>ultimus</td>\n",
       "      <td>17060.500000</td>\n",
       "      <td>16240.0</td>\n",
       "    </tr>\n",
       "    <tr>\n",
       "      <th>21</th>\n",
       "      <td>axl</td>\n",
       "      <td>16490.000000</td>\n",
       "      <td>16490.0</td>\n",
       "    </tr>\n",
       "    <tr>\n",
       "      <th>22</th>\n",
       "      <td>walker</td>\n",
       "      <td>15990.000000</td>\n",
       "      <td>15990.0</td>\n",
       "    </tr>\n",
       "    <tr>\n",
       "      <th>23</th>\n",
       "      <td>jio</td>\n",
       "      <td>14701.000000</td>\n",
       "      <td>14701.0</td>\n",
       "    </tr>\n",
       "    <tr>\n",
       "      <th>24</th>\n",
       "      <td>primebook</td>\n",
       "      <td>13990.000000</td>\n",
       "      <td>13990.0</td>\n",
       "    </tr>\n",
       "    <tr>\n",
       "      <th>25</th>\n",
       "      <td>iball</td>\n",
       "      <td>9800.000000</td>\n",
       "      <td>9800.0</td>\n",
       "    </tr>\n",
       "  </tbody>\n",
       "</table>\n",
       "</div>"
      ],
      "text/plain": [
       "        brand           mean    median\n",
       "0       apple  193875.333333  169900.0\n",
       "1          lg  115284.714286  117899.0\n",
       "2        dell  101701.132075   69494.5\n",
       "3         msi   94260.433333   71490.0\n",
       "4   microsoft   88740.000000   88740.0\n",
       "5     fujitsu   82890.800000   73990.0\n",
       "6    gigabyte   80990.000000   80990.0\n",
       "7        asus   78290.223810   69839.5\n",
       "8          hp   76005.604878   60999.0\n",
       "9     samsung   67990.000000   64990.0\n",
       "10     lenovo   65527.562189   54990.0\n",
       "11       acer   62847.876404   46990.0\n",
       "12      honor   49490.000000   49490.0\n",
       "13     realme   39990.000000   39990.0\n",
       "14  zebronics   39132.857143   33990.0\n",
       "15    infinix   38220.769231   35990.0\n",
       "16      tecno   29990.000000   29990.0\n",
       "17      wings   29990.000000   27490.0\n",
       "18      chuwi   28740.000000   28990.0\n",
       "19      avita   25461.800000   21390.0\n",
       "20    ultimus   17060.500000   16240.0\n",
       "21        axl   16490.000000   16490.0\n",
       "22     walker   15990.000000   15990.0\n",
       "23        jio   14701.000000   14701.0\n",
       "24  primebook   13990.000000   13990.0\n",
       "25      iball    9800.000000    9800.0"
      ]
     },
     "execution_count": 12,
     "metadata": {},
     "output_type": "execute_result"
    }
   ],
   "source": [
    "brand_stats = df.groupby('brand')['price'].agg(['mean', 'median'])\n",
    "\n",
    "brand_stats.sort_values(by=['mean', 'median'], ascending=[False, False]).reset_index()"
   ]
  },
  {
   "cell_type": "code",
   "execution_count": 13,
   "id": "21e529ba",
   "metadata": {
    "execution": {
     "iopub.execute_input": "2024-03-13T08:24:21.188474Z",
     "iopub.status.busy": "2024-03-13T08:24:21.188015Z",
     "iopub.status.idle": "2024-03-13T08:24:21.672472Z",
     "shell.execute_reply": "2024-03-13T08:24:21.670895Z"
    },
    "papermill": {
     "duration": 0.516065,
     "end_time": "2024-03-13T08:24:21.675411",
     "exception": false,
     "start_time": "2024-03-13T08:24:21.159346",
     "status": "completed"
    },
    "tags": []
   },
   "outputs": [
    {
     "name": "stderr",
     "output_type": "stream",
     "text": [
      "/opt/conda/lib/python3.10/site-packages/seaborn/_oldcore.py:1119: FutureWarning: use_inf_as_na option is deprecated and will be removed in a future version. Convert inf values to NaN before operating instead.\n",
      "  with pd.option_context('mode.use_inf_as_na', True):\n"
     ]
    },
    {
     "data": {
      "image/png": "[encoded data removed]",
      "text/plain": [
       "<Figure size 1000x700 with 1 Axes>"
      ]
     },
     "metadata": {},
     "output_type": "display_data"
    }
   ],
   "source": [
    "sns.set_palette('Set2')\n",
    "plt.figure(figsize=(10, 7))\n",
    "\n",
    "sns.histplot(brand_stats['mean'], bins=15, kde=True)\n",
    "plt.show()"
   ]
  },
  {
   "cell_type": "code",
   "execution_count": 14,
   "id": "3041fd5c",
   "metadata": {
    "execution": {
     "iopub.execute_input": "2024-03-13T08:24:21.725477Z",
     "iopub.status.busy": "2024-03-13T08:24:21.725023Z",
     "iopub.status.idle": "2024-03-13T08:24:22.154391Z",
     "shell.execute_reply": "2024-03-13T08:24:22.153488Z"
    },
    "papermill": {
     "duration": 0.458202,
     "end_time": "2024-03-13T08:24:22.156735",
     "exception": false,
     "start_time": "2024-03-13T08:24:21.698533",
     "status": "completed"
    },
    "tags": []
   },
   "outputs": [
    {
     "name": "stderr",
     "output_type": "stream",
     "text": [
      "/opt/conda/lib/python3.10/site-packages/seaborn/_oldcore.py:1119: FutureWarning: use_inf_as_na option is deprecated and will be removed in a future version. Convert inf values to NaN before operating instead.\n",
      "  with pd.option_context('mode.use_inf_as_na', True):\n"
     ]
    },
    {
     "data": {
      "image/png": "[encoded data removed]",
      "text/plain": [
       "<Figure size 1000x700 with 1 Axes>"
      ]
     },
     "metadata": {},
     "output_type": "display_data"
    }
   ],
   "source": [
    "plt.figure(figsize=(10, 7))\n",
    "\n",
    "sns.histplot(brand_stats['median'], bins=15, kde=True)\n",
    "plt.show()"
   ]
  },
  {
   "cell_type": "code",
   "execution_count": 15,
   "id": "6ac83d16",
   "metadata": {
    "execution": {
     "iopub.execute_input": "2024-03-13T08:24:22.206538Z",
     "iopub.status.busy": "2024-03-13T08:24:22.205868Z",
     "iopub.status.idle": "2024-03-13T08:24:22.213909Z",
     "shell.execute_reply": "2024-03-13T08:24:22.212433Z"
    },
    "papermill": {
     "duration": 0.035699,
     "end_time": "2024-03-13T08:24:22.216889",
     "exception": false,
     "start_time": "2024-03-13T08:24:22.181190",
     "status": "completed"
    },
    "tags": []
   },
   "outputs": [
    {
     "data": {
      "text/plain": [
       "991"
      ]
     },
     "execution_count": 15,
     "metadata": {},
     "output_type": "execute_result"
    }
   ],
   "source": [
    "# let's explore the 'model' feature\n",
    "len(df['model'].unique())"
   ]
  },
  {
   "cell_type": "code",
   "execution_count": 16,
   "id": "503b0dc4",
   "metadata": {
    "execution": {
     "iopub.execute_input": "2024-03-13T08:24:22.268568Z",
     "iopub.status.busy": "2024-03-13T08:24:22.267875Z",
     "iopub.status.idle": "2024-03-13T08:24:22.276605Z",
     "shell.execute_reply": "2024-03-13T08:24:22.275312Z"
    },
    "papermill": {
     "duration": 0.038569,
     "end_time": "2024-03-13T08:24:22.278813",
     "exception": false,
     "start_time": "2024-03-13T08:24:22.240244",
     "status": "completed"
    },
    "tags": []
   },
   "outputs": [
    {
     "data": {
      "text/plain": [
       "0      Tecno Megabook T1 Laptop (11th Gen Core i3/ 8G...\n",
       "1      Tecno Megabook T1 Laptop (11th Gen Core i7/ 16...\n",
       "2      HP Victus 15-fb0157AX Gaming Laptop (AMD Ryzen...\n",
       "3      Acer Extensa EX214-53 Laptop (12th Gen Core i5...\n",
       "4      Lenovo V15 82KDA01BIH Laptop (AMD Ryzen 3 5300...\n",
       "                             ...                        \n",
       "986    Asus Vivobook Pro 15 M6500QC-HN542WS Laptop (R...\n",
       "987    MSI Thin GF63 12VE-070IN Gaming Laptop (12th G...\n",
       "988    Asus Vivobook Go 15 2023 E1504FA-NJ522WS Lapto...\n",
       "989    Asus Zenbook 14 2023 UM3402YA-KP541WS Laptop (...\n",
       "990    HP Chromebook 15a-na0008TU Laptop (Intel Celer...\n",
       "Name: model, Length: 991, dtype: object"
      ]
     },
     "execution_count": 16,
     "metadata": {},
     "output_type": "execute_result"
    }
   ],
   "source": [
    "df['model']"
   ]
  },
  {
   "cell_type": "code",
   "execution_count": 17,
   "id": "d1eec45f",
   "metadata": {
    "execution": {
     "iopub.execute_input": "2024-03-13T08:24:22.329196Z",
     "iopub.status.busy": "2024-03-13T08:24:22.328813Z",
     "iopub.status.idle": "2024-03-13T08:24:22.339131Z",
     "shell.execute_reply": "2024-03-13T08:24:22.338247Z"
    },
    "papermill": {
     "duration": 0.039689,
     "end_time": "2024-03-13T08:24:22.342092",
     "exception": false,
     "start_time": "2024-03-13T08:24:22.302403",
     "status": "completed"
    },
    "tags": []
   },
   "outputs": [
    {
     "data": {
      "text/plain": [
       "count       991.000000\n",
       "mean      77266.504541\n",
       "std       57384.910269\n",
       "min        9800.000000\n",
       "25%       43595.000000\n",
       "50%       61900.000000\n",
       "75%       89245.000000\n",
       "max      454490.000000\n",
       "Name: price, dtype: float64"
      ]
     },
     "execution_count": 17,
     "metadata": {},
     "output_type": "execute_result"
    }
   ],
   "source": [
    "# Let's explore the 'price' column\n",
    "df['price'].describe()"
   ]
  },
  {
   "cell_type": "code",
   "execution_count": 18,
   "id": "680e39a8",
   "metadata": {
    "execution": {
     "iopub.execute_input": "2024-03-13T08:24:22.393396Z",
     "iopub.status.busy": "2024-03-13T08:24:22.392346Z",
     "iopub.status.idle": "2024-03-13T08:24:23.027076Z",
     "shell.execute_reply": "2024-03-13T08:24:23.024771Z"
    },
    "papermill": {
     "duration": 0.664759,
     "end_time": "2024-03-13T08:24:23.030737",
     "exception": false,
     "start_time": "2024-03-13T08:24:22.365978",
     "status": "completed"
    },
    "tags": []
   },
   "outputs": [
    {
     "name": "stderr",
     "output_type": "stream",
     "text": [
      "/opt/conda/lib/python3.10/site-packages/seaborn/_oldcore.py:1119: FutureWarning: use_inf_as_na option is deprecated and will be removed in a future version. Convert inf values to NaN before operating instead.\n",
      "  with pd.option_context('mode.use_inf_as_na', True):\n"
     ]
    },
    {
     "data": {
      "image/png": "[encoded data removed]",
      "text/plain": [
       "<Figure size 1000x700 with 1 Axes>"
      ]
     },
     "metadata": {},
     "output_type": "display_data"
    }
   ],
   "source": [
    "plt.figure(figsize=(10, 7))\n",
    "\n",
    "sns.histplot(df['price'], bins=round(np.sqrt(len(df))), kde=True)\n",
    "plt.title('Histogram of Price', fontsize=16)\n",
    "plt.xlabel('Price', fontsize=14)\n",
    "plt.ylabel('Frequency', fontsize=14)\n",
    "\n",
    "plt.tight_layout()\n",
    "plt.show()"
   ]
  },
  {
   "cell_type": "code",
   "execution_count": 19,
   "id": "5df47d6e",
   "metadata": {
    "execution": {
     "iopub.execute_input": "2024-03-13T08:24:23.087447Z",
     "iopub.status.busy": "2024-03-13T08:24:23.086954Z",
     "iopub.status.idle": "2024-03-13T08:24:23.903093Z",
     "shell.execute_reply": "2024-03-13T08:24:23.901683Z"
    },
    "papermill": {
     "duration": 0.84632,
     "end_time": "2024-03-13T08:24:23.905759",
     "exception": false,
     "start_time": "2024-03-13T08:24:23.059439",
     "status": "completed"
    },
    "tags": []
   },
   "outputs": [
    {
     "data": {
      "image/png": "[encoded data removed]",
      "text/plain": [
       "<Figure size 1600x1200 with 1 Axes>"
      ]
     },
     "metadata": {},
     "output_type": "display_data"
    }
   ],
   "source": [
    "plt.figure(figsize=(16, 12))\n",
    "\n",
    "sns.boxplot(data=df, x='price', y='brand')\n",
    "plt.xlabel('Price')\n",
    "plt.ylabel('Brand')\n",
    "plt.title('Box Plot of Price by Brand')\n",
    "\n",
    "plt.show()"
   ]
  },
  {
   "cell_type": "code",
   "execution_count": 20,
   "id": "fdf4eb1d",
   "metadata": {
    "execution": {
     "iopub.execute_input": "2024-03-13T08:24:23.963103Z",
     "iopub.status.busy": "2024-03-13T08:24:23.962501Z",
     "iopub.status.idle": "2024-03-13T08:24:23.973260Z",
     "shell.execute_reply": "2024-03-13T08:24:23.971983Z"
    },
    "papermill": {
     "duration": 0.041732,
     "end_time": "2024-03-13T08:24:23.975752",
     "exception": false,
     "start_time": "2024-03-13T08:24:23.934020",
     "status": "completed"
    },
    "tags": []
   },
   "outputs": [
    {
     "data": {
      "text/plain": [
       "(157720.0, -24880.0)"
      ]
     },
     "execution_count": 20,
     "metadata": {},
     "output_type": "execute_result"
    }
   ],
   "source": [
    "# Let's check out the outliers in 'price' column\n",
    "Q1 = df['price'].quantile(0.25)\n",
    "Q3 = df['price'].quantile(0.75)\n",
    "\n",
    "IQR = Q3 - Q1\n",
    "\n",
    "lower_bound = Q1 - 1.5 * IQR\n",
    "upper_bound = Q3 + 1.5 * IQR\n",
    "\n",
    "upper_bound, lower_bound"
   ]
  },
  {
   "cell_type": "markdown",
   "id": "af87608b",
   "metadata": {
    "papermill": {
     "duration": 0.025881,
     "end_time": "2024-03-13T08:24:24.028427",
     "exception": false,
     "start_time": "2024-03-13T08:24:24.002546",
     "status": "completed"
    },
    "tags": []
   },
   "source": [
    "Since the lower bound is negative, I am not gonna use it to find outliers (as we are dealing with prices)"
   ]
  },
  {
   "cell_type": "code",
   "execution_count": 21,
   "id": "6637e867",
   "metadata": {
    "execution": {
     "iopub.execute_input": "2024-03-13T08:24:24.088421Z",
     "iopub.status.busy": "2024-03-13T08:24:24.087994Z",
     "iopub.status.idle": "2024-03-13T08:24:24.123569Z",
     "shell.execute_reply": "2024-03-13T08:24:24.122369Z"
    },
    "papermill": {
     "duration": 0.069519,
     "end_time": "2024-03-13T08:24:24.125906",
     "exception": false,
     "start_time": "2024-03-13T08:24:24.056387",
     "status": "completed"
    },
    "tags": []
   },
   "outputs": [
    {
     "data": {
      "text/html": [
       "<div>\n",
       "<style scoped>\n",
       "    .dataframe tbody tr th:only-of-type {\n",
       "        vertical-align: middle;\n",
       "    }\n",
       "\n",
       "    .dataframe tbody tr th {\n",
       "        vertical-align: top;\n",
       "    }\n",
       "\n",
       "    .dataframe thead th {\n",
       "        text-align: right;\n",
       "    }\n",
       "</style>\n",
       "<table border=\"1\" class=\"dataframe\">\n",
       "  <thead>\n",
       "    <tr style=\"text-align: right;\">\n",
       "      <th></th>\n",
       "      <th>brand</th>\n",
       "      <th>model</th>\n",
       "      <th>price</th>\n",
       "      <th>rating</th>\n",
       "      <th>processor_brand</th>\n",
       "      <th>processor_tier</th>\n",
       "      <th>num_cores</th>\n",
       "      <th>num_threads</th>\n",
       "      <th>ram_memory</th>\n",
       "      <th>primary_storage_type</th>\n",
       "      <th>...</th>\n",
       "      <th>secondary_storage_type</th>\n",
       "      <th>secondary_storage_capacity</th>\n",
       "      <th>gpu_brand</th>\n",
       "      <th>gpu_type</th>\n",
       "      <th>is_touch_screen</th>\n",
       "      <th>display_size</th>\n",
       "      <th>resolution_width</th>\n",
       "      <th>resolution_height</th>\n",
       "      <th>OS</th>\n",
       "      <th>year_of_warranty</th>\n",
       "    </tr>\n",
       "  </thead>\n",
       "  <tbody>\n",
       "    <tr>\n",
       "      <th>22</th>\n",
       "      <td>apple</td>\n",
       "      <td>Apple MacBook Pro 16 2023 Laptop (Apple M3 Max...</td>\n",
       "      <td>399900</td>\n",
       "      <td>65</td>\n",
       "      <td>apple</td>\n",
       "      <td>m3</td>\n",
       "      <td>16</td>\n",
       "      <td>16</td>\n",
       "      <td>8</td>\n",
       "      <td>SSD</td>\n",
       "      <td>...</td>\n",
       "      <td>No secondary storage</td>\n",
       "      <td>0</td>\n",
       "      <td>apple</td>\n",
       "      <td>apple</td>\n",
       "      <td>False</td>\n",
       "      <td>16.2</td>\n",
       "      <td>3456</td>\n",
       "      <td>2234</td>\n",
       "      <td>mac</td>\n",
       "      <td>1</td>\n",
       "    </tr>\n",
       "    <tr>\n",
       "      <th>47</th>\n",
       "      <td>asus</td>\n",
       "      <td>Asus ROG Strix SCAR 16 2023 G634JZ-NM057WS Gam...</td>\n",
       "      <td>269990</td>\n",
       "      <td>83</td>\n",
       "      <td>intel</td>\n",
       "      <td>core i9</td>\n",
       "      <td>24</td>\n",
       "      <td>32</td>\n",
       "      <td>32</td>\n",
       "      <td>SSD</td>\n",
       "      <td>...</td>\n",
       "      <td>No secondary storage</td>\n",
       "      <td>0</td>\n",
       "      <td>nvidia</td>\n",
       "      <td>dedicated</td>\n",
       "      <td>False</td>\n",
       "      <td>16.0</td>\n",
       "      <td>2560</td>\n",
       "      <td>1600</td>\n",
       "      <td>windows</td>\n",
       "      <td>1</td>\n",
       "    </tr>\n",
       "    <tr>\n",
       "      <th>136</th>\n",
       "      <td>hp</td>\n",
       "      <td>HP Spectre x360 16-aa0665TU Laptop (Intel Core...</td>\n",
       "      <td>202340</td>\n",
       "      <td>82</td>\n",
       "      <td>intel</td>\n",
       "      <td>core ultra 7</td>\n",
       "      <td>16</td>\n",
       "      <td>22</td>\n",
       "      <td>32</td>\n",
       "      <td>SSD</td>\n",
       "      <td>...</td>\n",
       "      <td>No secondary storage</td>\n",
       "      <td>0</td>\n",
       "      <td>intel</td>\n",
       "      <td>dedicated</td>\n",
       "      <td>True</td>\n",
       "      <td>16.0</td>\n",
       "      <td>2880</td>\n",
       "      <td>1800</td>\n",
       "      <td>windows</td>\n",
       "      <td>1</td>\n",
       "    </tr>\n",
       "    <tr>\n",
       "      <th>140</th>\n",
       "      <td>hp</td>\n",
       "      <td>HP Spectre x360 14-eu0666TU Laptop (Intel Core...</td>\n",
       "      <td>165900</td>\n",
       "      <td>76</td>\n",
       "      <td>intel</td>\n",
       "      <td>core ultra 7</td>\n",
       "      <td>16</td>\n",
       "      <td>22</td>\n",
       "      <td>32</td>\n",
       "      <td>SSD</td>\n",
       "      <td>...</td>\n",
       "      <td>No secondary storage</td>\n",
       "      <td>0</td>\n",
       "      <td>intel</td>\n",
       "      <td>dedicated</td>\n",
       "      <td>True</td>\n",
       "      <td>14.0</td>\n",
       "      <td>2880</td>\n",
       "      <td>1800</td>\n",
       "      <td>windows</td>\n",
       "      <td>1</td>\n",
       "    </tr>\n",
       "    <tr>\n",
       "      <th>141</th>\n",
       "      <td>apple</td>\n",
       "      <td>Apple MacBook Pro 16 2023 Laptop (Apple M3 Pro...</td>\n",
       "      <td>289900</td>\n",
       "      <td>63</td>\n",
       "      <td>apple</td>\n",
       "      <td>m3</td>\n",
       "      <td>12</td>\n",
       "      <td>12</td>\n",
       "      <td>36</td>\n",
       "      <td>SSD</td>\n",
       "      <td>...</td>\n",
       "      <td>No secondary storage</td>\n",
       "      <td>0</td>\n",
       "      <td>apple</td>\n",
       "      <td>apple</td>\n",
       "      <td>False</td>\n",
       "      <td>16.2</td>\n",
       "      <td>3456</td>\n",
       "      <td>2234</td>\n",
       "      <td>mac</td>\n",
       "      <td>1</td>\n",
       "    </tr>\n",
       "    <tr>\n",
       "      <th>...</th>\n",
       "      <td>...</td>\n",
       "      <td>...</td>\n",
       "      <td>...</td>\n",
       "      <td>...</td>\n",
       "      <td>...</td>\n",
       "      <td>...</td>\n",
       "      <td>...</td>\n",
       "      <td>...</td>\n",
       "      <td>...</td>\n",
       "      <td>...</td>\n",
       "      <td>...</td>\n",
       "      <td>...</td>\n",
       "      <td>...</td>\n",
       "      <td>...</td>\n",
       "      <td>...</td>\n",
       "      <td>...</td>\n",
       "      <td>...</td>\n",
       "      <td>...</td>\n",
       "      <td>...</td>\n",
       "      <td>...</td>\n",
       "      <td>...</td>\n",
       "    </tr>\n",
       "    <tr>\n",
       "      <th>897</th>\n",
       "      <td>msi</td>\n",
       "      <td>MSI Stealth 14 Studio A13VF-037IN Gaming Lapto...</td>\n",
       "      <td>171990</td>\n",
       "      <td>80</td>\n",
       "      <td>intel</td>\n",
       "      <td>core i7</td>\n",
       "      <td>14</td>\n",
       "      <td>20</td>\n",
       "      <td>16</td>\n",
       "      <td>SSD</td>\n",
       "      <td>...</td>\n",
       "      <td>No secondary storage</td>\n",
       "      <td>0</td>\n",
       "      <td>nvidia</td>\n",
       "      <td>dedicated</td>\n",
       "      <td>False</td>\n",
       "      <td>15.6</td>\n",
       "      <td>2560</td>\n",
       "      <td>1600</td>\n",
       "      <td>windows</td>\n",
       "      <td>2</td>\n",
       "    </tr>\n",
       "    <tr>\n",
       "      <th>928</th>\n",
       "      <td>acer</td>\n",
       "      <td>Acer Predator Helios 16 NH.QJRSI.003 Laptop (1...</td>\n",
       "      <td>184999</td>\n",
       "      <td>71</td>\n",
       "      <td>intel</td>\n",
       "      <td>core i9</td>\n",
       "      <td>24</td>\n",
       "      <td>32</td>\n",
       "      <td>16</td>\n",
       "      <td>SSD</td>\n",
       "      <td>...</td>\n",
       "      <td>No secondary storage</td>\n",
       "      <td>0</td>\n",
       "      <td>nvidia</td>\n",
       "      <td>dedicated</td>\n",
       "      <td>False</td>\n",
       "      <td>16.0</td>\n",
       "      <td>2560</td>\n",
       "      <td>1600</td>\n",
       "      <td>windows</td>\n",
       "      <td>1</td>\n",
       "    </tr>\n",
       "    <tr>\n",
       "      <th>929</th>\n",
       "      <td>acer</td>\n",
       "      <td>Acer Predator Helios 16 Laptop (13th Gen Core ...</td>\n",
       "      <td>249990</td>\n",
       "      <td>77</td>\n",
       "      <td>intel</td>\n",
       "      <td>core i9</td>\n",
       "      <td>24</td>\n",
       "      <td>32</td>\n",
       "      <td>32</td>\n",
       "      <td>SSD</td>\n",
       "      <td>...</td>\n",
       "      <td>No secondary storage</td>\n",
       "      <td>0</td>\n",
       "      <td>nvidia</td>\n",
       "      <td>dedicated</td>\n",
       "      <td>False</td>\n",
       "      <td>16.0</td>\n",
       "      <td>2560</td>\n",
       "      <td>1600</td>\n",
       "      <td>windows</td>\n",
       "      <td>1</td>\n",
       "    </tr>\n",
       "    <tr>\n",
       "      <th>957</th>\n",
       "      <td>asus</td>\n",
       "      <td>Asus ROG Zephyrus M16 2023 GU604VZ-NM050WS Lap...</td>\n",
       "      <td>249990</td>\n",
       "      <td>89</td>\n",
       "      <td>intel</td>\n",
       "      <td>core i9</td>\n",
       "      <td>14</td>\n",
       "      <td>20</td>\n",
       "      <td>32</td>\n",
       "      <td>SSD</td>\n",
       "      <td>...</td>\n",
       "      <td>No secondary storage</td>\n",
       "      <td>0</td>\n",
       "      <td>nvidia</td>\n",
       "      <td>dedicated</td>\n",
       "      <td>False</td>\n",
       "      <td>16.0</td>\n",
       "      <td>2560</td>\n",
       "      <td>1600</td>\n",
       "      <td>windows</td>\n",
       "      <td>1</td>\n",
       "    </tr>\n",
       "    <tr>\n",
       "      <th>976</th>\n",
       "      <td>asus</td>\n",
       "      <td>Asus ROG Strix SCAR 16 2023 G634JZ-N4062WS Gam...</td>\n",
       "      <td>279990</td>\n",
       "      <td>83</td>\n",
       "      <td>intel</td>\n",
       "      <td>core i9</td>\n",
       "      <td>24</td>\n",
       "      <td>32</td>\n",
       "      <td>32</td>\n",
       "      <td>SSD</td>\n",
       "      <td>...</td>\n",
       "      <td>No secondary storage</td>\n",
       "      <td>0</td>\n",
       "      <td>nvidia</td>\n",
       "      <td>dedicated</td>\n",
       "      <td>False</td>\n",
       "      <td>16.0</td>\n",
       "      <td>2560</td>\n",
       "      <td>1600</td>\n",
       "      <td>windows</td>\n",
       "      <td>1</td>\n",
       "    </tr>\n",
       "  </tbody>\n",
       "</table>\n",
       "<p>71 rows × 21 columns</p>\n",
       "</div>"
      ],
      "text/plain": [
       "     brand                                              model   price  rating  \\\n",
       "22   apple  Apple MacBook Pro 16 2023 Laptop (Apple M3 Max...  399900      65   \n",
       "47    asus  Asus ROG Strix SCAR 16 2023 G634JZ-NM057WS Gam...  269990      83   \n",
       "136     hp  HP Spectre x360 16-aa0665TU Laptop (Intel Core...  202340      82   \n",
       "140     hp  HP Spectre x360 14-eu0666TU Laptop (Intel Core...  165900      76   \n",
       "141  apple  Apple MacBook Pro 16 2023 Laptop (Apple M3 Pro...  289900      63   \n",
       "..     ...                                                ...     ...     ...   \n",
       "897    msi  MSI Stealth 14 Studio A13VF-037IN Gaming Lapto...  171990      80   \n",
       "928   acer  Acer Predator Helios 16 NH.QJRSI.003 Laptop (1...  184999      71   \n",
       "929   acer  Acer Predator Helios 16 Laptop (13th Gen Core ...  249990      77   \n",
       "957   asus  Asus ROG Zephyrus M16 2023 GU604VZ-NM050WS Lap...  249990      89   \n",
       "976   asus  Asus ROG Strix SCAR 16 2023 G634JZ-N4062WS Gam...  279990      83   \n",
       "\n",
       "    processor_brand processor_tier  num_cores  num_threads  ram_memory  \\\n",
       "22            apple             m3         16           16           8   \n",
       "47            intel        core i9         24           32          32   \n",
       "136           intel   core ultra 7         16           22          32   \n",
       "140           intel   core ultra 7         16           22          32   \n",
       "141           apple             m3         12           12          36   \n",
       "..              ...            ...        ...          ...         ...   \n",
       "897           intel        core i7         14           20          16   \n",
       "928           intel        core i9         24           32          16   \n",
       "929           intel        core i9         24           32          32   \n",
       "957           intel        core i9         14           20          32   \n",
       "976           intel        core i9         24           32          32   \n",
       "\n",
       "    primary_storage_type  ...  secondary_storage_type  \\\n",
       "22                   SSD  ...    No secondary storage   \n",
       "47                   SSD  ...    No secondary storage   \n",
       "136                  SSD  ...    No secondary storage   \n",
       "140                  SSD  ...    No secondary storage   \n",
       "141                  SSD  ...    No secondary storage   \n",
       "..                   ...  ...                     ...   \n",
       "897                  SSD  ...    No secondary storage   \n",
       "928                  SSD  ...    No secondary storage   \n",
       "929                  SSD  ...    No secondary storage   \n",
       "957                  SSD  ...    No secondary storage   \n",
       "976                  SSD  ...    No secondary storage   \n",
       "\n",
       "    secondary_storage_capacity  gpu_brand   gpu_type is_touch_screen  \\\n",
       "22                           0      apple      apple           False   \n",
       "47                           0     nvidia  dedicated           False   \n",
       "136                          0      intel  dedicated            True   \n",
       "140                          0      intel  dedicated            True   \n",
       "141                          0      apple      apple           False   \n",
       "..                         ...        ...        ...             ...   \n",
       "897                          0     nvidia  dedicated           False   \n",
       "928                          0     nvidia  dedicated           False   \n",
       "929                          0     nvidia  dedicated           False   \n",
       "957                          0     nvidia  dedicated           False   \n",
       "976                          0     nvidia  dedicated           False   \n",
       "\n",
       "     display_size  resolution_width  resolution_height       OS  \\\n",
       "22           16.2              3456               2234      mac   \n",
       "47           16.0              2560               1600  windows   \n",
       "136          16.0              2880               1800  windows   \n",
       "140          14.0              2880               1800  windows   \n",
       "141          16.2              3456               2234      mac   \n",
       "..            ...               ...                ...      ...   \n",
       "897          15.6              2560               1600  windows   \n",
       "928          16.0              2560               1600  windows   \n",
       "929          16.0              2560               1600  windows   \n",
       "957          16.0              2560               1600  windows   \n",
       "976          16.0              2560               1600  windows   \n",
       "\n",
       "    year_of_warranty  \n",
       "22                 1  \n",
       "47                 1  \n",
       "136                1  \n",
       "140                1  \n",
       "141                1  \n",
       "..               ...  \n",
       "897                2  \n",
       "928                1  \n",
       "929                1  \n",
       "957                1  \n",
       "976                1  \n",
       "\n",
       "[71 rows x 21 columns]"
      ]
     },
     "execution_count": 21,
     "metadata": {},
     "output_type": "execute_result"
    }
   ],
   "source": [
    "price_outliers = df.query('price > @upper_bound')\n",
    "price_outliers"
   ]
  },
  {
   "cell_type": "code",
   "execution_count": 22,
   "id": "ac1c4809",
   "metadata": {
    "execution": {
     "iopub.execute_input": "2024-03-13T08:24:24.184449Z",
     "iopub.status.busy": "2024-03-13T08:24:24.184059Z",
     "iopub.status.idle": "2024-03-13T08:24:24.196282Z",
     "shell.execute_reply": "2024-03-13T08:24:24.195042Z"
    },
    "papermill": {
     "duration": 0.046126,
     "end_time": "2024-03-13T08:24:24.198795",
     "exception": false,
     "start_time": "2024-03-13T08:24:24.152669",
     "status": "completed"
    },
    "tags": []
   },
   "outputs": [
    {
     "data": {
      "text/html": [
       "<div>\n",
       "<style scoped>\n",
       "    .dataframe tbody tr th:only-of-type {\n",
       "        vertical-align: middle;\n",
       "    }\n",
       "\n",
       "    .dataframe tbody tr th {\n",
       "        vertical-align: top;\n",
       "    }\n",
       "\n",
       "    .dataframe thead th {\n",
       "        text-align: right;\n",
       "    }\n",
       "</style>\n",
       "<table border=\"1\" class=\"dataframe\">\n",
       "  <thead>\n",
       "    <tr style=\"text-align: right;\">\n",
       "      <th></th>\n",
       "      <th>brand</th>\n",
       "      <th>count</th>\n",
       "    </tr>\n",
       "  </thead>\n",
       "  <tbody>\n",
       "    <tr>\n",
       "      <th>0</th>\n",
       "      <td>dell</td>\n",
       "      <td>18</td>\n",
       "    </tr>\n",
       "    <tr>\n",
       "      <th>1</th>\n",
       "      <td>hp</td>\n",
       "      <td>12</td>\n",
       "    </tr>\n",
       "    <tr>\n",
       "      <th>2</th>\n",
       "      <td>msi</td>\n",
       "      <td>12</td>\n",
       "    </tr>\n",
       "    <tr>\n",
       "      <th>3</th>\n",
       "      <td>asus</td>\n",
       "      <td>10</td>\n",
       "    </tr>\n",
       "    <tr>\n",
       "      <th>4</th>\n",
       "      <td>apple</td>\n",
       "      <td>8</td>\n",
       "    </tr>\n",
       "    <tr>\n",
       "      <th>5</th>\n",
       "      <td>lenovo</td>\n",
       "      <td>6</td>\n",
       "    </tr>\n",
       "    <tr>\n",
       "      <th>6</th>\n",
       "      <td>acer</td>\n",
       "      <td>5</td>\n",
       "    </tr>\n",
       "  </tbody>\n",
       "</table>\n",
       "</div>"
      ],
      "text/plain": [
       "    brand  count\n",
       "0    dell     18\n",
       "1      hp     12\n",
       "2     msi     12\n",
       "3    asus     10\n",
       "4   apple      8\n",
       "5  lenovo      6\n",
       "6    acer      5"
      ]
     },
     "execution_count": 22,
     "metadata": {},
     "output_type": "execute_result"
    }
   ],
   "source": [
    "price_outliers['brand'].value_counts().reset_index()"
   ]
  },
  {
   "cell_type": "code",
   "execution_count": 23,
   "id": "1f47f6a4",
   "metadata": {
    "execution": {
     "iopub.execute_input": "2024-03-13T08:24:24.258610Z",
     "iopub.status.busy": "2024-03-13T08:24:24.258112Z",
     "iopub.status.idle": "2024-03-13T08:24:24.273012Z",
     "shell.execute_reply": "2024-03-13T08:24:24.271647Z"
    },
    "papermill": {
     "duration": 0.0481,
     "end_time": "2024-03-13T08:24:24.275442",
     "exception": false,
     "start_time": "2024-03-13T08:24:24.227342",
     "status": "completed"
    },
    "tags": []
   },
   "outputs": [
    {
     "data": {
      "text/plain": [
       "292    208490\n",
       "522    223275\n",
       "595    257490\n",
       "601    454490\n",
       "603    323990\n",
       "604    188990\n",
       "608    450990\n",
       "619    299990\n",
       "720    279490\n",
       "721    201990\n",
       "738    205490\n",
       "755    157990\n",
       "756    166490\n",
       "787    187990\n",
       "819    225490\n",
       "820    220990\n",
       "845    388490\n",
       "847    368490\n",
       "Name: price, dtype: int64"
      ]
     },
     "execution_count": 23,
     "metadata": {},
     "output_type": "execute_result"
    }
   ],
   "source": [
    "price_outliers.query('brand == \"dell\"')['price']"
   ]
  },
  {
   "cell_type": "code",
   "execution_count": 24,
   "id": "f37a7ffc",
   "metadata": {
    "execution": {
     "iopub.execute_input": "2024-03-13T08:24:24.333540Z",
     "iopub.status.busy": "2024-03-13T08:24:24.332875Z",
     "iopub.status.idle": "2024-03-13T08:24:24.350593Z",
     "shell.execute_reply": "2024-03-13T08:24:24.349410Z"
    },
    "papermill": {
     "duration": 0.049472,
     "end_time": "2024-03-13T08:24:24.353109",
     "exception": false,
     "start_time": "2024-03-13T08:24:24.303637",
     "status": "completed"
    },
    "tags": []
   },
   "outputs": [
    {
     "data": {
      "text/html": [
       "<div>\n",
       "<style scoped>\n",
       "    .dataframe tbody tr th:only-of-type {\n",
       "        vertical-align: middle;\n",
       "    }\n",
       "\n",
       "    .dataframe tbody tr th {\n",
       "        vertical-align: top;\n",
       "    }\n",
       "\n",
       "    .dataframe thead th {\n",
       "        text-align: right;\n",
       "    }\n",
       "</style>\n",
       "<table border=\"1\" class=\"dataframe\">\n",
       "  <thead>\n",
       "    <tr style=\"text-align: right;\">\n",
       "      <th></th>\n",
       "      <th>index</th>\n",
       "      <th>brand</th>\n",
       "      <th>price</th>\n",
       "    </tr>\n",
       "  </thead>\n",
       "  <tbody>\n",
       "    <tr>\n",
       "      <th>0</th>\n",
       "      <td>601</td>\n",
       "      <td>dell</td>\n",
       "      <td>454490</td>\n",
       "    </tr>\n",
       "    <tr>\n",
       "      <th>1</th>\n",
       "      <td>608</td>\n",
       "      <td>dell</td>\n",
       "      <td>450990</td>\n",
       "    </tr>\n",
       "    <tr>\n",
       "      <th>2</th>\n",
       "      <td>404</td>\n",
       "      <td>msi</td>\n",
       "      <td>449990</td>\n",
       "    </tr>\n",
       "    <tr>\n",
       "      <th>3</th>\n",
       "      <td>22</td>\n",
       "      <td>apple</td>\n",
       "      <td>399900</td>\n",
       "    </tr>\n",
       "    <tr>\n",
       "      <th>4</th>\n",
       "      <td>845</td>\n",
       "      <td>dell</td>\n",
       "      <td>388490</td>\n",
       "    </tr>\n",
       "    <tr>\n",
       "      <th>5</th>\n",
       "      <td>847</td>\n",
       "      <td>dell</td>\n",
       "      <td>368490</td>\n",
       "    </tr>\n",
       "    <tr>\n",
       "      <th>6</th>\n",
       "      <td>340</td>\n",
       "      <td>lenovo</td>\n",
       "      <td>359095</td>\n",
       "    </tr>\n",
       "    <tr>\n",
       "      <th>7</th>\n",
       "      <td>142</td>\n",
       "      <td>apple</td>\n",
       "      <td>349900</td>\n",
       "    </tr>\n",
       "    <tr>\n",
       "      <th>8</th>\n",
       "      <td>369</td>\n",
       "      <td>hp</td>\n",
       "      <td>342500</td>\n",
       "    </tr>\n",
       "    <tr>\n",
       "      <th>9</th>\n",
       "      <td>603</td>\n",
       "      <td>dell</td>\n",
       "      <td>323990</td>\n",
       "    </tr>\n",
       "    <tr>\n",
       "      <th>10</th>\n",
       "      <td>619</td>\n",
       "      <td>dell</td>\n",
       "      <td>299990</td>\n",
       "    </tr>\n",
       "    <tr>\n",
       "      <th>11</th>\n",
       "      <td>583</td>\n",
       "      <td>msi</td>\n",
       "      <td>299990</td>\n",
       "    </tr>\n",
       "    <tr>\n",
       "      <th>12</th>\n",
       "      <td>399</td>\n",
       "      <td>lenovo</td>\n",
       "      <td>298990</td>\n",
       "    </tr>\n",
       "    <tr>\n",
       "      <th>13</th>\n",
       "      <td>380</td>\n",
       "      <td>hp</td>\n",
       "      <td>292999</td>\n",
       "    </tr>\n",
       "    <tr>\n",
       "      <th>14</th>\n",
       "      <td>141</td>\n",
       "      <td>apple</td>\n",
       "      <td>289900</td>\n",
       "    </tr>\n",
       "    <tr>\n",
       "      <th>15</th>\n",
       "      <td>797</td>\n",
       "      <td>msi</td>\n",
       "      <td>279990</td>\n",
       "    </tr>\n",
       "    <tr>\n",
       "      <th>16</th>\n",
       "      <td>976</td>\n",
       "      <td>asus</td>\n",
       "      <td>279990</td>\n",
       "    </tr>\n",
       "    <tr>\n",
       "      <th>17</th>\n",
       "      <td>720</td>\n",
       "      <td>dell</td>\n",
       "      <td>279490</td>\n",
       "    </tr>\n",
       "    <tr>\n",
       "      <th>18</th>\n",
       "      <td>47</td>\n",
       "      <td>asus</td>\n",
       "      <td>269990</td>\n",
       "    </tr>\n",
       "    <tr>\n",
       "      <th>19</th>\n",
       "      <td>807</td>\n",
       "      <td>asus</td>\n",
       "      <td>260990</td>\n",
       "    </tr>\n",
       "    <tr>\n",
       "      <th>20</th>\n",
       "      <td>885</td>\n",
       "      <td>msi</td>\n",
       "      <td>260990</td>\n",
       "    </tr>\n",
       "    <tr>\n",
       "      <th>21</th>\n",
       "      <td>379</td>\n",
       "      <td>hp</td>\n",
       "      <td>259499</td>\n",
       "    </tr>\n",
       "    <tr>\n",
       "      <th>22</th>\n",
       "      <td>595</td>\n",
       "      <td>dell</td>\n",
       "      <td>257490</td>\n",
       "    </tr>\n",
       "    <tr>\n",
       "      <th>23</th>\n",
       "      <td>929</td>\n",
       "      <td>acer</td>\n",
       "      <td>249990</td>\n",
       "    </tr>\n",
       "    <tr>\n",
       "      <th>24</th>\n",
       "      <td>957</td>\n",
       "      <td>asus</td>\n",
       "      <td>249990</td>\n",
       "    </tr>\n",
       "    <tr>\n",
       "      <th>25</th>\n",
       "      <td>831</td>\n",
       "      <td>msi</td>\n",
       "      <td>249990</td>\n",
       "    </tr>\n",
       "    <tr>\n",
       "      <th>26</th>\n",
       "      <td>143</td>\n",
       "      <td>apple</td>\n",
       "      <td>249900</td>\n",
       "    </tr>\n",
       "    <tr>\n",
       "      <th>27</th>\n",
       "      <td>323</td>\n",
       "      <td>apple</td>\n",
       "      <td>239900</td>\n",
       "    </tr>\n",
       "    <tr>\n",
       "      <th>28</th>\n",
       "      <td>559</td>\n",
       "      <td>hp</td>\n",
       "      <td>239299</td>\n",
       "    </tr>\n",
       "    <tr>\n",
       "      <th>29</th>\n",
       "      <td>633</td>\n",
       "      <td>hp</td>\n",
       "      <td>230060</td>\n",
       "    </tr>\n",
       "    <tr>\n",
       "      <th>30</th>\n",
       "      <td>819</td>\n",
       "      <td>dell</td>\n",
       "      <td>225490</td>\n",
       "    </tr>\n",
       "    <tr>\n",
       "      <th>31</th>\n",
       "      <td>592</td>\n",
       "      <td>lenovo</td>\n",
       "      <td>225190</td>\n",
       "    </tr>\n",
       "    <tr>\n",
       "      <th>32</th>\n",
       "      <td>522</td>\n",
       "      <td>dell</td>\n",
       "      <td>223275</td>\n",
       "    </tr>\n",
       "    <tr>\n",
       "      <th>33</th>\n",
       "      <td>820</td>\n",
       "      <td>dell</td>\n",
       "      <td>220990</td>\n",
       "    </tr>\n",
       "    <tr>\n",
       "      <th>34</th>\n",
       "      <td>893</td>\n",
       "      <td>msi</td>\n",
       "      <td>219990</td>\n",
       "    </tr>\n",
       "    <tr>\n",
       "      <th>35</th>\n",
       "      <td>316</td>\n",
       "      <td>lenovo</td>\n",
       "      <td>218990</td>\n",
       "    </tr>\n",
       "    <tr>\n",
       "      <th>36</th>\n",
       "      <td>896</td>\n",
       "      <td>msi</td>\n",
       "      <td>215990</td>\n",
       "    </tr>\n",
       "    <tr>\n",
       "      <th>37</th>\n",
       "      <td>812</td>\n",
       "      <td>asus</td>\n",
       "      <td>209890</td>\n",
       "    </tr>\n",
       "    <tr>\n",
       "      <th>38</th>\n",
       "      <td>292</td>\n",
       "      <td>dell</td>\n",
       "      <td>208490</td>\n",
       "    </tr>\n",
       "    <tr>\n",
       "      <th>39</th>\n",
       "      <td>738</td>\n",
       "      <td>dell</td>\n",
       "      <td>205490</td>\n",
       "    </tr>\n",
       "    <tr>\n",
       "      <th>40</th>\n",
       "      <td>136</td>\n",
       "      <td>hp</td>\n",
       "      <td>202340</td>\n",
       "    </tr>\n",
       "    <tr>\n",
       "      <th>41</th>\n",
       "      <td>721</td>\n",
       "      <td>dell</td>\n",
       "      <td>201990</td>\n",
       "    </tr>\n",
       "    <tr>\n",
       "      <th>42</th>\n",
       "      <td>891</td>\n",
       "      <td>acer</td>\n",
       "      <td>200090</td>\n",
       "    </tr>\n",
       "    <tr>\n",
       "      <th>43</th>\n",
       "      <td>555</td>\n",
       "      <td>msi</td>\n",
       "      <td>199990</td>\n",
       "    </tr>\n",
       "    <tr>\n",
       "      <th>44</th>\n",
       "      <td>836</td>\n",
       "      <td>asus</td>\n",
       "      <td>199990</td>\n",
       "    </tr>\n",
       "    <tr>\n",
       "      <th>45</th>\n",
       "      <td>348</td>\n",
       "      <td>msi</td>\n",
       "      <td>199990</td>\n",
       "    </tr>\n",
       "    <tr>\n",
       "      <th>46</th>\n",
       "      <td>800</td>\n",
       "      <td>asus</td>\n",
       "      <td>199990</td>\n",
       "    </tr>\n",
       "    <tr>\n",
       "      <th>47</th>\n",
       "      <td>144</td>\n",
       "      <td>apple</td>\n",
       "      <td>199900</td>\n",
       "    </tr>\n",
       "    <tr>\n",
       "      <th>48</th>\n",
       "      <td>433</td>\n",
       "      <td>msi</td>\n",
       "      <td>196580</td>\n",
       "    </tr>\n",
       "    <tr>\n",
       "      <th>49</th>\n",
       "      <td>225</td>\n",
       "      <td>asus</td>\n",
       "      <td>189990</td>\n",
       "    </tr>\n",
       "    <tr>\n",
       "      <th>50</th>\n",
       "      <td>322</td>\n",
       "      <td>apple</td>\n",
       "      <td>189900</td>\n",
       "    </tr>\n",
       "    <tr>\n",
       "      <th>51</th>\n",
       "      <td>604</td>\n",
       "      <td>dell</td>\n",
       "      <td>188990</td>\n",
       "    </tr>\n",
       "    <tr>\n",
       "      <th>52</th>\n",
       "      <td>787</td>\n",
       "      <td>dell</td>\n",
       "      <td>187990</td>\n",
       "    </tr>\n",
       "    <tr>\n",
       "      <th>53</th>\n",
       "      <td>449</td>\n",
       "      <td>lenovo</td>\n",
       "      <td>185990</td>\n",
       "    </tr>\n",
       "    <tr>\n",
       "      <th>54</th>\n",
       "      <td>928</td>\n",
       "      <td>acer</td>\n",
       "      <td>184999</td>\n",
       "    </tr>\n",
       "    <tr>\n",
       "      <th>55</th>\n",
       "      <td>513</td>\n",
       "      <td>hp</td>\n",
       "      <td>182990</td>\n",
       "    </tr>\n",
       "    <tr>\n",
       "      <th>56</th>\n",
       "      <td>172</td>\n",
       "      <td>acer</td>\n",
       "      <td>179990</td>\n",
       "    </tr>\n",
       "    <tr>\n",
       "      <th>57</th>\n",
       "      <td>224</td>\n",
       "      <td>asus</td>\n",
       "      <td>179990</td>\n",
       "    </tr>\n",
       "    <tr>\n",
       "      <th>58</th>\n",
       "      <td>191</td>\n",
       "      <td>hp</td>\n",
       "      <td>176499</td>\n",
       "    </tr>\n",
       "    <tr>\n",
       "      <th>59</th>\n",
       "      <td>897</td>\n",
       "      <td>msi</td>\n",
       "      <td>171990</td>\n",
       "    </tr>\n",
       "    <tr>\n",
       "      <th>60</th>\n",
       "      <td>332</td>\n",
       "      <td>apple</td>\n",
       "      <td>169900</td>\n",
       "    </tr>\n",
       "    <tr>\n",
       "      <th>61</th>\n",
       "      <td>382</td>\n",
       "      <td>hp</td>\n",
       "      <td>168500</td>\n",
       "    </tr>\n",
       "    <tr>\n",
       "      <th>62</th>\n",
       "      <td>756</td>\n",
       "      <td>dell</td>\n",
       "      <td>166490</td>\n",
       "    </tr>\n",
       "    <tr>\n",
       "      <th>63</th>\n",
       "      <td>381</td>\n",
       "      <td>hp</td>\n",
       "      <td>165999</td>\n",
       "    </tr>\n",
       "    <tr>\n",
       "      <th>64</th>\n",
       "      <td>140</td>\n",
       "      <td>hp</td>\n",
       "      <td>165900</td>\n",
       "    </tr>\n",
       "    <tr>\n",
       "      <th>65</th>\n",
       "      <td>155</td>\n",
       "      <td>hp</td>\n",
       "      <td>165900</td>\n",
       "    </tr>\n",
       "    <tr>\n",
       "      <th>66</th>\n",
       "      <td>398</td>\n",
       "      <td>lenovo</td>\n",
       "      <td>164190</td>\n",
       "    </tr>\n",
       "    <tr>\n",
       "      <th>67</th>\n",
       "      <td>835</td>\n",
       "      <td>asus</td>\n",
       "      <td>161513</td>\n",
       "    </tr>\n",
       "    <tr>\n",
       "      <th>68</th>\n",
       "      <td>570</td>\n",
       "      <td>acer</td>\n",
       "      <td>159990</td>\n",
       "    </tr>\n",
       "    <tr>\n",
       "      <th>69</th>\n",
       "      <td>606</td>\n",
       "      <td>msi</td>\n",
       "      <td>159427</td>\n",
       "    </tr>\n",
       "    <tr>\n",
       "      <th>70</th>\n",
       "      <td>755</td>\n",
       "      <td>dell</td>\n",
       "      <td>157990</td>\n",
       "    </tr>\n",
       "  </tbody>\n",
       "</table>\n",
       "</div>"
      ],
      "text/plain": [
       "    index   brand   price\n",
       "0     601    dell  454490\n",
       "1     608    dell  450990\n",
       "2     404     msi  449990\n",
       "3      22   apple  399900\n",
       "4     845    dell  388490\n",
       "5     847    dell  368490\n",
       "6     340  lenovo  359095\n",
       "7     142   apple  349900\n",
       "8     369      hp  342500\n",
       "9     603    dell  323990\n",
       "10    619    dell  299990\n",
       "11    583     msi  299990\n",
       "12    399  lenovo  298990\n",
       "13    380      hp  292999\n",
       "14    141   apple  289900\n",
       "15    797     msi  279990\n",
       "16    976    asus  279990\n",
       "17    720    dell  279490\n",
       "18     47    asus  269990\n",
       "19    807    asus  260990\n",
       "20    885     msi  260990\n",
       "21    379      hp  259499\n",
       "22    595    dell  257490\n",
       "23    929    acer  249990\n",
       "24    957    asus  249990\n",
       "25    831     msi  249990\n",
       "26    143   apple  249900\n",
       "27    323   apple  239900\n",
       "28    559      hp  239299\n",
       "29    633      hp  230060\n",
       "30    819    dell  225490\n",
       "31    592  lenovo  225190\n",
       "32    522    dell  223275\n",
       "33    820    dell  220990\n",
       "34    893     msi  219990\n",
       "35    316  lenovo  218990\n",
       "36    896     msi  215990\n",
       "37    812    asus  209890\n",
       "38    292    dell  208490\n",
       "39    738    dell  205490\n",
       "40    136      hp  202340\n",
       "41    721    dell  201990\n",
       "42    891    acer  200090\n",
       "43    555     msi  199990\n",
       "44    836    asus  199990\n",
       "45    348     msi  199990\n",
       "46    800    asus  199990\n",
       "47    144   apple  199900\n",
       "48    433     msi  196580\n",
       "49    225    asus  189990\n",
       "50    322   apple  189900\n",
       "51    604    dell  188990\n",
       "52    787    dell  187990\n",
       "53    449  lenovo  185990\n",
       "54    928    acer  184999\n",
       "55    513      hp  182990\n",
       "56    172    acer  179990\n",
       "57    224    asus  179990\n",
       "58    191      hp  176499\n",
       "59    897     msi  171990\n",
       "60    332   apple  169900\n",
       "61    382      hp  168500\n",
       "62    756    dell  166490\n",
       "63    381      hp  165999\n",
       "64    140      hp  165900\n",
       "65    155      hp  165900\n",
       "66    398  lenovo  164190\n",
       "67    835    asus  161513\n",
       "68    570    acer  159990\n",
       "69    606     msi  159427\n",
       "70    755    dell  157990"
      ]
     },
     "execution_count": 24,
     "metadata": {},
     "output_type": "execute_result"
    }
   ],
   "source": [
    "pd.set_option('display.max_rows', len(price_outliers))\n",
    "price_outliers[['brand', 'price']].sort_values(by='price', ascending=False).reset_index()"
   ]
  },
  {
   "cell_type": "code",
   "execution_count": 25,
   "id": "8430d4ff",
   "metadata": {
    "execution": {
     "iopub.execute_input": "2024-03-13T08:24:24.418096Z",
     "iopub.status.busy": "2024-03-13T08:24:24.416909Z",
     "iopub.status.idle": "2024-03-13T08:24:24.425654Z",
     "shell.execute_reply": "2024-03-13T08:24:24.424690Z"
    },
    "papermill": {
     "duration": 0.043629,
     "end_time": "2024-03-13T08:24:24.428284",
     "exception": false,
     "start_time": "2024-03-13T08:24:24.384655",
     "status": "completed"
    },
    "tags": []
   },
   "outputs": [
    {
     "data": {
      "text/plain": [
       "(89, 24, 63.9313824419778, 64.0)"
      ]
     },
     "execution_count": 25,
     "metadata": {},
     "output_type": "execute_result"
    }
   ],
   "source": [
    "# Let's explore the 'rating' column\n",
    "df['rating'].max(), df['rating'].min(), df['rating'].mean(), df['rating'].median()"
   ]
  },
  {
   "cell_type": "code",
   "execution_count": 26,
   "id": "e0c1969e",
   "metadata": {
    "execution": {
     "iopub.execute_input": "2024-03-13T08:24:24.490957Z",
     "iopub.status.busy": "2024-03-13T08:24:24.490569Z",
     "iopub.status.idle": "2024-03-13T08:24:24.989932Z",
     "shell.execute_reply": "2024-03-13T08:24:24.988403Z"
    },
    "papermill": {
     "duration": 0.533951,
     "end_time": "2024-03-13T08:24:24.992694",
     "exception": false,
     "start_time": "2024-03-13T08:24:24.458743",
     "status": "completed"
    },
    "tags": []
   },
   "outputs": [
    {
     "name": "stderr",
     "output_type": "stream",
     "text": [
      "/opt/conda/lib/python3.10/site-packages/seaborn/_oldcore.py:1119: FutureWarning: use_inf_as_na option is deprecated and will be removed in a future version. Convert inf values to NaN before operating instead.\n",
      "  with pd.option_context('mode.use_inf_as_na', True):\n"
     ]
    },
    {
     "data": {
      "image/png": "[encoded data removed]",
      "text/plain": [
       "<Figure size 1200x700 with 1 Axes>"
      ]
     },
     "metadata": {},
     "output_type": "display_data"
    }
   ],
   "source": [
    "plt.figure(figsize=(12, 7))\n",
    "\n",
    "sns.histplot(data=df, x='rating', bins=round(np.sqrt(len(df))), kde=True)\n",
    "plt.title('Histogram of Ratings', fontsize=16)\n",
    "plt.xlabel('Rating', fontsize=14)\n",
    "plt.ylabel('Count', fontsize=14)\n",
    "\n",
    "plt.show()"
   ]
  },
  {
   "cell_type": "code",
   "execution_count": 27,
   "id": "ce6431fe",
   "metadata": {
    "execution": {
     "iopub.execute_input": "2024-03-13T08:24:25.052482Z",
     "iopub.status.busy": "2024-03-13T08:24:25.051934Z",
     "iopub.status.idle": "2024-03-13T08:24:25.075958Z",
     "shell.execute_reply": "2024-03-13T08:24:25.074707Z"
    },
    "papermill": {
     "duration": 0.057901,
     "end_time": "2024-03-13T08:24:25.078460",
     "exception": false,
     "start_time": "2024-03-13T08:24:25.020559",
     "status": "completed"
    },
    "tags": []
   },
   "outputs": [
    {
     "data": {
      "text/html": [
       "<div>\n",
       "<style scoped>\n",
       "    .dataframe tbody tr th:only-of-type {\n",
       "        vertical-align: middle;\n",
       "    }\n",
       "\n",
       "    .dataframe tbody tr th {\n",
       "        vertical-align: top;\n",
       "    }\n",
       "\n",
       "    .dataframe thead th {\n",
       "        text-align: right;\n",
       "    }\n",
       "</style>\n",
       "<table border=\"1\" class=\"dataframe\">\n",
       "  <thead>\n",
       "    <tr style=\"text-align: right;\">\n",
       "      <th></th>\n",
       "      <th>brand</th>\n",
       "      <th>mean</th>\n",
       "      <th>median</th>\n",
       "    </tr>\n",
       "  </thead>\n",
       "  <tbody>\n",
       "    <tr>\n",
       "      <th>0</th>\n",
       "      <td>lg</td>\n",
       "      <td>72.142857</td>\n",
       "      <td>72.0</td>\n",
       "    </tr>\n",
       "    <tr>\n",
       "      <th>1</th>\n",
       "      <td>msi</td>\n",
       "      <td>70.888889</td>\n",
       "      <td>71.0</td>\n",
       "    </tr>\n",
       "    <tr>\n",
       "      <th>2</th>\n",
       "      <td>fujitsu</td>\n",
       "      <td>70.200000</td>\n",
       "      <td>70.0</td>\n",
       "    </tr>\n",
       "    <tr>\n",
       "      <th>3</th>\n",
       "      <td>gigabyte</td>\n",
       "      <td>70.000000</td>\n",
       "      <td>70.0</td>\n",
       "    </tr>\n",
       "    <tr>\n",
       "      <th>4</th>\n",
       "      <td>asus</td>\n",
       "      <td>65.438095</td>\n",
       "      <td>66.0</td>\n",
       "    </tr>\n",
       "    <tr>\n",
       "      <th>5</th>\n",
       "      <td>tecno</td>\n",
       "      <td>65.000000</td>\n",
       "      <td>65.0</td>\n",
       "    </tr>\n",
       "    <tr>\n",
       "      <th>6</th>\n",
       "      <td>zebronics</td>\n",
       "      <td>64.857143</td>\n",
       "      <td>65.0</td>\n",
       "    </tr>\n",
       "    <tr>\n",
       "      <th>7</th>\n",
       "      <td>dell</td>\n",
       "      <td>64.603774</td>\n",
       "      <td>62.0</td>\n",
       "    </tr>\n",
       "    <tr>\n",
       "      <th>8</th>\n",
       "      <td>hp</td>\n",
       "      <td>64.492683</td>\n",
       "      <td>66.0</td>\n",
       "    </tr>\n",
       "    <tr>\n",
       "      <th>9</th>\n",
       "      <td>lenovo</td>\n",
       "      <td>62.552239</td>\n",
       "      <td>62.0</td>\n",
       "    </tr>\n",
       "    <tr>\n",
       "      <th>10</th>\n",
       "      <td>honor</td>\n",
       "      <td>62.500000</td>\n",
       "      <td>62.5</td>\n",
       "    </tr>\n",
       "    <tr>\n",
       "      <th>11</th>\n",
       "      <td>acer</td>\n",
       "      <td>61.775281</td>\n",
       "      <td>63.0</td>\n",
       "    </tr>\n",
       "    <tr>\n",
       "      <th>12</th>\n",
       "      <td>samsung</td>\n",
       "      <td>61.714286</td>\n",
       "      <td>60.0</td>\n",
       "    </tr>\n",
       "    <tr>\n",
       "      <th>13</th>\n",
       "      <td>microsoft</td>\n",
       "      <td>59.000000</td>\n",
       "      <td>59.0</td>\n",
       "    </tr>\n",
       "    <tr>\n",
       "      <th>14</th>\n",
       "      <td>infinix</td>\n",
       "      <td>57.230769</td>\n",
       "      <td>57.0</td>\n",
       "    </tr>\n",
       "    <tr>\n",
       "      <th>15</th>\n",
       "      <td>realme</td>\n",
       "      <td>57.000000</td>\n",
       "      <td>57.0</td>\n",
       "    </tr>\n",
       "    <tr>\n",
       "      <th>16</th>\n",
       "      <td>apple</td>\n",
       "      <td>53.533333</td>\n",
       "      <td>53.0</td>\n",
       "    </tr>\n",
       "    <tr>\n",
       "      <th>17</th>\n",
       "      <td>wings</td>\n",
       "      <td>53.500000</td>\n",
       "      <td>53.5</td>\n",
       "    </tr>\n",
       "    <tr>\n",
       "      <th>18</th>\n",
       "      <td>chuwi</td>\n",
       "      <td>51.000000</td>\n",
       "      <td>50.0</td>\n",
       "    </tr>\n",
       "    <tr>\n",
       "      <th>19</th>\n",
       "      <td>avita</td>\n",
       "      <td>48.200000</td>\n",
       "      <td>50.0</td>\n",
       "    </tr>\n",
       "    <tr>\n",
       "      <th>20</th>\n",
       "      <td>ultimus</td>\n",
       "      <td>47.500000</td>\n",
       "      <td>46.5</td>\n",
       "    </tr>\n",
       "    <tr>\n",
       "      <th>21</th>\n",
       "      <td>iball</td>\n",
       "      <td>41.000000</td>\n",
       "      <td>41.0</td>\n",
       "    </tr>\n",
       "    <tr>\n",
       "      <th>22</th>\n",
       "      <td>axl</td>\n",
       "      <td>37.500000</td>\n",
       "      <td>37.5</td>\n",
       "    </tr>\n",
       "    <tr>\n",
       "      <th>23</th>\n",
       "      <td>walker</td>\n",
       "      <td>37.000000</td>\n",
       "      <td>37.0</td>\n",
       "    </tr>\n",
       "    <tr>\n",
       "      <th>24</th>\n",
       "      <td>primebook</td>\n",
       "      <td>28.500000</td>\n",
       "      <td>28.5</td>\n",
       "    </tr>\n",
       "    <tr>\n",
       "      <th>25</th>\n",
       "      <td>jio</td>\n",
       "      <td>24.000000</td>\n",
       "      <td>24.0</td>\n",
       "    </tr>\n",
       "  </tbody>\n",
       "</table>\n",
       "</div>"
      ],
      "text/plain": [
       "        brand       mean  median\n",
       "0          lg  72.142857    72.0\n",
       "1         msi  70.888889    71.0\n",
       "2     fujitsu  70.200000    70.0\n",
       "3    gigabyte  70.000000    70.0\n",
       "4        asus  65.438095    66.0\n",
       "5       tecno  65.000000    65.0\n",
       "6   zebronics  64.857143    65.0\n",
       "7        dell  64.603774    62.0\n",
       "8          hp  64.492683    66.0\n",
       "9      lenovo  62.552239    62.0\n",
       "10      honor  62.500000    62.5\n",
       "11       acer  61.775281    63.0\n",
       "12    samsung  61.714286    60.0\n",
       "13  microsoft  59.000000    59.0\n",
       "14    infinix  57.230769    57.0\n",
       "15     realme  57.000000    57.0\n",
       "16      apple  53.533333    53.0\n",
       "17      wings  53.500000    53.5\n",
       "18      chuwi  51.000000    50.0\n",
       "19      avita  48.200000    50.0\n",
       "20    ultimus  47.500000    46.5\n",
       "21      iball  41.000000    41.0\n",
       "22        axl  37.500000    37.5\n",
       "23     walker  37.000000    37.0\n",
       "24  primebook  28.500000    28.5\n",
       "25        jio  24.000000    24.0"
      ]
     },
     "execution_count": 27,
     "metadata": {},
     "output_type": "execute_result"
    }
   ],
   "source": [
    "rating_stats = df.groupby('brand')['rating'].agg(['mean', 'median'])\n",
    "rating_stats = rating_stats.sort_values(by=['mean', 'median'], ascending=[False, False]).reset_index()\n",
    "\n",
    "rating_stats"
   ]
  },
  {
   "cell_type": "code",
   "execution_count": 28,
   "id": "6121fc18",
   "metadata": {
    "execution": {
     "iopub.execute_input": "2024-03-13T08:24:25.139444Z",
     "iopub.status.busy": "2024-03-13T08:24:25.138216Z",
     "iopub.status.idle": "2024-03-13T08:24:26.025884Z",
     "shell.execute_reply": "2024-03-13T08:24:26.024604Z"
    },
    "papermill": {
     "duration": 0.921841,
     "end_time": "2024-03-13T08:24:26.028458",
     "exception": false,
     "start_time": "2024-03-13T08:24:25.106617",
     "status": "completed"
    },
    "tags": []
   },
   "outputs": [
    {
     "data": {
      "image/png": "[encoded data removed]",
      "text/plain": [
       "<Figure size 1200x700 with 1 Axes>"
      ]
     },
     "metadata": {},
     "output_type": "display_data"
    }
   ],
   "source": [
    "plt.figure(figsize=(12, 7))\n",
    "sns.boxplot(data=df, x='rating', y='brand')\n",
    "plt.xlabel('Rating', fontsize=14)\n",
    "plt.ylabel('Brand', fontsize=14)\n",
    "plt.title('Boxplot of Rating wrt Brand', fontsize=16)\n",
    "plt.tight_layout()\n",
    "plt.show()"
   ]
  },
  {
   "cell_type": "code",
   "execution_count": 29,
   "id": "311ce83c",
   "metadata": {
    "execution": {
     "iopub.execute_input": "2024-03-13T08:24:26.096209Z",
     "iopub.status.busy": "2024-03-13T08:24:26.095682Z",
     "iopub.status.idle": "2024-03-13T08:24:26.106215Z",
     "shell.execute_reply": "2024-03-13T08:24:26.104776Z"
    },
    "papermill": {
     "duration": 0.046527,
     "end_time": "2024-03-13T08:24:26.108859",
     "exception": false,
     "start_time": "2024-03-13T08:24:26.062332",
     "status": "completed"
    },
    "tags": []
   },
   "outputs": [
    {
     "data": {
      "text/plain": [
       "processor_brand\n",
       "intel    705\n",
       "amd      267\n",
       "apple     15\n",
       "other      4\n",
       "Name: count, dtype: int64"
      ]
     },
     "execution_count": 29,
     "metadata": {},
     "output_type": "execute_result"
    }
   ],
   "source": [
    "# Let's explore the 'processor_brand' column\n",
    "df['processor_brand'].value_counts()"
   ]
  },
  {
   "cell_type": "code",
   "execution_count": 30,
   "id": "eda78318",
   "metadata": {
    "execution": {
     "iopub.execute_input": "2024-03-13T08:24:26.176715Z",
     "iopub.status.busy": "2024-03-13T08:24:26.174510Z",
     "iopub.status.idle": "2024-03-13T08:24:26.572072Z",
     "shell.execute_reply": "2024-03-13T08:24:26.570918Z"
    },
    "papermill": {
     "duration": 0.434416,
     "end_time": "2024-03-13T08:24:26.574976",
     "exception": false,
     "start_time": "2024-03-13T08:24:26.140560",
     "status": "completed"
    },
    "tags": []
   },
   "outputs": [
    {
     "data": {
      "image/png": "[encoded data removed]",
      "text/plain": [
       "<Figure size 1000x700 with 1 Axes>"
      ]
     },
     "metadata": {},
     "output_type": "display_data"
    }
   ],
   "source": [
    "plt.figure(figsize=(10, 7))\n",
    "sns.countplot(data=df, x='processor_brand')\n",
    "plt.title('Count of Processor Brand Instances', fontsize=16)\n",
    "plt.ylabel('Count', fontsize=14)\n",
    "plt.xlabel('Processor Brand', fontsize=14)\n",
    "plt.tight_layout()\n",
    "plt.show()"
   ]
  },
  {
   "cell_type": "code",
   "execution_count": 31,
   "id": "ed03892f",
   "metadata": {
    "execution": {
     "iopub.execute_input": "2024-03-13T08:24:26.644094Z",
     "iopub.status.busy": "2024-03-13T08:24:26.643703Z",
     "iopub.status.idle": "2024-03-13T08:24:26.661425Z",
     "shell.execute_reply": "2024-03-13T08:24:26.660252Z"
    },
    "papermill": {
     "duration": 0.05806,
     "end_time": "2024-03-13T08:24:26.663894",
     "exception": false,
     "start_time": "2024-03-13T08:24:26.605834",
     "status": "completed"
    },
    "tags": []
   },
   "outputs": [
    {
     "data": {
      "text/html": [
       "<div>\n",
       "<style scoped>\n",
       "    .dataframe tbody tr th:only-of-type {\n",
       "        vertical-align: middle;\n",
       "    }\n",
       "\n",
       "    .dataframe tbody tr th {\n",
       "        vertical-align: top;\n",
       "    }\n",
       "\n",
       "    .dataframe thead th {\n",
       "        text-align: right;\n",
       "    }\n",
       "</style>\n",
       "<table border=\"1\" class=\"dataframe\">\n",
       "  <thead>\n",
       "    <tr style=\"text-align: right;\">\n",
       "      <th></th>\n",
       "      <th>mean</th>\n",
       "      <th>median</th>\n",
       "    </tr>\n",
       "    <tr>\n",
       "      <th>processor_brand</th>\n",
       "      <th></th>\n",
       "      <th></th>\n",
       "    </tr>\n",
       "  </thead>\n",
       "  <tbody>\n",
       "    <tr>\n",
       "      <th>apple</th>\n",
       "      <td>193875.333333</td>\n",
       "      <td>169900.0</td>\n",
       "    </tr>\n",
       "    <tr>\n",
       "      <th>intel</th>\n",
       "      <td>79789.222695</td>\n",
       "      <td>62990.0</td>\n",
       "    </tr>\n",
       "    <tr>\n",
       "      <th>amd</th>\n",
       "      <td>64903.902622</td>\n",
       "      <td>56490.0</td>\n",
       "    </tr>\n",
       "    <tr>\n",
       "      <th>other</th>\n",
       "      <td>20558.000000</td>\n",
       "      <td>14845.5</td>\n",
       "    </tr>\n",
       "  </tbody>\n",
       "</table>\n",
       "</div>"
      ],
      "text/plain": [
       "                          mean    median\n",
       "processor_brand                         \n",
       "apple            193875.333333  169900.0\n",
       "intel             79789.222695   62990.0\n",
       "amd               64903.902622   56490.0\n",
       "other             20558.000000   14845.5"
      ]
     },
     "execution_count": 31,
     "metadata": {},
     "output_type": "execute_result"
    }
   ],
   "source": [
    "processor_brand_stats = df.groupby('processor_brand')['price'].agg(['mean', 'median'])\n",
    "processor_brand_stats = processor_brand_stats.sort_values(by=['mean', 'median'], \n",
    "                                                          ascending=[False, False])\n",
    "\n",
    "processor_brand_stats"
   ]
  },
  {
   "cell_type": "code",
   "execution_count": 32,
   "id": "12d96c89",
   "metadata": {
    "execution": {
     "iopub.execute_input": "2024-03-13T08:24:26.730464Z",
     "iopub.status.busy": "2024-03-13T08:24:26.729842Z",
     "iopub.status.idle": "2024-03-13T08:24:26.742309Z",
     "shell.execute_reply": "2024-03-13T08:24:26.741114Z"
    },
    "papermill": {
     "duration": 0.048504,
     "end_time": "2024-03-13T08:24:26.744898",
     "exception": false,
     "start_time": "2024-03-13T08:24:26.696394",
     "status": "completed"
    },
    "tags": []
   },
   "outputs": [
    {
     "data": {
      "text/html": [
       "<div>\n",
       "<style scoped>\n",
       "    .dataframe tbody tr th:only-of-type {\n",
       "        vertical-align: middle;\n",
       "    }\n",
       "\n",
       "    .dataframe tbody tr th {\n",
       "        vertical-align: top;\n",
       "    }\n",
       "\n",
       "    .dataframe thead th {\n",
       "        text-align: right;\n",
       "    }\n",
       "</style>\n",
       "<table border=\"1\" class=\"dataframe\">\n",
       "  <thead>\n",
       "    <tr style=\"text-align: right;\">\n",
       "      <th></th>\n",
       "      <th>processor_tier</th>\n",
       "      <th>count</th>\n",
       "    </tr>\n",
       "  </thead>\n",
       "  <tbody>\n",
       "    <tr>\n",
       "      <th>0</th>\n",
       "      <td>core i5</td>\n",
       "      <td>335</td>\n",
       "    </tr>\n",
       "    <tr>\n",
       "      <th>1</th>\n",
       "      <td>core i7</td>\n",
       "      <td>159</td>\n",
       "    </tr>\n",
       "    <tr>\n",
       "      <th>2</th>\n",
       "      <td>ryzen 5</td>\n",
       "      <td>139</td>\n",
       "    </tr>\n",
       "    <tr>\n",
       "      <th>3</th>\n",
       "      <td>core i3</td>\n",
       "      <td>127</td>\n",
       "    </tr>\n",
       "    <tr>\n",
       "      <th>4</th>\n",
       "      <td>ryzen 7</td>\n",
       "      <td>77</td>\n",
       "    </tr>\n",
       "    <tr>\n",
       "      <th>5</th>\n",
       "      <td>celeron</td>\n",
       "      <td>40</td>\n",
       "    </tr>\n",
       "    <tr>\n",
       "      <th>6</th>\n",
       "      <td>core i9</td>\n",
       "      <td>37</td>\n",
       "    </tr>\n",
       "    <tr>\n",
       "      <th>7</th>\n",
       "      <td>ryzen 3</td>\n",
       "      <td>31</td>\n",
       "    </tr>\n",
       "    <tr>\n",
       "      <th>8</th>\n",
       "      <td>other</td>\n",
       "      <td>14</td>\n",
       "    </tr>\n",
       "    <tr>\n",
       "      <th>9</th>\n",
       "      <td>ryzen 9</td>\n",
       "      <td>12</td>\n",
       "    </tr>\n",
       "    <tr>\n",
       "      <th>10</th>\n",
       "      <td>m3</td>\n",
       "      <td>8</td>\n",
       "    </tr>\n",
       "    <tr>\n",
       "      <th>11</th>\n",
       "      <td>m2</td>\n",
       "      <td>6</td>\n",
       "    </tr>\n",
       "    <tr>\n",
       "      <th>12</th>\n",
       "      <td>core ultra 7</td>\n",
       "      <td>3</td>\n",
       "    </tr>\n",
       "    <tr>\n",
       "      <th>13</th>\n",
       "      <td>pentium</td>\n",
       "      <td>2</td>\n",
       "    </tr>\n",
       "    <tr>\n",
       "      <th>14</th>\n",
       "      <td>m1</td>\n",
       "      <td>1</td>\n",
       "    </tr>\n",
       "  </tbody>\n",
       "</table>\n",
       "</div>"
      ],
      "text/plain": [
       "   processor_tier  count\n",
       "0         core i5    335\n",
       "1         core i7    159\n",
       "2         ryzen 5    139\n",
       "3         core i3    127\n",
       "4         ryzen 7     77\n",
       "5         celeron     40\n",
       "6         core i9     37\n",
       "7         ryzen 3     31\n",
       "8           other     14\n",
       "9         ryzen 9     12\n",
       "10             m3      8\n",
       "11             m2      6\n",
       "12   core ultra 7      3\n",
       "13        pentium      2\n",
       "14             m1      1"
      ]
     },
     "execution_count": 32,
     "metadata": {},
     "output_type": "execute_result"
    }
   ],
   "source": [
    "# Let's explore the 'processor_tier' column\n",
    "df['processor_tier'].value_counts().reset_index()"
   ]
  },
  {
   "cell_type": "code",
   "execution_count": 33,
   "id": "0de9c3c9",
   "metadata": {
    "execution": {
     "iopub.execute_input": "2024-03-13T08:24:26.812445Z",
     "iopub.status.busy": "2024-03-13T08:24:26.811998Z",
     "iopub.status.idle": "2024-03-13T08:24:27.264223Z",
     "shell.execute_reply": "2024-03-13T08:24:27.262908Z"
    },
    "papermill": {
     "duration": 0.488221,
     "end_time": "2024-03-13T08:24:27.266743",
     "exception": false,
     "start_time": "2024-03-13T08:24:26.778522",
     "status": "completed"
    },
    "tags": []
   },
   "outputs": [
    {
     "data": {
      "image/png": "[encoded data removed]",
      "text/plain": [
       "<Figure size 1200x700 with 1 Axes>"
      ]
     },
     "metadata": {},
     "output_type": "display_data"
    }
   ],
   "source": [
    "plt.figure(figsize=(12, 7))\n",
    "\n",
    "sns.countplot(data=df, x='processor_tier', order=df['processor_tier'].value_counts().reset_index()['processor_tier'])\n",
    "plt.xlabel('Count', fontsize=14)\n",
    "plt.ylabel('Processor Tier', fontsize=14)\n",
    "plt.xticks(rotation=45)\n",
    "\n",
    "plt.show()"
   ]
  },
  {
   "cell_type": "code",
   "execution_count": 34,
   "id": "bfefb37f",
   "metadata": {
    "execution": {
     "iopub.execute_input": "2024-03-13T08:24:27.334346Z",
     "iopub.status.busy": "2024-03-13T08:24:27.333915Z",
     "iopub.status.idle": "2024-03-13T08:24:27.354941Z",
     "shell.execute_reply": "2024-03-13T08:24:27.353796Z"
    },
    "papermill": {
     "duration": 0.057372,
     "end_time": "2024-03-13T08:24:27.357461",
     "exception": false,
     "start_time": "2024-03-13T08:24:27.300089",
     "status": "completed"
    },
    "tags": []
   },
   "outputs": [
    {
     "data": {
      "text/html": [
       "<div>\n",
       "<style scoped>\n",
       "    .dataframe tbody tr th:only-of-type {\n",
       "        vertical-align: middle;\n",
       "    }\n",
       "\n",
       "    .dataframe tbody tr th {\n",
       "        vertical-align: top;\n",
       "    }\n",
       "\n",
       "    .dataframe thead th {\n",
       "        text-align: right;\n",
       "    }\n",
       "</style>\n",
       "<table border=\"1\" class=\"dataframe\">\n",
       "  <thead>\n",
       "    <tr style=\"text-align: right;\">\n",
       "      <th></th>\n",
       "      <th>processor_tier</th>\n",
       "      <th>mean</th>\n",
       "      <th>median</th>\n",
       "    </tr>\n",
       "  </thead>\n",
       "  <tbody>\n",
       "    <tr>\n",
       "      <th>0</th>\n",
       "      <td>m3</td>\n",
       "      <td>261150.000000</td>\n",
       "      <td>244900.0</td>\n",
       "    </tr>\n",
       "    <tr>\n",
       "      <th>1</th>\n",
       "      <td>core i9</td>\n",
       "      <td>236658.810811</td>\n",
       "      <td>209890.0</td>\n",
       "    </tr>\n",
       "    <tr>\n",
       "      <th>2</th>\n",
       "      <td>core ultra 7</td>\n",
       "      <td>178046.666667</td>\n",
       "      <td>165900.0</td>\n",
       "    </tr>\n",
       "    <tr>\n",
       "      <th>3</th>\n",
       "      <td>ryzen 9</td>\n",
       "      <td>165071.666667</td>\n",
       "      <td>142490.0</td>\n",
       "    </tr>\n",
       "    <tr>\n",
       "      <th>4</th>\n",
       "      <td>m2</td>\n",
       "      <td>124656.666667</td>\n",
       "      <td>126490.0</td>\n",
       "    </tr>\n",
       "    <tr>\n",
       "      <th>5</th>\n",
       "      <td>core i7</td>\n",
       "      <td>117426.295597</td>\n",
       "      <td>105990.0</td>\n",
       "    </tr>\n",
       "    <tr>\n",
       "      <th>6</th>\n",
       "      <td>ryzen 7</td>\n",
       "      <td>86739.025974</td>\n",
       "      <td>79970.0</td>\n",
       "    </tr>\n",
       "    <tr>\n",
       "      <th>7</th>\n",
       "      <td>m1</td>\n",
       "      <td>70990.000000</td>\n",
       "      <td>70990.0</td>\n",
       "    </tr>\n",
       "    <tr>\n",
       "      <th>8</th>\n",
       "      <td>core i5</td>\n",
       "      <td>66845.158209</td>\n",
       "      <td>63990.0</td>\n",
       "    </tr>\n",
       "    <tr>\n",
       "      <th>9</th>\n",
       "      <td>ryzen 5</td>\n",
       "      <td>53927.654676</td>\n",
       "      <td>51990.0</td>\n",
       "    </tr>\n",
       "    <tr>\n",
       "      <th>10</th>\n",
       "      <td>core i3</td>\n",
       "      <td>38412.984252</td>\n",
       "      <td>37040.0</td>\n",
       "    </tr>\n",
       "    <tr>\n",
       "      <th>11</th>\n",
       "      <td>ryzen 3</td>\n",
       "      <td>31667.258065</td>\n",
       "      <td>32490.0</td>\n",
       "    </tr>\n",
       "    <tr>\n",
       "      <th>12</th>\n",
       "      <td>pentium</td>\n",
       "      <td>30598.000000</td>\n",
       "      <td>30598.0</td>\n",
       "    </tr>\n",
       "    <tr>\n",
       "      <th>13</th>\n",
       "      <td>celeron</td>\n",
       "      <td>23138.550000</td>\n",
       "      <td>23490.5</td>\n",
       "    </tr>\n",
       "    <tr>\n",
       "      <th>14</th>\n",
       "      <td>other</td>\n",
       "      <td>21855.000000</td>\n",
       "      <td>21990.0</td>\n",
       "    </tr>\n",
       "  </tbody>\n",
       "</table>\n",
       "</div>"
      ],
      "text/plain": [
       "   processor_tier           mean    median\n",
       "0              m3  261150.000000  244900.0\n",
       "1         core i9  236658.810811  209890.0\n",
       "2    core ultra 7  178046.666667  165900.0\n",
       "3         ryzen 9  165071.666667  142490.0\n",
       "4              m2  124656.666667  126490.0\n",
       "5         core i7  117426.295597  105990.0\n",
       "6         ryzen 7   86739.025974   79970.0\n",
       "7              m1   70990.000000   70990.0\n",
       "8         core i5   66845.158209   63990.0\n",
       "9         ryzen 5   53927.654676   51990.0\n",
       "10        core i3   38412.984252   37040.0\n",
       "11        ryzen 3   31667.258065   32490.0\n",
       "12        pentium   30598.000000   30598.0\n",
       "13        celeron   23138.550000   23490.5\n",
       "14          other   21855.000000   21990.0"
      ]
     },
     "execution_count": 34,
     "metadata": {},
     "output_type": "execute_result"
    }
   ],
   "source": [
    "processor_tier_stats = df.groupby('processor_tier')['price'].agg(['mean', 'median'])\n",
    "processor_tier_stats = processor_tier_stats.sort_values(by=['mean', 'median'],\n",
    "                                                        ascending=[False, False])\n",
    "\n",
    "processor_tier_stats.reset_index()"
   ]
  },
  {
   "cell_type": "code",
   "execution_count": 35,
   "id": "559283cd",
   "metadata": {
    "execution": {
     "iopub.execute_input": "2024-03-13T08:24:27.424140Z",
     "iopub.status.busy": "2024-03-13T08:24:27.423671Z",
     "iopub.status.idle": "2024-03-13T08:24:27.436945Z",
     "shell.execute_reply": "2024-03-13T08:24:27.435713Z"
    },
    "papermill": {
     "duration": 0.049959,
     "end_time": "2024-03-13T08:24:27.439517",
     "exception": false,
     "start_time": "2024-03-13T08:24:27.389558",
     "status": "completed"
    },
    "tags": []
   },
   "outputs": [
    {
     "data": {
      "text/plain": [
       "count    991.000000\n",
       "mean       8.128153\n",
       "std        4.215499\n",
       "min        2.000000\n",
       "25%        6.000000\n",
       "50%        8.000000\n",
       "75%       10.000000\n",
       "max       24.000000\n",
       "Name: num_cores, dtype: float64"
      ]
     },
     "execution_count": 35,
     "metadata": {},
     "output_type": "execute_result"
    }
   ],
   "source": [
    "# Let's explore the 'num_cores' column\n",
    "df['num_cores'].describe()"
   ]
  },
  {
   "cell_type": "code",
   "execution_count": 36,
   "id": "fc410d55",
   "metadata": {
    "execution": {
     "iopub.execute_input": "2024-03-13T08:24:27.507142Z",
     "iopub.status.busy": "2024-03-13T08:24:27.506727Z",
     "iopub.status.idle": "2024-03-13T08:24:28.206977Z",
     "shell.execute_reply": "2024-03-13T08:24:28.205415Z"
    },
    "papermill": {
     "duration": 0.739676,
     "end_time": "2024-03-13T08:24:28.210419",
     "exception": false,
     "start_time": "2024-03-13T08:24:27.470743",
     "status": "completed"
    },
    "tags": []
   },
   "outputs": [
    {
     "name": "stderr",
     "output_type": "stream",
     "text": [
      "/opt/conda/lib/python3.10/site-packages/seaborn/_oldcore.py:1119: FutureWarning: use_inf_as_na option is deprecated and will be removed in a future version. Convert inf values to NaN before operating instead.\n",
      "  with pd.option_context('mode.use_inf_as_na', True):\n"
     ]
    },
    {
     "data": {
      "image/png": "[encoded data removed]",
      "text/plain": [
       "<Figure size 1000x700 with 1 Axes>"
      ]
     },
     "metadata": {},
     "output_type": "display_data"
    }
   ],
   "source": [
    "plt.figure(figsize=(10, 7))\n",
    "\n",
    "sns.histplot(data=df, x='num_cores', bins=12, kde=True)\n",
    "plt.title('Histogram of num_cores')\n",
    "plt.tight_layout()\n",
    "\n",
    "plt.show()"
   ]
  },
  {
   "cell_type": "code",
   "execution_count": 37,
   "id": "a5f3b01a",
   "metadata": {
    "execution": {
     "iopub.execute_input": "2024-03-13T08:24:28.284551Z",
     "iopub.status.busy": "2024-03-13T08:24:28.284059Z",
     "iopub.status.idle": "2024-03-13T08:24:28.293024Z",
     "shell.execute_reply": "2024-03-13T08:24:28.292065Z"
    },
    "papermill": {
     "duration": 0.05089,
     "end_time": "2024-03-13T08:24:28.296472",
     "exception": false,
     "start_time": "2024-03-13T08:24:28.245582",
     "status": "completed"
    },
    "tags": []
   },
   "outputs": [
    {
     "data": {
      "text/plain": [
       "(array([ 2,  4,  6, 12,  8, 14, 20, 10, 16, 24,  5, 11]), 12)"
      ]
     },
     "execution_count": 37,
     "metadata": {},
     "output_type": "execute_result"
    }
   ],
   "source": [
    "df['num_cores'].unique(), len(df['num_cores'].unique())"
   ]
  },
  {
   "cell_type": "markdown",
   "id": "e14b2cc3",
   "metadata": {
    "papermill": {
     "duration": 0.032211,
     "end_time": "2024-03-13T08:24:28.363794",
     "exception": false,
     "start_time": "2024-03-13T08:24:28.331583",
     "status": "completed"
    },
    "tags": []
   },
   "source": [
    "My intuition says that greater the number of cores, greater would be the price of the laptop. Let's check it!"
   ]
  },
  {
   "cell_type": "code",
   "execution_count": 38,
   "id": "c13ed693",
   "metadata": {
    "execution": {
     "iopub.execute_input": "2024-03-13T08:24:28.435699Z",
     "iopub.status.busy": "2024-03-13T08:24:28.434901Z",
     "iopub.status.idle": "2024-03-13T08:24:28.444333Z",
     "shell.execute_reply": "2024-03-13T08:24:28.443138Z"
    },
    "papermill": {
     "duration": 0.049743,
     "end_time": "2024-03-13T08:24:28.447046",
     "exception": false,
     "start_time": "2024-03-13T08:24:28.397303",
     "status": "completed"
    },
    "tags": []
   },
   "outputs": [
    {
     "data": {
      "text/plain": [
       "0.7244554536912874"
      ]
     },
     "execution_count": 38,
     "metadata": {},
     "output_type": "execute_result"
    }
   ],
   "source": [
    "df['num_cores'].corr(df['price'])"
   ]
  },
  {
   "cell_type": "markdown",
   "id": "2687e30f",
   "metadata": {
    "execution": {
     "iopub.execute_input": "2024-03-12T04:19:23.423481Z",
     "iopub.status.busy": "2024-03-12T04:19:23.423086Z",
     "iopub.status.idle": "2024-03-12T04:19:23.432156Z",
     "shell.execute_reply": "2024-03-12T04:19:23.430611Z",
     "shell.execute_reply.started": "2024-03-12T04:19:23.423452Z"
    },
    "papermill": {
     "duration": 0.03571,
     "end_time": "2024-03-13T08:24:28.516960",
     "exception": false,
     "start_time": "2024-03-13T08:24:28.481250",
     "status": "completed"
    },
    "tags": []
   },
   "source": [
    "OK, that correlation is pretty high. So **num_cores** would potentially turn out to be a great feature, provided it does not have a high correlation with any other feature(s)."
   ]
  },
  {
   "cell_type": "markdown",
   "id": "e95aba46",
   "metadata": {
    "papermill": {
     "duration": 0.032433,
     "end_time": "2024-03-13T08:24:28.581540",
     "exception": false,
     "start_time": "2024-03-13T08:24:28.549107",
     "status": "completed"
    },
    "tags": []
   },
   "source": [
    "There are 991 unique rows in the dataframe and only 12 unique values in df['num_cores']. So grouping the dataframe by 'num_cores' sounds good to me."
   ]
  },
  {
   "cell_type": "code",
   "execution_count": 39,
   "id": "ab06402e",
   "metadata": {
    "execution": {
     "iopub.execute_input": "2024-03-13T08:24:28.651123Z",
     "iopub.status.busy": "2024-03-13T08:24:28.650746Z",
     "iopub.status.idle": "2024-03-13T08:24:28.669008Z",
     "shell.execute_reply": "2024-03-13T08:24:28.667548Z"
    },
    "papermill": {
     "duration": 0.058079,
     "end_time": "2024-03-13T08:24:28.672250",
     "exception": false,
     "start_time": "2024-03-13T08:24:28.614171",
     "status": "completed"
    },
    "tags": []
   },
   "outputs": [
    {
     "data": {
      "text/html": [
       "<div>\n",
       "<style scoped>\n",
       "    .dataframe tbody tr th:only-of-type {\n",
       "        vertical-align: middle;\n",
       "    }\n",
       "\n",
       "    .dataframe tbody tr th {\n",
       "        vertical-align: top;\n",
       "    }\n",
       "\n",
       "    .dataframe thead th {\n",
       "        text-align: right;\n",
       "    }\n",
       "</style>\n",
       "<table border=\"1\" class=\"dataframe\">\n",
       "  <thead>\n",
       "    <tr style=\"text-align: right;\">\n",
       "      <th></th>\n",
       "      <th>num_cores</th>\n",
       "      <th>mean</th>\n",
       "      <th>median</th>\n",
       "    </tr>\n",
       "  </thead>\n",
       "  <tbody>\n",
       "    <tr>\n",
       "      <th>0</th>\n",
       "      <td>24</td>\n",
       "      <td>264701.523810</td>\n",
       "      <td>260990.0</td>\n",
       "    </tr>\n",
       "    <tr>\n",
       "      <th>1</th>\n",
       "      <td>11</td>\n",
       "      <td>199900.000000</td>\n",
       "      <td>199900.0</td>\n",
       "    </tr>\n",
       "    <tr>\n",
       "      <th>2</th>\n",
       "      <td>16</td>\n",
       "      <td>178448.428571</td>\n",
       "      <td>165900.0</td>\n",
       "    </tr>\n",
       "    <tr>\n",
       "      <th>3</th>\n",
       "      <td>20</td>\n",
       "      <td>165244.500000</td>\n",
       "      <td>165244.5</td>\n",
       "    </tr>\n",
       "    <tr>\n",
       "      <th>4</th>\n",
       "      <td>14</td>\n",
       "      <td>158735.155172</td>\n",
       "      <td>131294.5</td>\n",
       "    </tr>\n",
       "    <tr>\n",
       "      <th>5</th>\n",
       "      <td>12</td>\n",
       "      <td>96285.559140</td>\n",
       "      <td>84990.0</td>\n",
       "    </tr>\n",
       "    <tr>\n",
       "      <th>6</th>\n",
       "      <td>8</td>\n",
       "      <td>82441.791209</td>\n",
       "      <td>72990.0</td>\n",
       "    </tr>\n",
       "    <tr>\n",
       "      <th>7</th>\n",
       "      <td>10</td>\n",
       "      <td>78694.405405</td>\n",
       "      <td>67400.0</td>\n",
       "    </tr>\n",
       "    <tr>\n",
       "      <th>8</th>\n",
       "      <td>5</td>\n",
       "      <td>56970.250000</td>\n",
       "      <td>43990.0</td>\n",
       "    </tr>\n",
       "    <tr>\n",
       "      <th>9</th>\n",
       "      <td>6</td>\n",
       "      <td>51873.328283</td>\n",
       "      <td>50990.0</td>\n",
       "    </tr>\n",
       "    <tr>\n",
       "      <th>10</th>\n",
       "      <td>4</td>\n",
       "      <td>43654.689922</td>\n",
       "      <td>43990.0</td>\n",
       "    </tr>\n",
       "    <tr>\n",
       "      <th>11</th>\n",
       "      <td>2</td>\n",
       "      <td>28520.053763</td>\n",
       "      <td>28750.0</td>\n",
       "    </tr>\n",
       "  </tbody>\n",
       "</table>\n",
       "</div>"
      ],
      "text/plain": [
       "    num_cores           mean    median\n",
       "0          24  264701.523810  260990.0\n",
       "1          11  199900.000000  199900.0\n",
       "2          16  178448.428571  165900.0\n",
       "3          20  165244.500000  165244.5\n",
       "4          14  158735.155172  131294.5\n",
       "5          12   96285.559140   84990.0\n",
       "6           8   82441.791209   72990.0\n",
       "7          10   78694.405405   67400.0\n",
       "8           5   56970.250000   43990.0\n",
       "9           6   51873.328283   50990.0\n",
       "10          4   43654.689922   43990.0\n",
       "11          2   28520.053763   28750.0"
      ]
     },
     "execution_count": 39,
     "metadata": {},
     "output_type": "execute_result"
    }
   ],
   "source": [
    "num_cores_stats = df.groupby('num_cores')['price'].agg(['mean', 'median'])\n",
    "num_cores_stats = num_cores_stats.sort_values(by=['mean', 'median'],\n",
    "                                              ascending=[False, False])\n",
    "\n",
    "num_cores_stats.reset_index()"
   ]
  },
  {
   "cell_type": "code",
   "execution_count": 40,
   "id": "ab6a01ce",
   "metadata": {
    "execution": {
     "iopub.execute_input": "2024-03-13T08:24:28.741405Z",
     "iopub.status.busy": "2024-03-13T08:24:28.740933Z",
     "iopub.status.idle": "2024-03-13T08:24:28.769264Z",
     "shell.execute_reply": "2024-03-13T08:24:28.768068Z"
    },
    "papermill": {
     "duration": 0.065775,
     "end_time": "2024-03-13T08:24:28.771643",
     "exception": false,
     "start_time": "2024-03-13T08:24:28.705868",
     "status": "completed"
    },
    "tags": []
   },
   "outputs": [
    {
     "data": {
      "text/html": [
       "<div>\n",
       "<style scoped>\n",
       "    .dataframe tbody tr th:only-of-type {\n",
       "        vertical-align: middle;\n",
       "    }\n",
       "\n",
       "    .dataframe tbody tr th {\n",
       "        vertical-align: top;\n",
       "    }\n",
       "\n",
       "    .dataframe thead th {\n",
       "        text-align: right;\n",
       "    }\n",
       "</style>\n",
       "<table border=\"1\" class=\"dataframe\">\n",
       "  <thead>\n",
       "    <tr style=\"text-align: right;\">\n",
       "      <th></th>\n",
       "      <th>brand</th>\n",
       "      <th>model</th>\n",
       "      <th>price</th>\n",
       "      <th>rating</th>\n",
       "      <th>processor_brand</th>\n",
       "      <th>processor_tier</th>\n",
       "      <th>num_cores</th>\n",
       "      <th>num_threads</th>\n",
       "      <th>ram_memory</th>\n",
       "      <th>primary_storage_type</th>\n",
       "      <th>...</th>\n",
       "      <th>secondary_storage_type</th>\n",
       "      <th>secondary_storage_capacity</th>\n",
       "      <th>gpu_brand</th>\n",
       "      <th>gpu_type</th>\n",
       "      <th>is_touch_screen</th>\n",
       "      <th>display_size</th>\n",
       "      <th>resolution_width</th>\n",
       "      <th>resolution_height</th>\n",
       "      <th>OS</th>\n",
       "      <th>year_of_warranty</th>\n",
       "    </tr>\n",
       "  </thead>\n",
       "  <tbody>\n",
       "    <tr>\n",
       "      <th>144</th>\n",
       "      <td>apple</td>\n",
       "      <td>Apple MacBook Pro 14 2023 Laptop (Apple M3 Pro...</td>\n",
       "      <td>199900</td>\n",
       "      <td>56</td>\n",
       "      <td>apple</td>\n",
       "      <td>m3</td>\n",
       "      <td>11</td>\n",
       "      <td>11</td>\n",
       "      <td>8</td>\n",
       "      <td>SSD</td>\n",
       "      <td>...</td>\n",
       "      <td>No secondary storage</td>\n",
       "      <td>0</td>\n",
       "      <td>apple</td>\n",
       "      <td>apple</td>\n",
       "      <td>False</td>\n",
       "      <td>14.2</td>\n",
       "      <td>3024</td>\n",
       "      <td>1964</td>\n",
       "      <td>mac</td>\n",
       "      <td>1</td>\n",
       "    </tr>\n",
       "  </tbody>\n",
       "</table>\n",
       "<p>1 rows × 21 columns</p>\n",
       "</div>"
      ],
      "text/plain": [
       "     brand                                              model   price  rating  \\\n",
       "144  apple  Apple MacBook Pro 14 2023 Laptop (Apple M3 Pro...  199900      56   \n",
       "\n",
       "    processor_brand processor_tier  num_cores  num_threads  ram_memory  \\\n",
       "144           apple             m3         11           11           8   \n",
       "\n",
       "    primary_storage_type  ...  secondary_storage_type  \\\n",
       "144                  SSD  ...    No secondary storage   \n",
       "\n",
       "    secondary_storage_capacity  gpu_brand gpu_type is_touch_screen  \\\n",
       "144                          0      apple    apple           False   \n",
       "\n",
       "     display_size  resolution_width  resolution_height   OS year_of_warranty  \n",
       "144          14.2              3024               1964  mac                1  \n",
       "\n",
       "[1 rows x 21 columns]"
      ]
     },
     "execution_count": 40,
     "metadata": {},
     "output_type": "execute_result"
    }
   ],
   "source": [
    "# I wonder what's so good about those 11 core laptops?\n",
    "df.query('num_cores == 11')"
   ]
  },
  {
   "cell_type": "markdown",
   "id": "672032ac",
   "metadata": {
    "papermill": {
     "duration": 0.033606,
     "end_time": "2024-03-13T08:24:28.837857",
     "exception": false,
     "start_time": "2024-03-13T08:24:28.804251",
     "status": "completed"
    },
    "tags": []
   },
   "source": [
    "OK, so there's only one 11-core laptop in our dataset. Not enough to make something of. Let's check for other laptops having greater prices for lower number of cores."
   ]
  },
  {
   "cell_type": "code",
   "execution_count": 41,
   "id": "07f77813",
   "metadata": {
    "execution": {
     "iopub.execute_input": "2024-03-13T08:24:28.910228Z",
     "iopub.status.busy": "2024-03-13T08:24:28.909234Z",
     "iopub.status.idle": "2024-03-13T08:24:28.942768Z",
     "shell.execute_reply": "2024-03-13T08:24:28.941668Z"
    },
    "papermill": {
     "duration": 0.074105,
     "end_time": "2024-03-13T08:24:28.945437",
     "exception": false,
     "start_time": "2024-03-13T08:24:28.871332",
     "status": "completed"
    },
    "tags": []
   },
   "outputs": [
    {
     "data": {
      "text/html": [
       "<div>\n",
       "<style scoped>\n",
       "    .dataframe tbody tr th:only-of-type {\n",
       "        vertical-align: middle;\n",
       "    }\n",
       "\n",
       "    .dataframe tbody tr th {\n",
       "        vertical-align: top;\n",
       "    }\n",
       "\n",
       "    .dataframe thead th {\n",
       "        text-align: right;\n",
       "    }\n",
       "</style>\n",
       "<table border=\"1\" class=\"dataframe\">\n",
       "  <thead>\n",
       "    <tr style=\"text-align: right;\">\n",
       "      <th></th>\n",
       "      <th>brand</th>\n",
       "      <th>model</th>\n",
       "      <th>price</th>\n",
       "      <th>rating</th>\n",
       "      <th>processor_brand</th>\n",
       "      <th>processor_tier</th>\n",
       "      <th>num_cores</th>\n",
       "      <th>num_threads</th>\n",
       "      <th>ram_memory</th>\n",
       "      <th>primary_storage_type</th>\n",
       "      <th>...</th>\n",
       "      <th>secondary_storage_type</th>\n",
       "      <th>secondary_storage_capacity</th>\n",
       "      <th>gpu_brand</th>\n",
       "      <th>gpu_type</th>\n",
       "      <th>is_touch_screen</th>\n",
       "      <th>display_size</th>\n",
       "      <th>resolution_width</th>\n",
       "      <th>resolution_height</th>\n",
       "      <th>OS</th>\n",
       "      <th>year_of_warranty</th>\n",
       "    </tr>\n",
       "  </thead>\n",
       "  <tbody>\n",
       "    <tr>\n",
       "      <th>22</th>\n",
       "      <td>apple</td>\n",
       "      <td>Apple MacBook Pro 16 2023 Laptop (Apple M3 Max...</td>\n",
       "      <td>399900</td>\n",
       "      <td>65</td>\n",
       "      <td>apple</td>\n",
       "      <td>m3</td>\n",
       "      <td>16</td>\n",
       "      <td>16</td>\n",
       "      <td>8</td>\n",
       "      <td>SSD</td>\n",
       "      <td>...</td>\n",
       "      <td>No secondary storage</td>\n",
       "      <td>0</td>\n",
       "      <td>apple</td>\n",
       "      <td>apple</td>\n",
       "      <td>False</td>\n",
       "      <td>16.2</td>\n",
       "      <td>3456</td>\n",
       "      <td>2234</td>\n",
       "      <td>mac</td>\n",
       "      <td>1</td>\n",
       "    </tr>\n",
       "    <tr>\n",
       "      <th>56</th>\n",
       "      <td>hp</td>\n",
       "      <td>HP Omen 16-u0005TX Gaming Laptop (13th Gen Cor...</td>\n",
       "      <td>147990</td>\n",
       "      <td>80</td>\n",
       "      <td>intel</td>\n",
       "      <td>core i7</td>\n",
       "      <td>16</td>\n",
       "      <td>24</td>\n",
       "      <td>16</td>\n",
       "      <td>SSD</td>\n",
       "      <td>...</td>\n",
       "      <td>No secondary storage</td>\n",
       "      <td>0</td>\n",
       "      <td>nvidia</td>\n",
       "      <td>dedicated</td>\n",
       "      <td>False</td>\n",
       "      <td>16.1</td>\n",
       "      <td>2560</td>\n",
       "      <td>1600</td>\n",
       "      <td>windows</td>\n",
       "      <td>1</td>\n",
       "    </tr>\n",
       "    <tr>\n",
       "      <th>117</th>\n",
       "      <td>acer</td>\n",
       "      <td>Acer Predator Helios Neo 16 PHN16-71 Laptop (1...</td>\n",
       "      <td>119990</td>\n",
       "      <td>75</td>\n",
       "      <td>intel</td>\n",
       "      <td>core i7</td>\n",
       "      <td>16</td>\n",
       "      <td>24</td>\n",
       "      <td>16</td>\n",
       "      <td>SSD</td>\n",
       "      <td>...</td>\n",
       "      <td>No secondary storage</td>\n",
       "      <td>0</td>\n",
       "      <td>nvidia</td>\n",
       "      <td>dedicated</td>\n",
       "      <td>False</td>\n",
       "      <td>16.0</td>\n",
       "      <td>1920</td>\n",
       "      <td>1200</td>\n",
       "      <td>windows</td>\n",
       "      <td>1</td>\n",
       "    </tr>\n",
       "    <tr>\n",
       "      <th>136</th>\n",
       "      <td>hp</td>\n",
       "      <td>HP Spectre x360 16-aa0665TU Laptop (Intel Core...</td>\n",
       "      <td>202340</td>\n",
       "      <td>82</td>\n",
       "      <td>intel</td>\n",
       "      <td>core ultra 7</td>\n",
       "      <td>16</td>\n",
       "      <td>22</td>\n",
       "      <td>32</td>\n",
       "      <td>SSD</td>\n",
       "      <td>...</td>\n",
       "      <td>No secondary storage</td>\n",
       "      <td>0</td>\n",
       "      <td>intel</td>\n",
       "      <td>dedicated</td>\n",
       "      <td>True</td>\n",
       "      <td>16.0</td>\n",
       "      <td>2880</td>\n",
       "      <td>1800</td>\n",
       "      <td>windows</td>\n",
       "      <td>1</td>\n",
       "    </tr>\n",
       "    <tr>\n",
       "      <th>140</th>\n",
       "      <td>hp</td>\n",
       "      <td>HP Spectre x360 14-eu0666TU Laptop (Intel Core...</td>\n",
       "      <td>165900</td>\n",
       "      <td>76</td>\n",
       "      <td>intel</td>\n",
       "      <td>core ultra 7</td>\n",
       "      <td>16</td>\n",
       "      <td>22</td>\n",
       "      <td>32</td>\n",
       "      <td>SSD</td>\n",
       "      <td>...</td>\n",
       "      <td>No secondary storage</td>\n",
       "      <td>0</td>\n",
       "      <td>intel</td>\n",
       "      <td>dedicated</td>\n",
       "      <td>True</td>\n",
       "      <td>14.0</td>\n",
       "      <td>2880</td>\n",
       "      <td>1800</td>\n",
       "      <td>windows</td>\n",
       "      <td>1</td>\n",
       "    </tr>\n",
       "    <tr>\n",
       "      <th>145</th>\n",
       "      <td>lenovo</td>\n",
       "      <td>Lenovo Legion Pro 5 16IRX8 82WK00MWIN Gaming L...</td>\n",
       "      <td>152990</td>\n",
       "      <td>77</td>\n",
       "      <td>intel</td>\n",
       "      <td>core i7</td>\n",
       "      <td>16</td>\n",
       "      <td>24</td>\n",
       "      <td>16</td>\n",
       "      <td>SSD</td>\n",
       "      <td>...</td>\n",
       "      <td>No secondary storage</td>\n",
       "      <td>0</td>\n",
       "      <td>nvidia</td>\n",
       "      <td>dedicated</td>\n",
       "      <td>False</td>\n",
       "      <td>16.0</td>\n",
       "      <td>2560</td>\n",
       "      <td>1600</td>\n",
       "      <td>windows</td>\n",
       "      <td>1</td>\n",
       "    </tr>\n",
       "    <tr>\n",
       "      <th>155</th>\n",
       "      <td>hp</td>\n",
       "      <td>HP Spectre x360 14-eu0556TU Laptop (Intel Core...</td>\n",
       "      <td>165900</td>\n",
       "      <td>76</td>\n",
       "      <td>intel</td>\n",
       "      <td>core ultra 7</td>\n",
       "      <td>16</td>\n",
       "      <td>22</td>\n",
       "      <td>32</td>\n",
       "      <td>SSD</td>\n",
       "      <td>...</td>\n",
       "      <td>No secondary storage</td>\n",
       "      <td>0</td>\n",
       "      <td>intel</td>\n",
       "      <td>dedicated</td>\n",
       "      <td>True</td>\n",
       "      <td>14.0</td>\n",
       "      <td>2880</td>\n",
       "      <td>1800</td>\n",
       "      <td>windows</td>\n",
       "      <td>1</td>\n",
       "    </tr>\n",
       "    <tr>\n",
       "      <th>235</th>\n",
       "      <td>acer</td>\n",
       "      <td>Acer Predator Helios Neo 16 PHN16-71 Gaming La...</td>\n",
       "      <td>119990</td>\n",
       "      <td>75</td>\n",
       "      <td>intel</td>\n",
       "      <td>core i7</td>\n",
       "      <td>16</td>\n",
       "      <td>24</td>\n",
       "      <td>16</td>\n",
       "      <td>SSD</td>\n",
       "      <td>...</td>\n",
       "      <td>No secondary storage</td>\n",
       "      <td>0</td>\n",
       "      <td>nvidia</td>\n",
       "      <td>dedicated</td>\n",
       "      <td>False</td>\n",
       "      <td>16.0</td>\n",
       "      <td>1920</td>\n",
       "      <td>1200</td>\n",
       "      <td>windows</td>\n",
       "      <td>1</td>\n",
       "    </tr>\n",
       "    <tr>\n",
       "      <th>348</th>\n",
       "      <td>msi</td>\n",
       "      <td>MSI Vector GP68 HX 13VG-214IN Gaming Laptop (1...</td>\n",
       "      <td>199990</td>\n",
       "      <td>80</td>\n",
       "      <td>intel</td>\n",
       "      <td>core i7</td>\n",
       "      <td>16</td>\n",
       "      <td>24</td>\n",
       "      <td>16</td>\n",
       "      <td>SSD</td>\n",
       "      <td>...</td>\n",
       "      <td>No secondary storage</td>\n",
       "      <td>0</td>\n",
       "      <td>nvidia</td>\n",
       "      <td>dedicated</td>\n",
       "      <td>False</td>\n",
       "      <td>16.0</td>\n",
       "      <td>2560</td>\n",
       "      <td>1600</td>\n",
       "      <td>windows</td>\n",
       "      <td>1</td>\n",
       "    </tr>\n",
       "    <tr>\n",
       "      <th>379</th>\n",
       "      <td>hp</td>\n",
       "      <td>HP Omen 17-ck2008AX Gaming Laptop (13th Gen Co...</td>\n",
       "      <td>259499</td>\n",
       "      <td>85</td>\n",
       "      <td>intel</td>\n",
       "      <td>core i7</td>\n",
       "      <td>16</td>\n",
       "      <td>24</td>\n",
       "      <td>16</td>\n",
       "      <td>SSD</td>\n",
       "      <td>...</td>\n",
       "      <td>No secondary storage</td>\n",
       "      <td>0</td>\n",
       "      <td>nvidia</td>\n",
       "      <td>dedicated</td>\n",
       "      <td>False</td>\n",
       "      <td>17.3</td>\n",
       "      <td>2560</td>\n",
       "      <td>1440</td>\n",
       "      <td>windows</td>\n",
       "      <td>1</td>\n",
       "    </tr>\n",
       "    <tr>\n",
       "      <th>381</th>\n",
       "      <td>hp</td>\n",
       "      <td>HP Omen 17-cm2002TX Gaming Laptop (13th Gen Co...</td>\n",
       "      <td>165999</td>\n",
       "      <td>79</td>\n",
       "      <td>intel</td>\n",
       "      <td>core i7</td>\n",
       "      <td>16</td>\n",
       "      <td>24</td>\n",
       "      <td>16</td>\n",
       "      <td>SSD</td>\n",
       "      <td>...</td>\n",
       "      <td>No secondary storage</td>\n",
       "      <td>0</td>\n",
       "      <td>nvidia</td>\n",
       "      <td>dedicated</td>\n",
       "      <td>False</td>\n",
       "      <td>17.3</td>\n",
       "      <td>1920</td>\n",
       "      <td>1080</td>\n",
       "      <td>windows</td>\n",
       "      <td>1</td>\n",
       "    </tr>\n",
       "    <tr>\n",
       "      <th>382</th>\n",
       "      <td>hp</td>\n",
       "      <td>HP Omen 16-u0022TX Gaming Laptop (13th Gen Cor...</td>\n",
       "      <td>168500</td>\n",
       "      <td>78</td>\n",
       "      <td>intel</td>\n",
       "      <td>core i7</td>\n",
       "      <td>16</td>\n",
       "      <td>24</td>\n",
       "      <td>16</td>\n",
       "      <td>SSD</td>\n",
       "      <td>...</td>\n",
       "      <td>No secondary storage</td>\n",
       "      <td>0</td>\n",
       "      <td>nvidia</td>\n",
       "      <td>dedicated</td>\n",
       "      <td>False</td>\n",
       "      <td>16.1</td>\n",
       "      <td>2560</td>\n",
       "      <td>1600</td>\n",
       "      <td>windows</td>\n",
       "      <td>1</td>\n",
       "    </tr>\n",
       "    <tr>\n",
       "      <th>520</th>\n",
       "      <td>hp</td>\n",
       "      <td>HP Omen 16-wf0056TX 834U0PA Gaming Laptop (13t...</td>\n",
       "      <td>152990</td>\n",
       "      <td>70</td>\n",
       "      <td>intel</td>\n",
       "      <td>core i7</td>\n",
       "      <td>16</td>\n",
       "      <td>24</td>\n",
       "      <td>16</td>\n",
       "      <td>SSD</td>\n",
       "      <td>...</td>\n",
       "      <td>No secondary storage</td>\n",
       "      <td>0</td>\n",
       "      <td>nvidia</td>\n",
       "      <td>dedicated</td>\n",
       "      <td>False</td>\n",
       "      <td>16.1</td>\n",
       "      <td>1920</td>\n",
       "      <td>1080</td>\n",
       "      <td>windows</td>\n",
       "      <td>1</td>\n",
       "    </tr>\n",
       "    <tr>\n",
       "      <th>585</th>\n",
       "      <td>hp</td>\n",
       "      <td>HP Omen 16-wf0111TX Gaming Laptop (13th Gen Co...</td>\n",
       "      <td>146990</td>\n",
       "      <td>77</td>\n",
       "      <td>intel</td>\n",
       "      <td>core i7</td>\n",
       "      <td>16</td>\n",
       "      <td>24</td>\n",
       "      <td>16</td>\n",
       "      <td>SSD</td>\n",
       "      <td>...</td>\n",
       "      <td>No secondary storage</td>\n",
       "      <td>0</td>\n",
       "      <td>nvidia</td>\n",
       "      <td>dedicated</td>\n",
       "      <td>False</td>\n",
       "      <td>16.1</td>\n",
       "      <td>1920</td>\n",
       "      <td>1080</td>\n",
       "      <td>windows</td>\n",
       "      <td>1</td>\n",
       "    </tr>\n",
       "    <tr>\n",
       "      <th>589</th>\n",
       "      <td>hp</td>\n",
       "      <td>HP Omen 16-wf0055TX Gaming Laptop (13th Gen Co...</td>\n",
       "      <td>139990</td>\n",
       "      <td>77</td>\n",
       "      <td>intel</td>\n",
       "      <td>core i7</td>\n",
       "      <td>16</td>\n",
       "      <td>24</td>\n",
       "      <td>16</td>\n",
       "      <td>SSD</td>\n",
       "      <td>...</td>\n",
       "      <td>No secondary storage</td>\n",
       "      <td>0</td>\n",
       "      <td>nvidia</td>\n",
       "      <td>dedicated</td>\n",
       "      <td>False</td>\n",
       "      <td>16.1</td>\n",
       "      <td>1920</td>\n",
       "      <td>1080</td>\n",
       "      <td>windows</td>\n",
       "      <td>1</td>\n",
       "    </tr>\n",
       "    <tr>\n",
       "      <th>817</th>\n",
       "      <td>acer</td>\n",
       "      <td>Acer Predator Helios 16 PH16-71 Gaming Laptop ...</td>\n",
       "      <td>143400</td>\n",
       "      <td>70</td>\n",
       "      <td>intel</td>\n",
       "      <td>core i7</td>\n",
       "      <td>16</td>\n",
       "      <td>24</td>\n",
       "      <td>16</td>\n",
       "      <td>SSD</td>\n",
       "      <td>...</td>\n",
       "      <td>No secondary storage</td>\n",
       "      <td>0</td>\n",
       "      <td>nvidia</td>\n",
       "      <td>dedicated</td>\n",
       "      <td>False</td>\n",
       "      <td>16.0</td>\n",
       "      <td>2560</td>\n",
       "      <td>1600</td>\n",
       "      <td>windows</td>\n",
       "      <td>1</td>\n",
       "    </tr>\n",
       "    <tr>\n",
       "      <th>820</th>\n",
       "      <td>dell</td>\n",
       "      <td>Dell Alienware m16 Gaming Laptop (13th Gen Cor...</td>\n",
       "      <td>220990</td>\n",
       "      <td>83</td>\n",
       "      <td>intel</td>\n",
       "      <td>core i7</td>\n",
       "      <td>16</td>\n",
       "      <td>24</td>\n",
       "      <td>16</td>\n",
       "      <td>SSD</td>\n",
       "      <td>...</td>\n",
       "      <td>No secondary storage</td>\n",
       "      <td>0</td>\n",
       "      <td>nvidia</td>\n",
       "      <td>dedicated</td>\n",
       "      <td>False</td>\n",
       "      <td>16.0</td>\n",
       "      <td>2560</td>\n",
       "      <td>1600</td>\n",
       "      <td>windows</td>\n",
       "      <td>1</td>\n",
       "    </tr>\n",
       "    <tr>\n",
       "      <th>833</th>\n",
       "      <td>acer</td>\n",
       "      <td>Acer Predator Helios Neo 16 PHN16-71 2023 Gami...</td>\n",
       "      <td>142999</td>\n",
       "      <td>78</td>\n",
       "      <td>intel</td>\n",
       "      <td>core i7</td>\n",
       "      <td>16</td>\n",
       "      <td>24</td>\n",
       "      <td>16</td>\n",
       "      <td>SSD</td>\n",
       "      <td>...</td>\n",
       "      <td>No secondary storage</td>\n",
       "      <td>0</td>\n",
       "      <td>nvidia</td>\n",
       "      <td>dedicated</td>\n",
       "      <td>False</td>\n",
       "      <td>16.0</td>\n",
       "      <td>2560</td>\n",
       "      <td>1600</td>\n",
       "      <td>windows</td>\n",
       "      <td>1</td>\n",
       "    </tr>\n",
       "    <tr>\n",
       "      <th>852</th>\n",
       "      <td>acer</td>\n",
       "      <td>Acer Predator Helios Neo 16 NH.QLTSI.002 Lapto...</td>\n",
       "      <td>114990</td>\n",
       "      <td>66</td>\n",
       "      <td>intel</td>\n",
       "      <td>core i7</td>\n",
       "      <td>16</td>\n",
       "      <td>24</td>\n",
       "      <td>16</td>\n",
       "      <td>SSD</td>\n",
       "      <td>...</td>\n",
       "      <td>No secondary storage</td>\n",
       "      <td>0</td>\n",
       "      <td>nvidia</td>\n",
       "      <td>dedicated</td>\n",
       "      <td>False</td>\n",
       "      <td>16.0</td>\n",
       "      <td>2560</td>\n",
       "      <td>1600</td>\n",
       "      <td>windows</td>\n",
       "      <td>1</td>\n",
       "    </tr>\n",
       "    <tr>\n",
       "      <th>891</th>\n",
       "      <td>acer</td>\n",
       "      <td>Acer Predator Helios 16 PH16-71 Laptop (13th G...</td>\n",
       "      <td>200090</td>\n",
       "      <td>74</td>\n",
       "      <td>intel</td>\n",
       "      <td>core i7</td>\n",
       "      <td>16</td>\n",
       "      <td>24</td>\n",
       "      <td>32</td>\n",
       "      <td>SSD</td>\n",
       "      <td>...</td>\n",
       "      <td>No secondary storage</td>\n",
       "      <td>0</td>\n",
       "      <td>nvidia</td>\n",
       "      <td>dedicated</td>\n",
       "      <td>False</td>\n",
       "      <td>16.0</td>\n",
       "      <td>2560</td>\n",
       "      <td>1600</td>\n",
       "      <td>windows</td>\n",
       "      <td>1</td>\n",
       "    </tr>\n",
       "    <tr>\n",
       "      <th>896</th>\n",
       "      <td>msi</td>\n",
       "      <td>MSI Raider GE68HX 13VG-026IN Gaming Laptop (13...</td>\n",
       "      <td>215990</td>\n",
       "      <td>87</td>\n",
       "      <td>intel</td>\n",
       "      <td>core i7</td>\n",
       "      <td>16</td>\n",
       "      <td>24</td>\n",
       "      <td>32</td>\n",
       "      <td>SSD</td>\n",
       "      <td>...</td>\n",
       "      <td>No secondary storage</td>\n",
       "      <td>0</td>\n",
       "      <td>nvidia</td>\n",
       "      <td>dedicated</td>\n",
       "      <td>False</td>\n",
       "      <td>16.0</td>\n",
       "      <td>2560</td>\n",
       "      <td>1600</td>\n",
       "      <td>windows</td>\n",
       "      <td>2</td>\n",
       "    </tr>\n",
       "  </tbody>\n",
       "</table>\n",
       "<p>21 rows × 21 columns</p>\n",
       "</div>"
      ],
      "text/plain": [
       "      brand                                              model   price  \\\n",
       "22    apple  Apple MacBook Pro 16 2023 Laptop (Apple M3 Max...  399900   \n",
       "56       hp  HP Omen 16-u0005TX Gaming Laptop (13th Gen Cor...  147990   \n",
       "117    acer  Acer Predator Helios Neo 16 PHN16-71 Laptop (1...  119990   \n",
       "136      hp  HP Spectre x360 16-aa0665TU Laptop (Intel Core...  202340   \n",
       "140      hp  HP Spectre x360 14-eu0666TU Laptop (Intel Core...  165900   \n",
       "145  lenovo  Lenovo Legion Pro 5 16IRX8 82WK00MWIN Gaming L...  152990   \n",
       "155      hp  HP Spectre x360 14-eu0556TU Laptop (Intel Core...  165900   \n",
       "235    acer  Acer Predator Helios Neo 16 PHN16-71 Gaming La...  119990   \n",
       "348     msi  MSI Vector GP68 HX 13VG-214IN Gaming Laptop (1...  199990   \n",
       "379      hp  HP Omen 17-ck2008AX Gaming Laptop (13th Gen Co...  259499   \n",
       "381      hp  HP Omen 17-cm2002TX Gaming Laptop (13th Gen Co...  165999   \n",
       "382      hp  HP Omen 16-u0022TX Gaming Laptop (13th Gen Cor...  168500   \n",
       "520      hp  HP Omen 16-wf0056TX 834U0PA Gaming Laptop (13t...  152990   \n",
       "585      hp  HP Omen 16-wf0111TX Gaming Laptop (13th Gen Co...  146990   \n",
       "589      hp  HP Omen 16-wf0055TX Gaming Laptop (13th Gen Co...  139990   \n",
       "817    acer  Acer Predator Helios 16 PH16-71 Gaming Laptop ...  143400   \n",
       "820    dell  Dell Alienware m16 Gaming Laptop (13th Gen Cor...  220990   \n",
       "833    acer  Acer Predator Helios Neo 16 PHN16-71 2023 Gami...  142999   \n",
       "852    acer  Acer Predator Helios Neo 16 NH.QLTSI.002 Lapto...  114990   \n",
       "891    acer  Acer Predator Helios 16 PH16-71 Laptop (13th G...  200090   \n",
       "896     msi  MSI Raider GE68HX 13VG-026IN Gaming Laptop (13...  215990   \n",
       "\n",
       "     rating processor_brand processor_tier  num_cores  num_threads  \\\n",
       "22       65           apple             m3         16           16   \n",
       "56       80           intel        core i7         16           24   \n",
       "117      75           intel        core i7         16           24   \n",
       "136      82           intel   core ultra 7         16           22   \n",
       "140      76           intel   core ultra 7         16           22   \n",
       "145      77           intel        core i7         16           24   \n",
       "155      76           intel   core ultra 7         16           22   \n",
       "235      75           intel        core i7         16           24   \n",
       "348      80           intel        core i7         16           24   \n",
       "379      85           intel        core i7         16           24   \n",
       "381      79           intel        core i7         16           24   \n",
       "382      78           intel        core i7         16           24   \n",
       "520      70           intel        core i7         16           24   \n",
       "585      77           intel        core i7         16           24   \n",
       "589      77           intel        core i7         16           24   \n",
       "817      70           intel        core i7         16           24   \n",
       "820      83           intel        core i7         16           24   \n",
       "833      78           intel        core i7         16           24   \n",
       "852      66           intel        core i7         16           24   \n",
       "891      74           intel        core i7         16           24   \n",
       "896      87           intel        core i7         16           24   \n",
       "\n",
       "     ram_memory primary_storage_type  ...  secondary_storage_type  \\\n",
       "22            8                  SSD  ...    No secondary storage   \n",
       "56           16                  SSD  ...    No secondary storage   \n",
       "117          16                  SSD  ...    No secondary storage   \n",
       "136          32                  SSD  ...    No secondary storage   \n",
       "140          32                  SSD  ...    No secondary storage   \n",
       "145          16                  SSD  ...    No secondary storage   \n",
       "155          32                  SSD  ...    No secondary storage   \n",
       "235          16                  SSD  ...    No secondary storage   \n",
       "348          16                  SSD  ...    No secondary storage   \n",
       "379          16                  SSD  ...    No secondary storage   \n",
       "381          16                  SSD  ...    No secondary storage   \n",
       "382          16                  SSD  ...    No secondary storage   \n",
       "520          16                  SSD  ...    No secondary storage   \n",
       "585          16                  SSD  ...    No secondary storage   \n",
       "589          16                  SSD  ...    No secondary storage   \n",
       "817          16                  SSD  ...    No secondary storage   \n",
       "820          16                  SSD  ...    No secondary storage   \n",
       "833          16                  SSD  ...    No secondary storage   \n",
       "852          16                  SSD  ...    No secondary storage   \n",
       "891          32                  SSD  ...    No secondary storage   \n",
       "896          32                  SSD  ...    No secondary storage   \n",
       "\n",
       "    secondary_storage_capacity  gpu_brand   gpu_type is_touch_screen  \\\n",
       "22                           0      apple      apple           False   \n",
       "56                           0     nvidia  dedicated           False   \n",
       "117                          0     nvidia  dedicated           False   \n",
       "136                          0      intel  dedicated            True   \n",
       "140                          0      intel  dedicated            True   \n",
       "145                          0     nvidia  dedicated           False   \n",
       "155                          0      intel  dedicated            True   \n",
       "235                          0     nvidia  dedicated           False   \n",
       "348                          0     nvidia  dedicated           False   \n",
       "379                          0     nvidia  dedicated           False   \n",
       "381                          0     nvidia  dedicated           False   \n",
       "382                          0     nvidia  dedicated           False   \n",
       "520                          0     nvidia  dedicated           False   \n",
       "585                          0     nvidia  dedicated           False   \n",
       "589                          0     nvidia  dedicated           False   \n",
       "817                          0     nvidia  dedicated           False   \n",
       "820                          0     nvidia  dedicated           False   \n",
       "833                          0     nvidia  dedicated           False   \n",
       "852                          0     nvidia  dedicated           False   \n",
       "891                          0     nvidia  dedicated           False   \n",
       "896                          0     nvidia  dedicated           False   \n",
       "\n",
       "     display_size  resolution_width  resolution_height       OS  \\\n",
       "22           16.2              3456               2234      mac   \n",
       "56           16.1              2560               1600  windows   \n",
       "117          16.0              1920               1200  windows   \n",
       "136          16.0              2880               1800  windows   \n",
       "140          14.0              2880               1800  windows   \n",
       "145          16.0              2560               1600  windows   \n",
       "155          14.0              2880               1800  windows   \n",
       "235          16.0              1920               1200  windows   \n",
       "348          16.0              2560               1600  windows   \n",
       "379          17.3              2560               1440  windows   \n",
       "381          17.3              1920               1080  windows   \n",
       "382          16.1              2560               1600  windows   \n",
       "520          16.1              1920               1080  windows   \n",
       "585          16.1              1920               1080  windows   \n",
       "589          16.1              1920               1080  windows   \n",
       "817          16.0              2560               1600  windows   \n",
       "820          16.0              2560               1600  windows   \n",
       "833          16.0              2560               1600  windows   \n",
       "852          16.0              2560               1600  windows   \n",
       "891          16.0              2560               1600  windows   \n",
       "896          16.0              2560               1600  windows   \n",
       "\n",
       "    year_of_warranty  \n",
       "22                 1  \n",
       "56                 1  \n",
       "117                1  \n",
       "136                1  \n",
       "140                1  \n",
       "145                1  \n",
       "155                1  \n",
       "235                1  \n",
       "348                1  \n",
       "379                1  \n",
       "381                1  \n",
       "382                1  \n",
       "520                1  \n",
       "585                1  \n",
       "589                1  \n",
       "817                1  \n",
       "820                1  \n",
       "833                1  \n",
       "852                1  \n",
       "891                1  \n",
       "896                2  \n",
       "\n",
       "[21 rows x 21 columns]"
      ]
     },
     "execution_count": 41,
     "metadata": {},
     "output_type": "execute_result"
    }
   ],
   "source": [
    "df.query('num_cores == 16')"
   ]
  },
  {
   "cell_type": "code",
   "execution_count": 42,
   "id": "38b257e5",
   "metadata": {
    "execution": {
     "iopub.execute_input": "2024-03-13T08:24:29.018771Z",
     "iopub.status.busy": "2024-03-13T08:24:29.018339Z",
     "iopub.status.idle": "2024-03-13T08:24:29.046322Z",
     "shell.execute_reply": "2024-03-13T08:24:29.045156Z"
    },
    "papermill": {
     "duration": 0.068201,
     "end_time": "2024-03-13T08:24:29.048982",
     "exception": false,
     "start_time": "2024-03-13T08:24:28.980781",
     "status": "completed"
    },
    "tags": []
   },
   "outputs": [
    {
     "data": {
      "text/html": [
       "<div>\n",
       "<style scoped>\n",
       "    .dataframe tbody tr th:only-of-type {\n",
       "        vertical-align: middle;\n",
       "    }\n",
       "\n",
       "    .dataframe tbody tr th {\n",
       "        vertical-align: top;\n",
       "    }\n",
       "\n",
       "    .dataframe thead th {\n",
       "        text-align: right;\n",
       "    }\n",
       "</style>\n",
       "<table border=\"1\" class=\"dataframe\">\n",
       "  <thead>\n",
       "    <tr style=\"text-align: right;\">\n",
       "      <th></th>\n",
       "      <th>brand</th>\n",
       "      <th>model</th>\n",
       "      <th>price</th>\n",
       "      <th>rating</th>\n",
       "      <th>processor_brand</th>\n",
       "      <th>processor_tier</th>\n",
       "      <th>num_cores</th>\n",
       "      <th>num_threads</th>\n",
       "      <th>ram_memory</th>\n",
       "      <th>primary_storage_type</th>\n",
       "      <th>...</th>\n",
       "      <th>secondary_storage_type</th>\n",
       "      <th>secondary_storage_capacity</th>\n",
       "      <th>gpu_brand</th>\n",
       "      <th>gpu_type</th>\n",
       "      <th>is_touch_screen</th>\n",
       "      <th>display_size</th>\n",
       "      <th>resolution_width</th>\n",
       "      <th>resolution_height</th>\n",
       "      <th>OS</th>\n",
       "      <th>year_of_warranty</th>\n",
       "    </tr>\n",
       "  </thead>\n",
       "  <tbody>\n",
       "    <tr>\n",
       "      <th>15</th>\n",
       "      <td>hp</td>\n",
       "      <td>HP Omen 16-wf1025TX Gaming Laptop (14th Gen Co...</td>\n",
       "      <td>153990</td>\n",
       "      <td>85</td>\n",
       "      <td>intel</td>\n",
       "      <td>core i7</td>\n",
       "      <td>20</td>\n",
       "      <td>28</td>\n",
       "      <td>16</td>\n",
       "      <td>SSD</td>\n",
       "      <td>...</td>\n",
       "      <td>No secondary storage</td>\n",
       "      <td>0</td>\n",
       "      <td>nvidia</td>\n",
       "      <td>dedicated</td>\n",
       "      <td>False</td>\n",
       "      <td>16.1</td>\n",
       "      <td>2560</td>\n",
       "      <td>1440</td>\n",
       "      <td>windows</td>\n",
       "      <td>1</td>\n",
       "    </tr>\n",
       "    <tr>\n",
       "      <th>191</th>\n",
       "      <td>hp</td>\n",
       "      <td>HP Omen 16-wf1026TX Gaming Laptop (14th Gen Co...</td>\n",
       "      <td>176499</td>\n",
       "      <td>85</td>\n",
       "      <td>intel</td>\n",
       "      <td>core i7</td>\n",
       "      <td>20</td>\n",
       "      <td>28</td>\n",
       "      <td>16</td>\n",
       "      <td>SSD</td>\n",
       "      <td>...</td>\n",
       "      <td>No secondary storage</td>\n",
       "      <td>0</td>\n",
       "      <td>nvidia</td>\n",
       "      <td>dedicated</td>\n",
       "      <td>False</td>\n",
       "      <td>16.1</td>\n",
       "      <td>2560</td>\n",
       "      <td>1440</td>\n",
       "      <td>windows</td>\n",
       "      <td>1</td>\n",
       "    </tr>\n",
       "  </tbody>\n",
       "</table>\n",
       "<p>2 rows × 21 columns</p>\n",
       "</div>"
      ],
      "text/plain": [
       "    brand                                              model   price  rating  \\\n",
       "15     hp  HP Omen 16-wf1025TX Gaming Laptop (14th Gen Co...  153990      85   \n",
       "191    hp  HP Omen 16-wf1026TX Gaming Laptop (14th Gen Co...  176499      85   \n",
       "\n",
       "    processor_brand processor_tier  num_cores  num_threads  ram_memory  \\\n",
       "15            intel        core i7         20           28          16   \n",
       "191           intel        core i7         20           28          16   \n",
       "\n",
       "    primary_storage_type  ...  secondary_storage_type  \\\n",
       "15                   SSD  ...    No secondary storage   \n",
       "191                  SSD  ...    No secondary storage   \n",
       "\n",
       "    secondary_storage_capacity  gpu_brand   gpu_type is_touch_screen  \\\n",
       "15                           0     nvidia  dedicated           False   \n",
       "191                          0     nvidia  dedicated           False   \n",
       "\n",
       "     display_size  resolution_width  resolution_height       OS  \\\n",
       "15           16.1              2560               1440  windows   \n",
       "191          16.1              2560               1440  windows   \n",
       "\n",
       "    year_of_warranty  \n",
       "15                 1  \n",
       "191                1  \n",
       "\n",
       "[2 rows x 21 columns]"
      ]
     },
     "execution_count": 42,
     "metadata": {},
     "output_type": "execute_result"
    }
   ],
   "source": [
    "df.query('num_cores == 20')"
   ]
  },
  {
   "cell_type": "markdown",
   "id": "87e965b4",
   "metadata": {
    "papermill": {
     "duration": 0.034103,
     "end_time": "2024-03-13T08:24:29.119808",
     "exception": false,
     "start_time": "2024-03-13T08:24:29.085705",
     "status": "completed"
    },
    "tags": []
   },
   "source": [
    "Hmmm, we have got only 2 20-core laptops and 21 16-core laptops. So we don't have enough 20-core laptops in the dataset to make a reliable statement on it's effect on price."
   ]
  },
  {
   "cell_type": "code",
   "execution_count": 43,
   "id": "e929e1fe",
   "metadata": {
    "execution": {
     "iopub.execute_input": "2024-03-13T08:24:29.194940Z",
     "iopub.status.busy": "2024-03-13T08:24:29.194216Z",
     "iopub.status.idle": "2024-03-13T08:24:29.206151Z",
     "shell.execute_reply": "2024-03-13T08:24:29.205250Z"
    },
    "papermill": {
     "duration": 0.052329,
     "end_time": "2024-03-13T08:24:29.208576",
     "exception": false,
     "start_time": "2024-03-13T08:24:29.156247",
     "status": "completed"
    },
    "tags": []
   },
   "outputs": [
    {
     "data": {
      "text/plain": [
       "count    991.000000\n",
       "mean      12.191726\n",
       "std        5.585115\n",
       "min        0.000000\n",
       "25%        8.000000\n",
       "50%       12.000000\n",
       "75%       16.000000\n",
       "max       32.000000\n",
       "Name: num_threads, dtype: float64"
      ]
     },
     "execution_count": 43,
     "metadata": {},
     "output_type": "execute_result"
    }
   ],
   "source": [
    "# Let's explore the 'num_threads' column\n",
    "df['num_threads'].describe()"
   ]
  },
  {
   "cell_type": "code",
   "execution_count": 44,
   "id": "6e8b1784",
   "metadata": {
    "execution": {
     "iopub.execute_input": "2024-03-13T08:24:29.283453Z",
     "iopub.status.busy": "2024-03-13T08:24:29.282351Z",
     "iopub.status.idle": "2024-03-13T08:24:29.295272Z",
     "shell.execute_reply": "2024-03-13T08:24:29.294140Z"
    },
    "papermill": {
     "duration": 0.055488,
     "end_time": "2024-03-13T08:24:29.298441",
     "exception": false,
     "start_time": "2024-03-13T08:24:29.242953",
     "status": "completed"
    },
    "tags": []
   },
   "outputs": [
    {
     "data": {
      "text/html": [
       "<div>\n",
       "<style scoped>\n",
       "    .dataframe tbody tr th:only-of-type {\n",
       "        vertical-align: middle;\n",
       "    }\n",
       "\n",
       "    .dataframe tbody tr th {\n",
       "        vertical-align: top;\n",
       "    }\n",
       "\n",
       "    .dataframe thead th {\n",
       "        text-align: right;\n",
       "    }\n",
       "</style>\n",
       "<table border=\"1\" class=\"dataframe\">\n",
       "  <thead>\n",
       "    <tr style=\"text-align: right;\">\n",
       "      <th></th>\n",
       "      <th>num_threads</th>\n",
       "      <th>count</th>\n",
       "    </tr>\n",
       "  </thead>\n",
       "  <tbody>\n",
       "    <tr>\n",
       "      <th>9</th>\n",
       "      <td>0</td>\n",
       "      <td>5</td>\n",
       "    </tr>\n",
       "    <tr>\n",
       "      <th>5</th>\n",
       "      <td>2</td>\n",
       "      <td>46</td>\n",
       "    </tr>\n",
       "    <tr>\n",
       "      <th>4</th>\n",
       "      <td>4</td>\n",
       "      <td>53</td>\n",
       "    </tr>\n",
       "    <tr>\n",
       "      <th>14</th>\n",
       "      <td>5</td>\n",
       "      <td>1</td>\n",
       "    </tr>\n",
       "    <tr>\n",
       "      <th>8</th>\n",
       "      <td>6</td>\n",
       "      <td>7</td>\n",
       "    </tr>\n",
       "    <tr>\n",
       "      <th>2</th>\n",
       "      <td>8</td>\n",
       "      <td>207</td>\n",
       "    </tr>\n",
       "    <tr>\n",
       "      <th>13</th>\n",
       "      <td>11</td>\n",
       "      <td>1</td>\n",
       "    </tr>\n",
       "    <tr>\n",
       "      <th>0</th>\n",
       "      <td>12</td>\n",
       "      <td>351</td>\n",
       "    </tr>\n",
       "    <tr>\n",
       "      <th>12</th>\n",
       "      <td>14</td>\n",
       "      <td>1</td>\n",
       "    </tr>\n",
       "    <tr>\n",
       "      <th>1</th>\n",
       "      <td>16</td>\n",
       "      <td>220</td>\n",
       "    </tr>\n",
       "    <tr>\n",
       "      <th>3</th>\n",
       "      <td>20</td>\n",
       "      <td>55</td>\n",
       "    </tr>\n",
       "    <tr>\n",
       "      <th>10</th>\n",
       "      <td>22</td>\n",
       "      <td>3</td>\n",
       "    </tr>\n",
       "    <tr>\n",
       "      <th>7</th>\n",
       "      <td>24</td>\n",
       "      <td>19</td>\n",
       "    </tr>\n",
       "    <tr>\n",
       "      <th>11</th>\n",
       "      <td>28</td>\n",
       "      <td>2</td>\n",
       "    </tr>\n",
       "    <tr>\n",
       "      <th>6</th>\n",
       "      <td>32</td>\n",
       "      <td>20</td>\n",
       "    </tr>\n",
       "  </tbody>\n",
       "</table>\n",
       "</div>"
      ],
      "text/plain": [
       "    num_threads  count\n",
       "9             0      5\n",
       "5             2     46\n",
       "4             4     53\n",
       "14            5      1\n",
       "8             6      7\n",
       "2             8    207\n",
       "13           11      1\n",
       "0            12    351\n",
       "12           14      1\n",
       "1            16    220\n",
       "3            20     55\n",
       "10           22      3\n",
       "7            24     19\n",
       "11           28      2\n",
       "6            32     20"
      ]
     },
     "execution_count": 44,
     "metadata": {},
     "output_type": "execute_result"
    }
   ],
   "source": [
    "num_threads_counts = df['num_threads'].value_counts().reset_index().sort_values(by='num_threads',\n",
    "                                                                                ascending=True)\n",
    "num_threads_counts"
   ]
  },
  {
   "cell_type": "code",
   "execution_count": 45,
   "id": "6954aced",
   "metadata": {
    "execution": {
     "iopub.execute_input": "2024-03-13T08:24:29.374635Z",
     "iopub.status.busy": "2024-03-13T08:24:29.374215Z",
     "iopub.status.idle": "2024-03-13T08:24:29.774960Z",
     "shell.execute_reply": "2024-03-13T08:24:29.773443Z"
    },
    "papermill": {
     "duration": 0.442905,
     "end_time": "2024-03-13T08:24:29.777539",
     "exception": false,
     "start_time": "2024-03-13T08:24:29.334634",
     "status": "completed"
    },
    "tags": []
   },
   "outputs": [
    {
     "data": {
      "image/png": "[encoded data removed]",
      "text/plain": [
       "<Figure size 1000x700 with 1 Axes>"
      ]
     },
     "metadata": {},
     "output_type": "display_data"
    }
   ],
   "source": [
    "plt.figure(figsize=(10, 7))\n",
    "\n",
    "sns.countplot(data=df, x='num_threads', order=num_threads_counts['num_threads'])\n",
    "plt.xlabel('num_threads', fontsize=14)\n",
    "plt.ylabel('count', fontsize=14)\n",
    "\n",
    "plt.show()"
   ]
  },
  {
   "cell_type": "code",
   "execution_count": 46,
   "id": "98cbfa27",
   "metadata": {
    "execution": {
     "iopub.execute_input": "2024-03-13T08:24:29.859820Z",
     "iopub.status.busy": "2024-03-13T08:24:29.858462Z",
     "iopub.status.idle": "2024-03-13T08:24:29.868243Z",
     "shell.execute_reply": "2024-03-13T08:24:29.867421Z"
    },
    "papermill": {
     "duration": 0.055951,
     "end_time": "2024-03-13T08:24:29.870596",
     "exception": false,
     "start_time": "2024-03-13T08:24:29.814645",
     "status": "completed"
    },
    "tags": []
   },
   "outputs": [
    {
     "data": {
      "text/plain": [
       "0.7195288113719226"
      ]
     },
     "execution_count": 46,
     "metadata": {},
     "output_type": "execute_result"
    }
   ],
   "source": [
    "# I am guessing greater the number of threads, greater would be the price of the laptop\n",
    "df['num_threads'].corr(df['price'])"
   ]
  },
  {
   "cell_type": "code",
   "execution_count": 47,
   "id": "e2c2887e",
   "metadata": {
    "execution": {
     "iopub.execute_input": "2024-03-13T08:24:29.945188Z",
     "iopub.status.busy": "2024-03-13T08:24:29.944760Z",
     "iopub.status.idle": "2024-03-13T08:24:29.953592Z",
     "shell.execute_reply": "2024-03-13T08:24:29.952583Z"
    },
    "papermill": {
     "duration": 0.050916,
     "end_time": "2024-03-13T08:24:29.956330",
     "exception": false,
     "start_time": "2024-03-13T08:24:29.905414",
     "status": "completed"
    },
    "tags": []
   },
   "outputs": [
    {
     "data": {
      "text/plain": [
       "0.907461099734665"
      ]
     },
     "execution_count": 47,
     "metadata": {},
     "output_type": "execute_result"
    }
   ],
   "source": [
    "df['num_threads'].corr(df['num_cores'])"
   ]
  },
  {
   "cell_type": "markdown",
   "id": "2c2a9444",
   "metadata": {
    "papermill": {
     "duration": 0.033599,
     "end_time": "2024-03-13T08:24:30.025286",
     "exception": false,
     "start_time": "2024-03-13T08:24:29.991687",
     "status": "completed"
    },
    "tags": []
   },
   "source": [
    "Oh no! 'num_threads' and 'num_cores' are highly correlated. When building a model, I need to get rid of one of them (num_threads, as it has lower correlation with price)."
   ]
  },
  {
   "cell_type": "code",
   "execution_count": 48,
   "id": "f61bdd6f",
   "metadata": {
    "execution": {
     "iopub.execute_input": "2024-03-13T08:24:30.099083Z",
     "iopub.status.busy": "2024-03-13T08:24:30.098572Z",
     "iopub.status.idle": "2024-03-13T08:24:30.106528Z",
     "shell.execute_reply": "2024-03-13T08:24:30.105539Z"
    },
    "papermill": {
     "duration": 0.047333,
     "end_time": "2024-03-13T08:24:30.108783",
     "exception": false,
     "start_time": "2024-03-13T08:24:30.061450",
     "status": "completed"
    },
    "tags": []
   },
   "outputs": [
    {
     "data": {
      "text/plain": [
       "7"
      ]
     },
     "execution_count": 48,
     "metadata": {},
     "output_type": "execute_result"
    }
   ],
   "source": [
    "len(df['ram_memory'].unique())"
   ]
  },
  {
   "cell_type": "code",
   "execution_count": 49,
   "id": "be2122ba",
   "metadata": {
    "execution": {
     "iopub.execute_input": "2024-03-13T08:24:30.184455Z",
     "iopub.status.busy": "2024-03-13T08:24:30.183703Z",
     "iopub.status.idle": "2024-03-13T08:24:30.488900Z",
     "shell.execute_reply": "2024-03-13T08:24:30.487773Z"
    },
    "papermill": {
     "duration": 0.345022,
     "end_time": "2024-03-13T08:24:30.491563",
     "exception": false,
     "start_time": "2024-03-13T08:24:30.146541",
     "status": "completed"
    },
    "tags": []
   },
   "outputs": [
    {
     "data": {
      "image/png": "[encoded data removed]",
      "text/plain": [
       "<Figure size 1000x700 with 1 Axes>"
      ]
     },
     "metadata": {},
     "output_type": "display_data"
    }
   ],
   "source": [
    "plt.figure(figsize=(10, 7))\n",
    "\n",
    "sns.countplot(data=df, x='ram_memory')\n",
    "plt.ylabel('count', fontsize=14)\n",
    "plt.xlabel('ram_memory', fontsize=14)\n",
    "\n",
    "plt.show()"
   ]
  },
  {
   "cell_type": "code",
   "execution_count": 50,
   "id": "a2fa16f4",
   "metadata": {
    "execution": {
     "iopub.execute_input": "2024-03-13T08:24:30.571552Z",
     "iopub.status.busy": "2024-03-13T08:24:30.571138Z",
     "iopub.status.idle": "2024-03-13T08:24:30.592791Z",
     "shell.execute_reply": "2024-03-13T08:24:30.591243Z"
    },
    "papermill": {
     "duration": 0.066428,
     "end_time": "2024-03-13T08:24:30.595395",
     "exception": false,
     "start_time": "2024-03-13T08:24:30.528967",
     "status": "completed"
    },
    "tags": []
   },
   "outputs": [
    {
     "data": {
      "text/html": [
       "<div>\n",
       "<style scoped>\n",
       "    .dataframe tbody tr th:only-of-type {\n",
       "        vertical-align: middle;\n",
       "    }\n",
       "\n",
       "    .dataframe tbody tr th {\n",
       "        vertical-align: top;\n",
       "    }\n",
       "\n",
       "    .dataframe thead th {\n",
       "        text-align: right;\n",
       "    }\n",
       "</style>\n",
       "<table border=\"1\" class=\"dataframe\">\n",
       "  <thead>\n",
       "    <tr style=\"text-align: right;\">\n",
       "      <th></th>\n",
       "      <th>ram_memory</th>\n",
       "      <th>mean</th>\n",
       "      <th>median</th>\n",
       "    </tr>\n",
       "  </thead>\n",
       "  <tbody>\n",
       "    <tr>\n",
       "      <th>6</th>\n",
       "      <td>36</td>\n",
       "      <td>319900.000000</td>\n",
       "      <td>319900.0</td>\n",
       "    </tr>\n",
       "    <tr>\n",
       "      <th>5</th>\n",
       "      <td>32</td>\n",
       "      <td>240932.000000</td>\n",
       "      <td>244644.5</td>\n",
       "    </tr>\n",
       "    <tr>\n",
       "      <th>4</th>\n",
       "      <td>16</td>\n",
       "      <td>87732.927203</td>\n",
       "      <td>76804.5</td>\n",
       "    </tr>\n",
       "    <tr>\n",
       "      <th>1</th>\n",
       "      <td>4</td>\n",
       "      <td>53641.600000</td>\n",
       "      <td>19299.0</td>\n",
       "    </tr>\n",
       "    <tr>\n",
       "      <th>2</th>\n",
       "      <td>8</td>\n",
       "      <td>49675.014925</td>\n",
       "      <td>43862.5</td>\n",
       "    </tr>\n",
       "    <tr>\n",
       "      <th>3</th>\n",
       "      <td>12</td>\n",
       "      <td>46990.000000</td>\n",
       "      <td>46990.0</td>\n",
       "    </tr>\n",
       "    <tr>\n",
       "      <th>0</th>\n",
       "      <td>2</td>\n",
       "      <td>9800.000000</td>\n",
       "      <td>9800.0</td>\n",
       "    </tr>\n",
       "  </tbody>\n",
       "</table>\n",
       "</div>"
      ],
      "text/plain": [
       "   ram_memory           mean    median\n",
       "6          36  319900.000000  319900.0\n",
       "5          32  240932.000000  244644.5\n",
       "4          16   87732.927203   76804.5\n",
       "1           4   53641.600000   19299.0\n",
       "2           8   49675.014925   43862.5\n",
       "3          12   46990.000000   46990.0\n",
       "0           2    9800.000000    9800.0"
      ]
     },
     "execution_count": 50,
     "metadata": {},
     "output_type": "execute_result"
    }
   ],
   "source": [
    "ram_stats = df.groupby('ram_memory')['price'].agg(['mean', 'median']).reset_index()\n",
    "ram_stats = ram_stats.sort_values(by=['mean', 'median'],\n",
    "                                  ascending=[False, False])\n",
    "ram_stats"
   ]
  },
  {
   "cell_type": "code",
   "execution_count": 51,
   "id": "0dca30a7",
   "metadata": {
    "execution": {
     "iopub.execute_input": "2024-03-13T08:24:30.676139Z",
     "iopub.status.busy": "2024-03-13T08:24:30.675153Z",
     "iopub.status.idle": "2024-03-13T08:24:30.712113Z",
     "shell.execute_reply": "2024-03-13T08:24:30.710436Z"
    },
    "papermill": {
     "duration": 0.079792,
     "end_time": "2024-03-13T08:24:30.714471",
     "exception": false,
     "start_time": "2024-03-13T08:24:30.634679",
     "status": "completed"
    },
    "tags": []
   },
   "outputs": [
    {
     "name": "stdout",
     "output_type": "stream",
     "text": [
      "Number of laptops with ram_memory = 2: 1\n",
      "Number of laptops with ram_memory = 4: 25\n",
      "Number of laptops with ram_memory = 8: 402\n",
      "Number of laptops with ram_memory = 12: 3\n",
      "Number of laptops with ram_memory = 16: 522\n",
      "Number of laptops with ram_memory = 32: 36\n",
      "Number of laptops with ram_memory = 36: 2\n"
     ]
    }
   ],
   "source": [
    "for i in df['ram_memory'].sort_values().unique():\n",
    "    print(f\"Number of laptops with ram_memory = {i}: {len(df.query('ram_memory == @i'))}\")"
   ]
  },
  {
   "cell_type": "markdown",
   "id": "e762af66",
   "metadata": {
    "papermill": {
     "duration": 0.036636,
     "end_time": "2024-03-13T08:24:30.787697",
     "exception": false,
     "start_time": "2024-03-13T08:24:30.751061",
     "status": "completed"
    },
    "tags": []
   },
   "source": [
    "These numbers help explain ram_stats."
   ]
  },
  {
   "cell_type": "code",
   "execution_count": 52,
   "id": "d7f8afc9",
   "metadata": {
    "execution": {
     "iopub.execute_input": "2024-03-13T08:24:30.865464Z",
     "iopub.status.busy": "2024-03-13T08:24:30.865032Z",
     "iopub.status.idle": "2024-03-13T08:24:30.873230Z",
     "shell.execute_reply": "2024-03-13T08:24:30.872404Z"
    },
    "papermill": {
     "duration": 0.051192,
     "end_time": "2024-03-13T08:24:30.876276",
     "exception": false,
     "start_time": "2024-03-13T08:24:30.825084",
     "status": "completed"
    },
    "tags": []
   },
   "outputs": [
    {
     "data": {
      "text/plain": [
       "0.6331235783715713"
      ]
     },
     "execution_count": 52,
     "metadata": {},
     "output_type": "execute_result"
    }
   ],
   "source": [
    "# Time to check out the correlation between 'ram_memory' and 'price'\n",
    "df['ram_memory'].corr(df['price'])"
   ]
  },
  {
   "cell_type": "code",
   "execution_count": 53,
   "id": "0c8f4a71",
   "metadata": {
    "execution": {
     "iopub.execute_input": "2024-03-13T08:24:30.950344Z",
     "iopub.status.busy": "2024-03-13T08:24:30.949950Z",
     "iopub.status.idle": "2024-03-13T08:24:30.958176Z",
     "shell.execute_reply": "2024-03-13T08:24:30.957188Z"
    },
    "papermill": {
     "duration": 0.048697,
     "end_time": "2024-03-13T08:24:30.960971",
     "exception": false,
     "start_time": "2024-03-13T08:24:30.912274",
     "status": "completed"
    },
    "tags": []
   },
   "outputs": [
    {
     "data": {
      "text/plain": [
       "primary_storage_type\n",
       "SSD    964\n",
       "HDD     27\n",
       "Name: count, dtype: int64"
      ]
     },
     "execution_count": 53,
     "metadata": {},
     "output_type": "execute_result"
    }
   ],
   "source": [
    "# Let's explore the 'primary_storage_type' column\n",
    "df['primary_storage_type'].value_counts()"
   ]
  },
  {
   "cell_type": "code",
   "execution_count": 54,
   "id": "c1e94477",
   "metadata": {
    "execution": {
     "iopub.execute_input": "2024-03-13T08:24:31.037531Z",
     "iopub.status.busy": "2024-03-13T08:24:31.036788Z",
     "iopub.status.idle": "2024-03-13T08:24:31.279122Z",
     "shell.execute_reply": "2024-03-13T08:24:31.277469Z"
    },
    "papermill": {
     "duration": 0.283126,
     "end_time": "2024-03-13T08:24:31.281549",
     "exception": false,
     "start_time": "2024-03-13T08:24:30.998423",
     "status": "completed"
    },
    "tags": []
   },
   "outputs": [
    {
     "data": {
      "image/png": "[encoded data removed]",
      "text/plain": [
       "<Figure size 1000x700 with 1 Axes>"
      ]
     },
     "metadata": {},
     "output_type": "display_data"
    }
   ],
   "source": [
    "plt.figure(figsize=(10, 7))\n",
    "\n",
    "sns.countplot(data=df, x='primary_storage_type')\n",
    "plt.xlabel('primary_storage_type', fontsize=14)\n",
    "plt.ylabel('count', fontsize=14)\n",
    "\n",
    "plt.show()"
   ]
  },
  {
   "cell_type": "code",
   "execution_count": 55,
   "id": "67a5de1d",
   "metadata": {
    "execution": {
     "iopub.execute_input": "2024-03-13T08:24:31.360017Z",
     "iopub.status.busy": "2024-03-13T08:24:31.358865Z",
     "iopub.status.idle": "2024-03-13T08:24:31.376827Z",
     "shell.execute_reply": "2024-03-13T08:24:31.375878Z"
    },
    "papermill": {
     "duration": 0.061017,
     "end_time": "2024-03-13T08:24:31.379077",
     "exception": false,
     "start_time": "2024-03-13T08:24:31.318060",
     "status": "completed"
    },
    "tags": []
   },
   "outputs": [
    {
     "data": {
      "text/html": [
       "<div>\n",
       "<style scoped>\n",
       "    .dataframe tbody tr th:only-of-type {\n",
       "        vertical-align: middle;\n",
       "    }\n",
       "\n",
       "    .dataframe tbody tr th {\n",
       "        vertical-align: top;\n",
       "    }\n",
       "\n",
       "    .dataframe thead th {\n",
       "        text-align: right;\n",
       "    }\n",
       "</style>\n",
       "<table border=\"1\" class=\"dataframe\">\n",
       "  <thead>\n",
       "    <tr style=\"text-align: right;\">\n",
       "      <th></th>\n",
       "      <th>primary_storage_type</th>\n",
       "      <th>mean</th>\n",
       "      <th>median</th>\n",
       "    </tr>\n",
       "  </thead>\n",
       "  <tbody>\n",
       "    <tr>\n",
       "      <th>1</th>\n",
       "      <td>SSD</td>\n",
       "      <td>78133.336100</td>\n",
       "      <td>61990.0</td>\n",
       "    </tr>\n",
       "    <tr>\n",
       "      <th>0</th>\n",
       "      <td>HDD</td>\n",
       "      <td>46317.407407</td>\n",
       "      <td>34890.0</td>\n",
       "    </tr>\n",
       "  </tbody>\n",
       "</table>\n",
       "</div>"
      ],
      "text/plain": [
       "  primary_storage_type          mean   median\n",
       "1                  SSD  78133.336100  61990.0\n",
       "0                  HDD  46317.407407  34890.0"
      ]
     },
     "execution_count": 55,
     "metadata": {},
     "output_type": "execute_result"
    }
   ],
   "source": [
    "primary_storage_type = df.groupby('primary_storage_type')['price'].agg(['mean', 'median']).reset_index().sort_values(by=['mean', 'median'],\n",
    "                                                                                                                     ascending=[False, False])\n",
    "primary_storage_type"
   ]
  },
  {
   "cell_type": "code",
   "execution_count": 56,
   "id": "1db9f696",
   "metadata": {
    "execution": {
     "iopub.execute_input": "2024-03-13T08:24:31.454938Z",
     "iopub.status.busy": "2024-03-13T08:24:31.454543Z",
     "iopub.status.idle": "2024-03-13T08:24:31.463163Z",
     "shell.execute_reply": "2024-03-13T08:24:31.462043Z"
    },
    "papermill": {
     "duration": 0.048984,
     "end_time": "2024-03-13T08:24:31.465879",
     "exception": false,
     "start_time": "2024-03-13T08:24:31.416895",
     "status": "completed"
    },
    "tags": []
   },
   "outputs": [
    {
     "data": {
      "text/plain": [
       "primary_storage_capacity\n",
       "512     708\n",
       "1024    208\n",
       "256      45\n",
       "128      11\n",
       "64        9\n",
       "2048      8\n",
       "32        2\n",
       "Name: count, dtype: int64"
      ]
     },
     "execution_count": 56,
     "metadata": {},
     "output_type": "execute_result"
    }
   ],
   "source": [
    "# Let's explore the primary_storage_capacity \n",
    "df['primary_storage_capacity'].value_counts()"
   ]
  },
  {
   "cell_type": "code",
   "execution_count": 57,
   "id": "b45f75b1",
   "metadata": {
    "execution": {
     "iopub.execute_input": "2024-03-13T08:24:31.542958Z",
     "iopub.status.busy": "2024-03-13T08:24:31.542268Z",
     "iopub.status.idle": "2024-03-13T08:24:31.867223Z",
     "shell.execute_reply": "2024-03-13T08:24:31.865633Z"
    },
    "papermill": {
     "duration": 0.367229,
     "end_time": "2024-03-13T08:24:31.869939",
     "exception": false,
     "start_time": "2024-03-13T08:24:31.502710",
     "status": "completed"
    },
    "tags": []
   },
   "outputs": [
    {
     "data": {
      "image/png": "[encoded data removed]",
      "text/plain": [
       "<Figure size 1000x700 with 1 Axes>"
      ]
     },
     "metadata": {},
     "output_type": "display_data"
    }
   ],
   "source": [
    "plt.figure(figsize=(10, 7))\n",
    "\n",
    "sns.countplot(data=df, x='primary_storage_capacity')\n",
    "plt.xlabel('count', fontsize=14)\n",
    "plt.ylabel('primary_storage_capacity', fontsize=14)\n",
    "\n",
    "plt.show()"
   ]
  },
  {
   "cell_type": "code",
   "execution_count": 58,
   "id": "a6e528b3",
   "metadata": {
    "execution": {
     "iopub.execute_input": "2024-03-13T08:24:31.949343Z",
     "iopub.status.busy": "2024-03-13T08:24:31.948943Z",
     "iopub.status.idle": "2024-03-13T08:24:31.965372Z",
     "shell.execute_reply": "2024-03-13T08:24:31.964553Z"
    },
    "papermill": {
     "duration": 0.059004,
     "end_time": "2024-03-13T08:24:31.967460",
     "exception": false,
     "start_time": "2024-03-13T08:24:31.908456",
     "status": "completed"
    },
    "tags": []
   },
   "outputs": [
    {
     "data": {
      "text/html": [
       "<div>\n",
       "<style scoped>\n",
       "    .dataframe tbody tr th:only-of-type {\n",
       "        vertical-align: middle;\n",
       "    }\n",
       "\n",
       "    .dataframe tbody tr th {\n",
       "        vertical-align: top;\n",
       "    }\n",
       "\n",
       "    .dataframe thead th {\n",
       "        text-align: right;\n",
       "    }\n",
       "</style>\n",
       "<table border=\"1\" class=\"dataframe\">\n",
       "  <thead>\n",
       "    <tr style=\"text-align: right;\">\n",
       "      <th></th>\n",
       "      <th>primary_storage_capacity</th>\n",
       "      <th>mean</th>\n",
       "      <th>median</th>\n",
       "    </tr>\n",
       "  </thead>\n",
       "  <tbody>\n",
       "    <tr>\n",
       "      <th>6</th>\n",
       "      <td>2048</td>\n",
       "      <td>307097.375000</td>\n",
       "      <td>286494.5</td>\n",
       "    </tr>\n",
       "    <tr>\n",
       "      <th>5</th>\n",
       "      <td>1024</td>\n",
       "      <td>132188.524038</td>\n",
       "      <td>109590.0</td>\n",
       "    </tr>\n",
       "    <tr>\n",
       "      <th>4</th>\n",
       "      <td>512</td>\n",
       "      <td>62780.728814</td>\n",
       "      <td>56790.0</td>\n",
       "    </tr>\n",
       "    <tr>\n",
       "      <th>3</th>\n",
       "      <td>256</td>\n",
       "      <td>38461.133333</td>\n",
       "      <td>27990.0</td>\n",
       "    </tr>\n",
       "    <tr>\n",
       "      <th>2</th>\n",
       "      <td>128</td>\n",
       "      <td>21675.818182</td>\n",
       "      <td>20990.0</td>\n",
       "    </tr>\n",
       "    <tr>\n",
       "      <th>1</th>\n",
       "      <td>64</td>\n",
       "      <td>19598.111111</td>\n",
       "      <td>17990.0</td>\n",
       "    </tr>\n",
       "    <tr>\n",
       "      <th>0</th>\n",
       "      <td>32</td>\n",
       "      <td>12395.000000</td>\n",
       "      <td>12395.0</td>\n",
       "    </tr>\n",
       "  </tbody>\n",
       "</table>\n",
       "</div>"
      ],
      "text/plain": [
       "   primary_storage_capacity           mean    median\n",
       "6                      2048  307097.375000  286494.5\n",
       "5                      1024  132188.524038  109590.0\n",
       "4                       512   62780.728814   56790.0\n",
       "3                       256   38461.133333   27990.0\n",
       "2                       128   21675.818182   20990.0\n",
       "1                        64   19598.111111   17990.0\n",
       "0                        32   12395.000000   12395.0"
      ]
     },
     "execution_count": 58,
     "metadata": {},
     "output_type": "execute_result"
    }
   ],
   "source": [
    "primary_storage_capacity_stats = df.groupby('primary_storage_capacity')['price'].agg(['mean', 'median']).reset_index().sort_values(by=['mean', 'median'],\n",
    "                                                                                                                                   ascending=[False, False])\n",
    "primary_storage_capacity_stats"
   ]
  },
  {
   "cell_type": "code",
   "execution_count": 59,
   "id": "65c69ef3",
   "metadata": {
    "execution": {
     "iopub.execute_input": "2024-03-13T08:24:32.047655Z",
     "iopub.status.busy": "2024-03-13T08:24:32.047029Z",
     "iopub.status.idle": "2024-03-13T08:24:32.054076Z",
     "shell.execute_reply": "2024-03-13T08:24:32.052905Z"
    },
    "papermill": {
     "duration": 0.051237,
     "end_time": "2024-03-13T08:24:32.057438",
     "exception": false,
     "start_time": "2024-03-13T08:24:32.006201",
     "status": "completed"
    },
    "tags": []
   },
   "outputs": [
    {
     "data": {
      "text/plain": [
       "0.6363428610573059"
      ]
     },
     "execution_count": 59,
     "metadata": {},
     "output_type": "execute_result"
    }
   ],
   "source": [
    "df['primary_storage_capacity'].corr(df['price'])"
   ]
  },
  {
   "cell_type": "code",
   "execution_count": 60,
   "id": "e142a7ba",
   "metadata": {
    "execution": {
     "iopub.execute_input": "2024-03-13T08:24:32.135634Z",
     "iopub.status.busy": "2024-03-13T08:24:32.135179Z",
     "iopub.status.idle": "2024-03-13T08:24:32.141943Z",
     "shell.execute_reply": "2024-03-13T08:24:32.140915Z"
    },
    "papermill": {
     "duration": 0.048087,
     "end_time": "2024-03-13T08:24:32.144280",
     "exception": false,
     "start_time": "2024-03-13T08:24:32.096193",
     "status": "completed"
    },
    "tags": []
   },
   "outputs": [
    {
     "data": {
      "text/plain": [
       "Index(['brand', 'model', 'price', 'rating', 'processor_brand',\n",
       "       'processor_tier', 'num_cores', 'num_threads', 'ram_memory',\n",
       "       'primary_storage_type', 'primary_storage_capacity',\n",
       "       'secondary_storage_type', 'secondary_storage_capacity', 'gpu_brand',\n",
       "       'gpu_type', 'is_touch_screen', 'display_size', 'resolution_width',\n",
       "       'resolution_height', 'OS', 'year_of_warranty'],\n",
       "      dtype='object')"
      ]
     },
     "execution_count": 60,
     "metadata": {},
     "output_type": "execute_result"
    }
   ],
   "source": [
    "df.columns"
   ]
  },
  {
   "cell_type": "code",
   "execution_count": 61,
   "id": "88690b46",
   "metadata": {
    "execution": {
     "iopub.execute_input": "2024-03-13T08:24:32.228260Z",
     "iopub.status.busy": "2024-03-13T08:24:32.227564Z",
     "iopub.status.idle": "2024-03-13T08:24:32.235971Z",
     "shell.execute_reply": "2024-03-13T08:24:32.234467Z"
    },
    "papermill": {
     "duration": 0.053292,
     "end_time": "2024-03-13T08:24:32.238113",
     "exception": false,
     "start_time": "2024-03-13T08:24:32.184821",
     "status": "completed"
    },
    "tags": []
   },
   "outputs": [
    {
     "data": {
      "text/plain": [
       "secondary_storage_capacity\n",
       "0      976\n",
       "256     13\n",
       "128      1\n",
       "512      1\n",
       "Name: count, dtype: int64"
      ]
     },
     "execution_count": 61,
     "metadata": {},
     "output_type": "execute_result"
    }
   ],
   "source": [
    "# Let's explore the secondary_storage_capacity column\n",
    "df.secondary_storage_capacity.value_counts()"
   ]
  },
  {
   "cell_type": "code",
   "execution_count": 62,
   "id": "a8b410d0",
   "metadata": {
    "execution": {
     "iopub.execute_input": "2024-03-13T08:24:32.320886Z",
     "iopub.status.busy": "2024-03-13T08:24:32.319573Z",
     "iopub.status.idle": "2024-03-13T08:24:32.639263Z",
     "shell.execute_reply": "2024-03-13T08:24:32.638262Z"
    },
    "papermill": {
     "duration": 0.363175,
     "end_time": "2024-03-13T08:24:32.641960",
     "exception": false,
     "start_time": "2024-03-13T08:24:32.278785",
     "status": "completed"
    },
    "tags": []
   },
   "outputs": [
    {
     "data": {
      "image/png": "[encoded data removed]",
      "text/plain": [
       "<Figure size 1000x700 with 1 Axes>"
      ]
     },
     "metadata": {},
     "output_type": "display_data"
    }
   ],
   "source": [
    "plt.figure(figsize=(10, 7))\n",
    "sns.countplot(data=df, x='secondary_storage_capacity')\n",
    "plt.tight_layout()\n",
    "plt.show()"
   ]
  },
  {
   "cell_type": "code",
   "execution_count": 63,
   "id": "21d16f52",
   "metadata": {
    "execution": {
     "iopub.execute_input": "2024-03-13T08:24:32.748136Z",
     "iopub.status.busy": "2024-03-13T08:24:32.747066Z",
     "iopub.status.idle": "2024-03-13T08:24:32.757234Z",
     "shell.execute_reply": "2024-03-13T08:24:32.756293Z"
    },
    "papermill": {
     "duration": 0.069398,
     "end_time": "2024-03-13T08:24:32.760432",
     "exception": false,
     "start_time": "2024-03-13T08:24:32.691034",
     "status": "completed"
    },
    "tags": []
   },
   "outputs": [
    {
     "data": {
      "text/plain": [
       "-0.013603505139510226"
      ]
     },
     "execution_count": 63,
     "metadata": {},
     "output_type": "execute_result"
    }
   ],
   "source": [
    "# Let's check the correlation of this column with the price\n",
    "df['secondary_storage_capacity'].corr(df['price'])"
   ]
  },
  {
   "cell_type": "markdown",
   "id": "0ab72671",
   "metadata": {
    "papermill": {
     "duration": 0.037498,
     "end_time": "2024-03-13T08:24:32.836688",
     "exception": false,
     "start_time": "2024-03-13T08:24:32.799190",
     "status": "completed"
    },
    "tags": []
   },
   "source": [
    "So it's not a very useful feature."
   ]
  },
  {
   "cell_type": "code",
   "execution_count": 64,
   "id": "350e2706",
   "metadata": {
    "execution": {
     "iopub.execute_input": "2024-03-13T08:24:32.916712Z",
     "iopub.status.busy": "2024-03-13T08:24:32.915415Z",
     "iopub.status.idle": "2024-03-13T08:24:32.931188Z",
     "shell.execute_reply": "2024-03-13T08:24:32.929993Z"
    },
    "papermill": {
     "duration": 0.058014,
     "end_time": "2024-03-13T08:24:32.933495",
     "exception": false,
     "start_time": "2024-03-13T08:24:32.875481",
     "status": "completed"
    },
    "tags": []
   },
   "outputs": [
    {
     "data": {
      "text/html": [
       "<div>\n",
       "<style scoped>\n",
       "    .dataframe tbody tr th:only-of-type {\n",
       "        vertical-align: middle;\n",
       "    }\n",
       "\n",
       "    .dataframe tbody tr th {\n",
       "        vertical-align: top;\n",
       "    }\n",
       "\n",
       "    .dataframe thead th {\n",
       "        text-align: right;\n",
       "    }\n",
       "</style>\n",
       "<table border=\"1\" class=\"dataframe\">\n",
       "  <thead>\n",
       "    <tr style=\"text-align: right;\">\n",
       "      <th></th>\n",
       "      <th>secondary_storage_capacity</th>\n",
       "      <th>mean</th>\n",
       "      <th>median</th>\n",
       "    </tr>\n",
       "  </thead>\n",
       "  <tbody>\n",
       "    <tr>\n",
       "      <th>3</th>\n",
       "      <td>512</td>\n",
       "      <td>115706.000000</td>\n",
       "      <td>115706.0</td>\n",
       "    </tr>\n",
       "    <tr>\n",
       "      <th>0</th>\n",
       "      <td>0</td>\n",
       "      <td>77436.455943</td>\n",
       "      <td>61595.0</td>\n",
       "    </tr>\n",
       "    <tr>\n",
       "      <th>2</th>\n",
       "      <td>256</td>\n",
       "      <td>65571.461538</td>\n",
       "      <td>66350.0</td>\n",
       "    </tr>\n",
       "    <tr>\n",
       "      <th>1</th>\n",
       "      <td>128</td>\n",
       "      <td>24990.000000</td>\n",
       "      <td>24990.0</td>\n",
       "    </tr>\n",
       "  </tbody>\n",
       "</table>\n",
       "</div>"
      ],
      "text/plain": [
       "   secondary_storage_capacity           mean    median\n",
       "3                         512  115706.000000  115706.0\n",
       "0                           0   77436.455943   61595.0\n",
       "2                         256   65571.461538   66350.0\n",
       "1                         128   24990.000000   24990.0"
      ]
     },
     "execution_count": 64,
     "metadata": {},
     "output_type": "execute_result"
    }
   ],
   "source": [
    "secondary_storage_capacity_stats = df.groupby('secondary_storage_capacity')['price'].agg(['mean', 'median']).reset_index().sort_values(by=['mean', 'median'],\n",
    "                                                                                                                                       ascending=[False, False])\n",
    "secondary_storage_capacity_stats "
   ]
  },
  {
   "cell_type": "code",
   "execution_count": 65,
   "id": "646a7e87",
   "metadata": {
    "execution": {
     "iopub.execute_input": "2024-03-13T08:24:33.015907Z",
     "iopub.status.busy": "2024-03-13T08:24:33.015542Z",
     "iopub.status.idle": "2024-03-13T08:24:33.028019Z",
     "shell.execute_reply": "2024-03-13T08:24:33.026533Z"
    },
    "papermill": {
     "duration": 0.056512,
     "end_time": "2024-03-13T08:24:33.030548",
     "exception": false,
     "start_time": "2024-03-13T08:24:32.974036",
     "status": "completed"
    },
    "tags": []
   },
   "outputs": [
    {
     "data": {
      "text/html": [
       "<div>\n",
       "<style scoped>\n",
       "    .dataframe tbody tr th:only-of-type {\n",
       "        vertical-align: middle;\n",
       "    }\n",
       "\n",
       "    .dataframe tbody tr th {\n",
       "        vertical-align: top;\n",
       "    }\n",
       "\n",
       "    .dataframe thead th {\n",
       "        text-align: right;\n",
       "    }\n",
       "</style>\n",
       "<table border=\"1\" class=\"dataframe\">\n",
       "  <thead>\n",
       "    <tr style=\"text-align: right;\">\n",
       "      <th></th>\n",
       "      <th>gpu_brand</th>\n",
       "      <th>count</th>\n",
       "    </tr>\n",
       "  </thead>\n",
       "  <tbody>\n",
       "    <tr>\n",
       "      <th>0</th>\n",
       "      <td>intel</td>\n",
       "      <td>462</td>\n",
       "    </tr>\n",
       "    <tr>\n",
       "      <th>1</th>\n",
       "      <td>nvidia</td>\n",
       "      <td>343</td>\n",
       "    </tr>\n",
       "    <tr>\n",
       "      <th>2</th>\n",
       "      <td>amd</td>\n",
       "      <td>167</td>\n",
       "    </tr>\n",
       "    <tr>\n",
       "      <th>3</th>\n",
       "      <td>apple</td>\n",
       "      <td>15</td>\n",
       "    </tr>\n",
       "    <tr>\n",
       "      <th>4</th>\n",
       "      <td>arm</td>\n",
       "      <td>4</td>\n",
       "    </tr>\n",
       "  </tbody>\n",
       "</table>\n",
       "</div>"
      ],
      "text/plain": [
       "  gpu_brand  count\n",
       "0     intel    462\n",
       "1    nvidia    343\n",
       "2       amd    167\n",
       "3     apple     15\n",
       "4       arm      4"
      ]
     },
     "execution_count": 65,
     "metadata": {},
     "output_type": "execute_result"
    }
   ],
   "source": [
    "# Let's explore the gpu_brand column\n",
    "df['gpu_brand'].value_counts().reset_index()"
   ]
  },
  {
   "cell_type": "code",
   "execution_count": 66,
   "id": "8a1311c6",
   "metadata": {
    "execution": {
     "iopub.execute_input": "2024-03-13T08:24:33.116418Z",
     "iopub.status.busy": "2024-03-13T08:24:33.115973Z",
     "iopub.status.idle": "2024-03-13T08:24:33.377440Z",
     "shell.execute_reply": "2024-03-13T08:24:33.375787Z"
    },
    "papermill": {
     "duration": 0.308444,
     "end_time": "2024-03-13T08:24:33.380702",
     "exception": false,
     "start_time": "2024-03-13T08:24:33.072258",
     "status": "completed"
    },
    "tags": []
   },
   "outputs": [
    {
     "data": {
      "image/png": "[encoded data removed]",
      "text/plain": [
       "<Figure size 1000x700 with 1 Axes>"
      ]
     },
     "metadata": {},
     "output_type": "display_data"
    }
   ],
   "source": [
    "plt.figure(figsize=(10, 7))\n",
    "sns.countplot(data=df, x='gpu_brand', order=df['gpu_brand'].value_counts().reset_index().sort_values(by='count', ascending=False)['gpu_brand'])\n",
    "plt.show()"
   ]
  },
  {
   "cell_type": "code",
   "execution_count": 67,
   "id": "97901fdb",
   "metadata": {
    "execution": {
     "iopub.execute_input": "2024-03-13T08:24:33.463751Z",
     "iopub.status.busy": "2024-03-13T08:24:33.463263Z",
     "iopub.status.idle": "2024-03-13T08:24:33.482175Z",
     "shell.execute_reply": "2024-03-13T08:24:33.480672Z"
    },
    "papermill": {
     "duration": 0.062981,
     "end_time": "2024-03-13T08:24:33.484990",
     "exception": false,
     "start_time": "2024-03-13T08:24:33.422009",
     "status": "completed"
    },
    "tags": []
   },
   "outputs": [
    {
     "data": {
      "text/html": [
       "<div>\n",
       "<style scoped>\n",
       "    .dataframe tbody tr th:only-of-type {\n",
       "        vertical-align: middle;\n",
       "    }\n",
       "\n",
       "    .dataframe tbody tr th {\n",
       "        vertical-align: top;\n",
       "    }\n",
       "\n",
       "    .dataframe thead th {\n",
       "        text-align: right;\n",
       "    }\n",
       "</style>\n",
       "<table border=\"1\" class=\"dataframe\">\n",
       "  <thead>\n",
       "    <tr style=\"text-align: right;\">\n",
       "      <th></th>\n",
       "      <th>gpu_brand</th>\n",
       "      <th>mean</th>\n",
       "      <th>median</th>\n",
       "    </tr>\n",
       "  </thead>\n",
       "  <tbody>\n",
       "    <tr>\n",
       "      <th>1</th>\n",
       "      <td>apple</td>\n",
       "      <td>193875.333333</td>\n",
       "      <td>169900.0</td>\n",
       "    </tr>\n",
       "    <tr>\n",
       "      <th>4</th>\n",
       "      <td>nvidia</td>\n",
       "      <td>112181.895044</td>\n",
       "      <td>89000.0</td>\n",
       "    </tr>\n",
       "    <tr>\n",
       "      <th>3</th>\n",
       "      <td>intel</td>\n",
       "      <td>58547.950216</td>\n",
       "      <td>51643.5</td>\n",
       "    </tr>\n",
       "    <tr>\n",
       "      <th>0</th>\n",
       "      <td>amd</td>\n",
       "      <td>48222.760479</td>\n",
       "      <td>44990.0</td>\n",
       "    </tr>\n",
       "    <tr>\n",
       "      <th>2</th>\n",
       "      <td>arm</td>\n",
       "      <td>20558.000000</td>\n",
       "      <td>14845.5</td>\n",
       "    </tr>\n",
       "  </tbody>\n",
       "</table>\n",
       "</div>"
      ],
      "text/plain": [
       "  gpu_brand           mean    median\n",
       "1     apple  193875.333333  169900.0\n",
       "4    nvidia  112181.895044   89000.0\n",
       "3     intel   58547.950216   51643.5\n",
       "0       amd   48222.760479   44990.0\n",
       "2       arm   20558.000000   14845.5"
      ]
     },
     "execution_count": 67,
     "metadata": {},
     "output_type": "execute_result"
    }
   ],
   "source": [
    "gpu_brand_stats = df.groupby('gpu_brand')['price'].agg(['mean', 'median']).reset_index().sort_values(by=['mean', 'median'],\n",
    "                                                                                                     ascending=[False, False])\n",
    "gpu_brand_stats"
   ]
  },
  {
   "cell_type": "code",
   "execution_count": 68,
   "id": "297a8229",
   "metadata": {
    "execution": {
     "iopub.execute_input": "2024-03-13T08:24:33.567946Z",
     "iopub.status.busy": "2024-03-13T08:24:33.567569Z",
     "iopub.status.idle": "2024-03-13T08:24:33.576254Z",
     "shell.execute_reply": "2024-03-13T08:24:33.574992Z"
    },
    "papermill": {
     "duration": 0.051659,
     "end_time": "2024-03-13T08:24:33.579001",
     "exception": false,
     "start_time": "2024-03-13T08:24:33.527342",
     "status": "completed"
    },
    "tags": []
   },
   "outputs": [
    {
     "data": {
      "text/plain": [
       "gpu_type\n",
       "integrated    616\n",
       "dedicated     360\n",
       "apple          15\n",
       "Name: count, dtype: int64"
      ]
     },
     "execution_count": 68,
     "metadata": {},
     "output_type": "execute_result"
    }
   ],
   "source": [
    "# Let's explore the gpu_type column\n",
    "df['gpu_type'].value_counts()"
   ]
  },
  {
   "cell_type": "code",
   "execution_count": 69,
   "id": "d98373dd",
   "metadata": {
    "execution": {
     "iopub.execute_input": "2024-03-13T08:24:33.662289Z",
     "iopub.status.busy": "2024-03-13T08:24:33.661888Z",
     "iopub.status.idle": "2024-03-13T08:24:33.921203Z",
     "shell.execute_reply": "2024-03-13T08:24:33.920058Z"
    },
    "papermill": {
     "duration": 0.305502,
     "end_time": "2024-03-13T08:24:33.923486",
     "exception": false,
     "start_time": "2024-03-13T08:24:33.617984",
     "status": "completed"
    },
    "tags": []
   },
   "outputs": [
    {
     "data": {
      "image/png": "[encoded data removed]",
      "text/plain": [
       "<Figure size 1000x700 with 1 Axes>"
      ]
     },
     "metadata": {},
     "output_type": "display_data"
    }
   ],
   "source": [
    "plt.figure(figsize=(10, 7))\n",
    "sns.countplot(data=df, x='gpu_type')\n",
    "plt.show()"
   ]
  },
  {
   "cell_type": "code",
   "execution_count": 70,
   "id": "062a48c5",
   "metadata": {
    "execution": {
     "iopub.execute_input": "2024-03-13T08:24:34.004473Z",
     "iopub.status.busy": "2024-03-13T08:24:34.003249Z",
     "iopub.status.idle": "2024-03-13T08:24:34.018653Z",
     "shell.execute_reply": "2024-03-13T08:24:34.017682Z"
    },
    "papermill": {
     "duration": 0.05831,
     "end_time": "2024-03-13T08:24:34.020815",
     "exception": false,
     "start_time": "2024-03-13T08:24:33.962505",
     "status": "completed"
    },
    "tags": []
   },
   "outputs": [
    {
     "data": {
      "text/html": [
       "<div>\n",
       "<style scoped>\n",
       "    .dataframe tbody tr th:only-of-type {\n",
       "        vertical-align: middle;\n",
       "    }\n",
       "\n",
       "    .dataframe tbody tr th {\n",
       "        vertical-align: top;\n",
       "    }\n",
       "\n",
       "    .dataframe thead th {\n",
       "        text-align: right;\n",
       "    }\n",
       "</style>\n",
       "<table border=\"1\" class=\"dataframe\">\n",
       "  <thead>\n",
       "    <tr style=\"text-align: right;\">\n",
       "      <th></th>\n",
       "      <th>gpu_type</th>\n",
       "      <th>mean</th>\n",
       "      <th>median</th>\n",
       "    </tr>\n",
       "  </thead>\n",
       "  <tbody>\n",
       "    <tr>\n",
       "      <th>0</th>\n",
       "      <td>apple</td>\n",
       "      <td>193875.333333</td>\n",
       "      <td>169900.0</td>\n",
       "    </tr>\n",
       "    <tr>\n",
       "      <th>1</th>\n",
       "      <td>dedicated</td>\n",
       "      <td>110707.494444</td>\n",
       "      <td>87990.0</td>\n",
       "    </tr>\n",
       "    <tr>\n",
       "      <th>2</th>\n",
       "      <td>integrated</td>\n",
       "      <td>54883.568182</td>\n",
       "      <td>47990.0</td>\n",
       "    </tr>\n",
       "  </tbody>\n",
       "</table>\n",
       "</div>"
      ],
      "text/plain": [
       "     gpu_type           mean    median\n",
       "0       apple  193875.333333  169900.0\n",
       "1   dedicated  110707.494444   87990.0\n",
       "2  integrated   54883.568182   47990.0"
      ]
     },
     "execution_count": 70,
     "metadata": {},
     "output_type": "execute_result"
    }
   ],
   "source": [
    "gpu_type_stats = df.groupby('gpu_type')['price'].agg(['mean', 'median']).reset_index().sort_values(by=['mean', 'median'],\n",
    "                                                                                                   ascending=[False, False])\n",
    "gpu_type_stats"
   ]
  },
  {
   "cell_type": "code",
   "execution_count": 71,
   "id": "162c571f",
   "metadata": {
    "execution": {
     "iopub.execute_input": "2024-03-13T08:24:34.111869Z",
     "iopub.status.busy": "2024-03-13T08:24:34.111096Z",
     "iopub.status.idle": "2024-03-13T08:24:34.123408Z",
     "shell.execute_reply": "2024-03-13T08:24:34.122474Z"
    },
    "papermill": {
     "duration": 0.059906,
     "end_time": "2024-03-13T08:24:34.125746",
     "exception": false,
     "start_time": "2024-03-13T08:24:34.065840",
     "status": "completed"
    },
    "tags": []
   },
   "outputs": [
    {
     "data": {
      "text/plain": [
       "is_touch_screen\n",
       "False    903\n",
       "True      88\n",
       "Name: count, dtype: int64"
      ]
     },
     "execution_count": 71,
     "metadata": {},
     "output_type": "execute_result"
    }
   ],
   "source": [
    "# Let's explore the is_touch_screen column\n",
    "df['is_touch_screen'].value_counts()"
   ]
  },
  {
   "cell_type": "code",
   "execution_count": 72,
   "id": "6567c7b9",
   "metadata": {
    "execution": {
     "iopub.execute_input": "2024-03-13T08:24:34.214765Z",
     "iopub.status.busy": "2024-03-13T08:24:34.213598Z",
     "iopub.status.idle": "2024-03-13T08:24:34.237810Z",
     "shell.execute_reply": "2024-03-13T08:24:34.235787Z"
    },
    "papermill": {
     "duration": 0.070877,
     "end_time": "2024-03-13T08:24:34.240670",
     "exception": false,
     "start_time": "2024-03-13T08:24:34.169793",
     "status": "completed"
    },
    "tags": []
   },
   "outputs": [
    {
     "data": {
      "text/plain": [
       "(75084.5415282392, 58990.0)"
      ]
     },
     "execution_count": 72,
     "metadata": {},
     "output_type": "execute_result"
    }
   ],
   "source": [
    "df.query('is_touch_screen == False')['price'].mean(), df.query('is_touch_screen == False')['price'].median()"
   ]
  },
  {
   "cell_type": "code",
   "execution_count": 73,
   "id": "0cd2f4f0",
   "metadata": {
    "execution": {
     "iopub.execute_input": "2024-03-13T08:24:34.327609Z",
     "iopub.status.busy": "2024-03-13T08:24:34.327171Z",
     "iopub.status.idle": "2024-03-13T08:24:34.349649Z",
     "shell.execute_reply": "2024-03-13T08:24:34.348383Z"
    },
    "papermill": {
     "duration": 0.067955,
     "end_time": "2024-03-13T08:24:34.352104",
     "exception": false,
     "start_time": "2024-03-13T08:24:34.284149",
     "status": "completed"
    },
    "tags": []
   },
   "outputs": [
    {
     "data": {
      "text/plain": [
       "(99656.42045454546, 87840.0)"
      ]
     },
     "execution_count": 73,
     "metadata": {},
     "output_type": "execute_result"
    }
   ],
   "source": [
    "df.query('is_touch_screen == True')['price'].mean(), df.query('is_touch_screen == True')['price'].median()"
   ]
  },
  {
   "cell_type": "code",
   "execution_count": 74,
   "id": "bdd49630",
   "metadata": {
    "execution": {
     "iopub.execute_input": "2024-03-13T08:24:34.439494Z",
     "iopub.status.busy": "2024-03-13T08:24:34.439048Z",
     "iopub.status.idle": "2024-03-13T08:24:34.450584Z",
     "shell.execute_reply": "2024-03-13T08:24:34.449335Z"
    },
    "papermill": {
     "duration": 0.056389,
     "end_time": "2024-03-13T08:24:34.453192",
     "exception": false,
     "start_time": "2024-03-13T08:24:34.396803",
     "status": "completed"
    },
    "tags": []
   },
   "outputs": [
    {
     "data": {
      "text/plain": [
       "display_size\n",
       "15.6    527\n",
       "14.0    237\n",
       "16.0    118\n",
       "16.1     26\n",
       "13.3     19\n",
       "17.3     15\n",
       "14.1      9\n",
       "13.4      7\n",
       "11.6      7\n",
       "13.5      5\n",
       "16.2      4\n",
       "14.2      4\n",
       "12.4      2\n",
       "18.0      2\n",
       "14.5      2\n",
       "15.3      2\n",
       "13.6      2\n",
       "10.1      1\n",
       "15.0      1\n",
       "13.0      1\n",
       "Name: count, dtype: int64"
      ]
     },
     "execution_count": 74,
     "metadata": {},
     "output_type": "execute_result"
    }
   ],
   "source": [
    "# Let's explore the display_size column\n",
    "df['display_size'].value_counts()"
   ]
  },
  {
   "cell_type": "code",
   "execution_count": 75,
   "id": "54885c8f",
   "metadata": {
    "execution": {
     "iopub.execute_input": "2024-03-13T08:24:34.540333Z",
     "iopub.status.busy": "2024-03-13T08:24:34.539930Z",
     "iopub.status.idle": "2024-03-13T08:24:35.024622Z",
     "shell.execute_reply": "2024-03-13T08:24:35.023706Z"
    },
    "papermill": {
     "duration": 0.531746,
     "end_time": "2024-03-13T08:24:35.026848",
     "exception": false,
     "start_time": "2024-03-13T08:24:34.495102",
     "status": "completed"
    },
    "tags": []
   },
   "outputs": [
    {
     "data": {
      "image/png": "[encoded data removed]",
      "text/plain": [
       "<Figure size 1000x700 with 1 Axes>"
      ]
     },
     "metadata": {},
     "output_type": "display_data"
    }
   ],
   "source": [
    "plt.figure(figsize=(10, 7))\n",
    "sns.countplot(data=df, x='display_size')\n",
    "plt.show()"
   ]
  },
  {
   "cell_type": "code",
   "execution_count": 76,
   "id": "35bef8df",
   "metadata": {
    "execution": {
     "iopub.execute_input": "2024-03-13T08:24:35.120235Z",
     "iopub.status.busy": "2024-03-13T08:24:35.119537Z",
     "iopub.status.idle": "2024-03-13T08:24:35.130840Z",
     "shell.execute_reply": "2024-03-13T08:24:35.129267Z"
    },
    "papermill": {
     "duration": 0.063713,
     "end_time": "2024-03-13T08:24:35.133896",
     "exception": false,
     "start_time": "2024-03-13T08:24:35.070183",
     "status": "completed"
    },
    "tags": []
   },
   "outputs": [
    {
     "data": {
      "text/plain": [
       "0.21143538212870683"
      ]
     },
     "execution_count": 76,
     "metadata": {},
     "output_type": "execute_result"
    }
   ],
   "source": [
    "df['display_size'].corr(df['price'])"
   ]
  },
  {
   "cell_type": "code",
   "execution_count": 77,
   "id": "c5c4cd13",
   "metadata": {
    "execution": {
     "iopub.execute_input": "2024-03-13T08:24:35.225143Z",
     "iopub.status.busy": "2024-03-13T08:24:35.224628Z",
     "iopub.status.idle": "2024-03-13T08:24:35.233135Z",
     "shell.execute_reply": "2024-03-13T08:24:35.232070Z"
    },
    "papermill": {
     "duration": 0.056642,
     "end_time": "2024-03-13T08:24:35.236262",
     "exception": false,
     "start_time": "2024-03-13T08:24:35.179620",
     "status": "completed"
    },
    "tags": []
   },
   "outputs": [
    {
     "data": {
      "text/plain": [
       "resolution_width\n",
       "1920    776\n",
       "2560     81\n",
       "1366     52\n",
       "2880     37\n",
       "3200      8\n",
       "1080      7\n",
       "3456      6\n",
       "3024      4\n",
       "3000      4\n",
       "1200      3\n",
       "3840      2\n",
       "2160      2\n",
       "1536      2\n",
       "1440      1\n",
       "2048      1\n",
       "2256      1\n",
       "1280      1\n",
       "1600      1\n",
       "2240      1\n",
       "3072      1\n",
       "Name: count, dtype: int64"
      ]
     },
     "execution_count": 77,
     "metadata": {},
     "output_type": "execute_result"
    }
   ],
   "source": [
    "# Let's explore the resolution_width column\n",
    "df['resolution_width'].value_counts()"
   ]
  },
  {
   "cell_type": "code",
   "execution_count": 78,
   "id": "962de018",
   "metadata": {
    "execution": {
     "iopub.execute_input": "2024-03-13T08:24:35.328778Z",
     "iopub.status.busy": "2024-03-13T08:24:35.328320Z",
     "iopub.status.idle": "2024-03-13T08:24:35.821034Z",
     "shell.execute_reply": "2024-03-13T08:24:35.820131Z"
    },
    "papermill": {
     "duration": 0.541512,
     "end_time": "2024-03-13T08:24:35.823139",
     "exception": false,
     "start_time": "2024-03-13T08:24:35.281627",
     "status": "completed"
    },
    "tags": []
   },
   "outputs": [
    {
     "data": {
      "image/png": "[encoded data removed]",
      "text/plain": [
       "<Figure size 1200x700 with 1 Axes>"
      ]
     },
     "metadata": {},
     "output_type": "display_data"
    }
   ],
   "source": [
    "plt.figure(figsize=(12, 7))\n",
    "sns.countplot(data=df, x='resolution_width')\n",
    "plt.show()"
   ]
  },
  {
   "cell_type": "code",
   "execution_count": 79,
   "id": "0816e430",
   "metadata": {
    "execution": {
     "iopub.execute_input": "2024-03-13T08:24:35.910505Z",
     "iopub.status.busy": "2024-03-13T08:24:35.909839Z",
     "iopub.status.idle": "2024-03-13T08:24:35.918515Z",
     "shell.execute_reply": "2024-03-13T08:24:35.917592Z"
    },
    "papermill": {
     "duration": 0.055203,
     "end_time": "2024-03-13T08:24:35.920845",
     "exception": false,
     "start_time": "2024-03-13T08:24:35.865642",
     "status": "completed"
    },
    "tags": []
   },
   "outputs": [
    {
     "data": {
      "text/plain": [
       "0.6403063133740216"
      ]
     },
     "execution_count": 79,
     "metadata": {},
     "output_type": "execute_result"
    }
   ],
   "source": [
    "df['resolution_width'].corr(df['price'])"
   ]
  },
  {
   "cell_type": "code",
   "execution_count": 80,
   "id": "56b52813",
   "metadata": {
    "execution": {
     "iopub.execute_input": "2024-03-13T08:24:36.006205Z",
     "iopub.status.busy": "2024-03-13T08:24:36.005507Z",
     "iopub.status.idle": "2024-03-13T08:24:36.014599Z",
     "shell.execute_reply": "2024-03-13T08:24:36.013475Z"
    },
    "papermill": {
     "duration": 0.055992,
     "end_time": "2024-03-13T08:24:36.017163",
     "exception": false,
     "start_time": "2024-03-13T08:24:35.961171",
     "status": "completed"
    },
    "tags": []
   },
   "outputs": [
    {
     "data": {
      "text/plain": [
       "resolution_height\n",
       "1080    648\n",
       "1200    128\n",
       "1600     64\n",
       "768      52\n",
       "1800     34\n",
       "1440     16\n",
       "1920     10\n",
       "2000      7\n",
       "1620      6\n",
       "1964      4\n",
       "2234      4\n",
       "2160      3\n",
       "1024      3\n",
       "1864      2\n",
       "1664      2\n",
       "2400      2\n",
       "1504      1\n",
       "1660      1\n",
       "800       1\n",
       "1536      1\n",
       "2560      1\n",
       "1400      1\n",
       "Name: count, dtype: int64"
      ]
     },
     "execution_count": 80,
     "metadata": {},
     "output_type": "execute_result"
    }
   ],
   "source": [
    "# Let's explore the resolution_height column\n",
    "df['resolution_height'].value_counts()"
   ]
  },
  {
   "cell_type": "code",
   "execution_count": 81,
   "id": "5f1f5de7",
   "metadata": {
    "execution": {
     "iopub.execute_input": "2024-03-13T08:24:36.105023Z",
     "iopub.status.busy": "2024-03-13T08:24:36.104649Z",
     "iopub.status.idle": "2024-03-13T08:24:36.612529Z",
     "shell.execute_reply": "2024-03-13T08:24:36.611209Z"
    },
    "papermill": {
     "duration": 0.554573,
     "end_time": "2024-03-13T08:24:36.615009",
     "exception": false,
     "start_time": "2024-03-13T08:24:36.060436",
     "status": "completed"
    },
    "tags": []
   },
   "outputs": [
    {
     "data": {
      "image/png": "[encoded data removed]",
      "text/plain": [
       "<Figure size 1200x700 with 1 Axes>"
      ]
     },
     "metadata": {},
     "output_type": "display_data"
    }
   ],
   "source": [
    "plt.figure(figsize=(12, 7))\n",
    "sns.countplot(data=df, x='resolution_height')\n",
    "plt.show()"
   ]
  },
  {
   "cell_type": "code",
   "execution_count": 82,
   "id": "f609be5c",
   "metadata": {
    "execution": {
     "iopub.execute_input": "2024-03-13T08:24:36.704958Z",
     "iopub.status.busy": "2024-03-13T08:24:36.704589Z",
     "iopub.status.idle": "2024-03-13T08:24:36.713507Z",
     "shell.execute_reply": "2024-03-13T08:24:36.712179Z"
    },
    "papermill": {
     "duration": 0.060006,
     "end_time": "2024-03-13T08:24:36.716750",
     "exception": false,
     "start_time": "2024-03-13T08:24:36.656744",
     "status": "completed"
    },
    "tags": []
   },
   "outputs": [
    {
     "data": {
      "text/plain": [
       "OS\n",
       "windows    924\n",
       "dos         32\n",
       "chrome      16\n",
       "mac         15\n",
       "other        2\n",
       "android      1\n",
       "ubuntu       1\n",
       "Name: count, dtype: int64"
      ]
     },
     "execution_count": 82,
     "metadata": {},
     "output_type": "execute_result"
    }
   ],
   "source": [
    "# Let's explore the OS column\n",
    "df['OS'].value_counts()"
   ]
  },
  {
   "cell_type": "code",
   "execution_count": 83,
   "id": "799c9da4",
   "metadata": {
    "execution": {
     "iopub.execute_input": "2024-03-13T08:24:36.804138Z",
     "iopub.status.busy": "2024-03-13T08:24:36.803775Z",
     "iopub.status.idle": "2024-03-13T08:24:37.090962Z",
     "shell.execute_reply": "2024-03-13T08:24:37.089769Z"
    },
    "papermill": {
     "duration": 0.332559,
     "end_time": "2024-03-13T08:24:37.093866",
     "exception": false,
     "start_time": "2024-03-13T08:24:36.761307",
     "status": "completed"
    },
    "tags": []
   },
   "outputs": [
    {
     "data": {
      "image/png": "[encoded data removed]",
      "text/plain": [
       "<Figure size 1000x700 with 1 Axes>"
      ]
     },
     "metadata": {},
     "output_type": "display_data"
    }
   ],
   "source": [
    "plt.figure(figsize=(10, 7))\n",
    "sns.countplot(data=df, x='OS')\n",
    "plt.xlabel('OS', fontsize=14)\n",
    "plt.ylabel('count', fontsize=14)\n",
    "plt.show()"
   ]
  },
  {
   "cell_type": "code",
   "execution_count": 84,
   "id": "72225077",
   "metadata": {
    "execution": {
     "iopub.execute_input": "2024-03-13T08:24:37.182374Z",
     "iopub.status.busy": "2024-03-13T08:24:37.181593Z",
     "iopub.status.idle": "2024-03-13T08:24:37.198765Z",
     "shell.execute_reply": "2024-03-13T08:24:37.197568Z"
    },
    "papermill": {
     "duration": 0.065231,
     "end_time": "2024-03-13T08:24:37.201137",
     "exception": false,
     "start_time": "2024-03-13T08:24:37.135906",
     "status": "completed"
    },
    "tags": []
   },
   "outputs": [
    {
     "data": {
      "text/html": [
       "<div>\n",
       "<style scoped>\n",
       "    .dataframe tbody tr th:only-of-type {\n",
       "        vertical-align: middle;\n",
       "    }\n",
       "\n",
       "    .dataframe tbody tr th {\n",
       "        vertical-align: top;\n",
       "    }\n",
       "\n",
       "    .dataframe thead th {\n",
       "        text-align: right;\n",
       "    }\n",
       "</style>\n",
       "<table border=\"1\" class=\"dataframe\">\n",
       "  <thead>\n",
       "    <tr style=\"text-align: right;\">\n",
       "      <th></th>\n",
       "      <th>OS</th>\n",
       "      <th>mean</th>\n",
       "      <th>median</th>\n",
       "    </tr>\n",
       "  </thead>\n",
       "  <tbody>\n",
       "    <tr>\n",
       "      <th>3</th>\n",
       "      <td>mac</td>\n",
       "      <td>193875.333333</td>\n",
       "      <td>169900.0</td>\n",
       "    </tr>\n",
       "    <tr>\n",
       "      <th>6</th>\n",
       "      <td>windows</td>\n",
       "      <td>77707.967532</td>\n",
       "      <td>62550.0</td>\n",
       "    </tr>\n",
       "    <tr>\n",
       "      <th>5</th>\n",
       "      <td>ubuntu</td>\n",
       "      <td>47990.000000</td>\n",
       "      <td>47990.0</td>\n",
       "    </tr>\n",
       "    <tr>\n",
       "      <th>2</th>\n",
       "      <td>dos</td>\n",
       "      <td>42513.625000</td>\n",
       "      <td>44495.0</td>\n",
       "    </tr>\n",
       "    <tr>\n",
       "      <th>1</th>\n",
       "      <td>chrome</td>\n",
       "      <td>25606.687500</td>\n",
       "      <td>23490.5</td>\n",
       "    </tr>\n",
       "    <tr>\n",
       "      <th>0</th>\n",
       "      <td>android</td>\n",
       "      <td>14990.000000</td>\n",
       "      <td>14990.0</td>\n",
       "    </tr>\n",
       "    <tr>\n",
       "      <th>4</th>\n",
       "      <td>other</td>\n",
       "      <td>13845.500000</td>\n",
       "      <td>13845.5</td>\n",
       "    </tr>\n",
       "  </tbody>\n",
       "</table>\n",
       "</div>"
      ],
      "text/plain": [
       "        OS           mean    median\n",
       "3      mac  193875.333333  169900.0\n",
       "6  windows   77707.967532   62550.0\n",
       "5   ubuntu   47990.000000   47990.0\n",
       "2      dos   42513.625000   44495.0\n",
       "1   chrome   25606.687500   23490.5\n",
       "0  android   14990.000000   14990.0\n",
       "4    other   13845.500000   13845.5"
      ]
     },
     "execution_count": 84,
     "metadata": {},
     "output_type": "execute_result"
    }
   ],
   "source": [
    "os_stats = df.groupby('OS')['price'].agg(['mean', 'median']).reset_index().sort_values(by=['mean', 'median'],\n",
    "                                                                                       ascending=[False, False])\n",
    "os_stats"
   ]
  },
  {
   "cell_type": "code",
   "execution_count": 85,
   "id": "1c88466f",
   "metadata": {
    "execution": {
     "iopub.execute_input": "2024-03-13T08:24:37.297152Z",
     "iopub.status.busy": "2024-03-13T08:24:37.296046Z",
     "iopub.status.idle": "2024-03-13T08:24:37.305610Z",
     "shell.execute_reply": "2024-03-13T08:24:37.304458Z"
    },
    "papermill": {
     "duration": 0.061853,
     "end_time": "2024-03-13T08:24:37.307859",
     "exception": false,
     "start_time": "2024-03-13T08:24:37.246006",
     "status": "completed"
    },
    "tags": []
   },
   "outputs": [
    {
     "data": {
      "text/plain": [
       "year_of_warranty\n",
       "1                 900\n",
       "2                  63\n",
       "No information     18\n",
       "3                  10\n",
       "Name: count, dtype: int64"
      ]
     },
     "execution_count": 85,
     "metadata": {},
     "output_type": "execute_result"
    }
   ],
   "source": [
    "# Let's explore the year_of_warranty column\n",
    "df['year_of_warranty'].value_counts()"
   ]
  },
  {
   "cell_type": "markdown",
   "id": "4589989a",
   "metadata": {
    "papermill": {
     "duration": 0.04609,
     "end_time": "2024-03-13T08:24:37.399028",
     "exception": false,
     "start_time": "2024-03-13T08:24:37.352938",
     "status": "completed"
    },
    "tags": []
   },
   "source": [
    "So we have got some effectively NULL values in here."
   ]
  },
  {
   "cell_type": "code",
   "execution_count": 86,
   "id": "bcbff7e5",
   "metadata": {
    "execution": {
     "iopub.execute_input": "2024-03-13T08:24:37.491279Z",
     "iopub.status.busy": "2024-03-13T08:24:37.490533Z",
     "iopub.status.idle": "2024-03-13T08:24:37.741015Z",
     "shell.execute_reply": "2024-03-13T08:24:37.739902Z"
    },
    "papermill": {
     "duration": 0.301004,
     "end_time": "2024-03-13T08:24:37.743459",
     "exception": false,
     "start_time": "2024-03-13T08:24:37.442455",
     "status": "completed"
    },
    "tags": []
   },
   "outputs": [
    {
     "data": {
      "image/png": "[encoded data removed]",
      "text/plain": [
       "<Figure size 1000x700 with 1 Axes>"
      ]
     },
     "metadata": {},
     "output_type": "display_data"
    }
   ],
   "source": [
    "plt.figure(figsize=(10, 7))\n",
    "sns.countplot(data=df, x='year_of_warranty')\n",
    "plt.show()"
   ]
  },
  {
   "cell_type": "code",
   "execution_count": 87,
   "id": "50d03b28",
   "metadata": {
    "execution": {
     "iopub.execute_input": "2024-03-13T08:24:37.833698Z",
     "iopub.status.busy": "2024-03-13T08:24:37.832639Z",
     "iopub.status.idle": "2024-03-13T08:24:37.849681Z",
     "shell.execute_reply": "2024-03-13T08:24:37.848440Z"
    },
    "papermill": {
     "duration": 0.064805,
     "end_time": "2024-03-13T08:24:37.852007",
     "exception": false,
     "start_time": "2024-03-13T08:24:37.787202",
     "status": "completed"
    },
    "tags": []
   },
   "outputs": [
    {
     "data": {
      "text/html": [
       "<div>\n",
       "<style scoped>\n",
       "    .dataframe tbody tr th:only-of-type {\n",
       "        vertical-align: middle;\n",
       "    }\n",
       "\n",
       "    .dataframe tbody tr th {\n",
       "        vertical-align: top;\n",
       "    }\n",
       "\n",
       "    .dataframe thead th {\n",
       "        text-align: right;\n",
       "    }\n",
       "</style>\n",
       "<table border=\"1\" class=\"dataframe\">\n",
       "  <thead>\n",
       "    <tr style=\"text-align: right;\">\n",
       "      <th></th>\n",
       "      <th>year_of_warranty</th>\n",
       "      <th>mean</th>\n",
       "      <th>median</th>\n",
       "    </tr>\n",
       "  </thead>\n",
       "  <tbody>\n",
       "    <tr>\n",
       "      <th>1</th>\n",
       "      <td>2</td>\n",
       "      <td>108679.444444</td>\n",
       "      <td>82990.0</td>\n",
       "    </tr>\n",
       "    <tr>\n",
       "      <th>2</th>\n",
       "      <td>3</td>\n",
       "      <td>98775.500000</td>\n",
       "      <td>82727.0</td>\n",
       "    </tr>\n",
       "    <tr>\n",
       "      <th>0</th>\n",
       "      <td>1</td>\n",
       "      <td>74957.256667</td>\n",
       "      <td>59990.0</td>\n",
       "    </tr>\n",
       "    <tr>\n",
       "      <th>3</th>\n",
       "      <td>No information</td>\n",
       "      <td>70834.166667</td>\n",
       "      <td>66565.0</td>\n",
       "    </tr>\n",
       "  </tbody>\n",
       "</table>\n",
       "</div>"
      ],
      "text/plain": [
       "  year_of_warranty           mean   median\n",
       "1                2  108679.444444  82990.0\n",
       "2                3   98775.500000  82727.0\n",
       "0                1   74957.256667  59990.0\n",
       "3   No information   70834.166667  66565.0"
      ]
     },
     "execution_count": 87,
     "metadata": {},
     "output_type": "execute_result"
    }
   ],
   "source": [
    "warranty_stats = df.groupby('year_of_warranty')['price'].agg(['mean', 'median']).reset_index().sort_values(by=['mean', 'median'],\n",
    "                                                                                                  ascending=[False, False])\n",
    "warranty_stats"
   ]
  },
  {
   "cell_type": "code",
   "execution_count": null,
   "id": "8d447169",
   "metadata": {
    "execution": {
     "iopub.execute_input": "2024-03-13T08:23:56.067077Z",
     "iopub.status.busy": "2024-03-13T08:23:56.065856Z",
     "iopub.status.idle": "2024-03-13T08:23:56.075661Z",
     "shell.execute_reply": "2024-03-13T08:23:56.074378Z",
     "shell.execute_reply.started": "2024-03-13T08:23:56.067022Z"
    },
    "papermill": {
     "duration": 0.044362,
     "end_time": "2024-03-13T08:24:37.941186",
     "exception": false,
     "start_time": "2024-03-13T08:24:37.896824",
     "status": "completed"
    },
    "tags": []
   },
   "outputs": [],
   "source": []
  },
  {
   "cell_type": "code",
   "execution_count": null,
   "id": "2a615847",
   "metadata": {
    "papermill": {
     "duration": 0.045232,
     "end_time": "2024-03-13T08:24:38.030780",
     "exception": false,
     "start_time": "2024-03-13T08:24:37.985548",
     "status": "completed"
    },
    "tags": []
   },
   "outputs": [],
   "source": []
  }
 ],
 "metadata": {
  "kaggle": {
   "accelerator": "none",
   "dataSources": [
    {
     "datasetId": 4567907,
     "sourceId": 7801134,
     "sourceType": "datasetVersion"
    }
   ],
   "dockerImageVersionId": 30664,
   "isGpuEnabled": false,
   "isInternetEnabled": true,
   "language": "python",
   "sourceType": "notebook"
  },
  "kernelspec": {
   "display_name": "Python 3",
   "language": "python",
   "name": "python3"
  },
  "language_info": {
   "codemirror_mode": {
    "name": "ipython",
    "version": 3
   },
   "file_extension": ".py",
   "mimetype": "text/x-python",
   "name": "python",
   "nbconvert_exporter": "python",
   "pygments_lexer": "ipython3",
   "version": "3.10.13"
  },
  "papermill": {
   "default_parameters": {},
   "duration": 25.208351,
   "end_time": "2024-03-13T08:24:38.800546",
   "environment_variables": {},
   "exception": null,
   "input_path": "__notebook__.ipynb",
   "output_path": "__notebook__.ipynb",
   "parameters": {},
   "start_time": "2024-03-13T08:24:13.592195",
   "version": "2.5.0"
  }
 },
 "nbformat": 4,
 "nbformat_minor": 5
}
